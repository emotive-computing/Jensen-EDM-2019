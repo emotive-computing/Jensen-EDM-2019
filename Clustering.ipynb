{
 "cells": [
  {
   "cell_type": "markdown",
   "metadata": {},
   "source": [
    "Import necessary packages"
   ]
  },
  {
   "cell_type": "code",
   "execution_count": 1,
   "metadata": {},
   "outputs": [],
   "source": [
    "from functions import *\n",
    "\n",
    "%matplotlib inline"
   ]
  },
  {
   "cell_type": "markdown",
   "metadata": {},
   "source": [
    "Set appropriate parameters"
   ]
  },
  {
   "cell_type": "code",
   "execution_count": 2,
   "metadata": {},
   "outputs": [],
   "source": [
    "activityfile = '../Data (Algebra 1)/YearUsageActivity.csv'\n",
    "bgmm = BayesianGaussianMixture(n_components=5, max_iter=1000)\n",
    "birch = Birch(n_clusters=5)\n",
    "kmeans = KMeans(n_clusters=5)"
   ]
  },
  {
   "cell_type": "markdown",
   "metadata": {},
   "source": [
    "# Import Data"
   ]
  },
  {
   "cell_type": "markdown",
   "metadata": {},
   "source": [
    "Load user data into a dataframe. Stephen compiled this data."
   ]
  },
  {
   "cell_type": "code",
   "execution_count": 3,
   "metadata": {},
   "outputs": [],
   "source": [
    "userdf = readData(activityfile)"
   ]
  },
  {
   "cell_type": "code",
   "execution_count": 4,
   "metadata": {},
   "outputs": [],
   "source": [
    "columnLabels = getColumnLabels(userdf)"
   ]
  },
  {
   "cell_type": "markdown",
   "metadata": {},
   "source": [
    "See Data Exploration to show why we are replacing session time and number of sessions with the 99th percentile value"
   ]
  },
  {
   "cell_type": "code",
   "execution_count": 5,
   "metadata": {
    "scrolled": true
   },
   "outputs": [],
   "source": [
    "userdf = replaceDataFrameOutliers(userdf,['sessionTime','NumSessions'])"
   ]
  },
  {
   "cell_type": "code",
   "execution_count": 6,
   "metadata": {},
   "outputs": [
    {
     "name": "stdout",
     "output_type": "stream",
     "text": [
      "235756 samples\n"
     ]
    },
    {
     "data": {
      "text/html": [
       "<div>\n",
       "<style scoped>\n",
       "    .dataframe tbody tr th:only-of-type {\n",
       "        vertical-align: middle;\n",
       "    }\n",
       "\n",
       "    .dataframe tbody tr th {\n",
       "        vertical-align: top;\n",
       "    }\n",
       "\n",
       "    .dataframe thead th {\n",
       "        text-align: right;\n",
       "    }\n",
       "</style>\n",
       "<table border=\"1\" class=\"dataframe\">\n",
       "  <thead>\n",
       "    <tr style=\"text-align: right;\">\n",
       "      <th></th>\n",
       "      <th>desktop</th>\n",
       "      <th>spring</th>\n",
       "      <th>hour</th>\n",
       "      <th>sessionTime</th>\n",
       "      <th>NumSessions</th>\n",
       "    </tr>\n",
       "  </thead>\n",
       "  <tbody>\n",
       "    <tr>\n",
       "      <th>mean</th>\n",
       "      <td>0.85</td>\n",
       "      <td>0.62</td>\n",
       "      <td>14.44</td>\n",
       "      <td>22.47</td>\n",
       "      <td>9.08</td>\n",
       "    </tr>\n",
       "    <tr>\n",
       "      <th>std</th>\n",
       "      <td>0.28</td>\n",
       "      <td>0.41</td>\n",
       "      <td>4.41</td>\n",
       "      <td>21.94</td>\n",
       "      <td>13.02</td>\n",
       "    </tr>\n",
       "    <tr>\n",
       "      <th>min</th>\n",
       "      <td>0.00</td>\n",
       "      <td>0.00</td>\n",
       "      <td>0.00</td>\n",
       "      <td>0.50</td>\n",
       "      <td>1.00</td>\n",
       "    </tr>\n",
       "    <tr>\n",
       "      <th>25%</th>\n",
       "      <td>0.83</td>\n",
       "      <td>0.21</td>\n",
       "      <td>12.75</td>\n",
       "      <td>1.00</td>\n",
       "      <td>1.00</td>\n",
       "    </tr>\n",
       "    <tr>\n",
       "      <th>50%</th>\n",
       "      <td>1.00</td>\n",
       "      <td>0.77</td>\n",
       "      <td>15.00</td>\n",
       "      <td>19.25</td>\n",
       "      <td>3.00</td>\n",
       "    </tr>\n",
       "    <tr>\n",
       "      <th>75%</th>\n",
       "      <td>1.00</td>\n",
       "      <td>1.00</td>\n",
       "      <td>17.00</td>\n",
       "      <td>34.50</td>\n",
       "      <td>12.00</td>\n",
       "    </tr>\n",
       "    <tr>\n",
       "      <th>max</th>\n",
       "      <td>1.00</td>\n",
       "      <td>1.00</td>\n",
       "      <td>23.00</td>\n",
       "      <td>100.67</td>\n",
       "      <td>67.00</td>\n",
       "    </tr>\n",
       "  </tbody>\n",
       "</table>\n",
       "</div>"
      ],
      "text/plain": [
       "      desktop  spring   hour  sessionTime  NumSessions\n",
       "mean     0.85    0.62  14.44        22.47         9.08\n",
       "std      0.28    0.41   4.41        21.94        13.02\n",
       "min      0.00    0.00   0.00         0.50         1.00\n",
       "25%      0.83    0.21  12.75         1.00         1.00\n",
       "50%      1.00    0.77  15.00        19.25         3.00\n",
       "75%      1.00    1.00  17.00        34.50        12.00\n",
       "max      1.00    1.00  23.00       100.67        67.00"
      ]
     },
     "execution_count": 6,
     "metadata": {},
     "output_type": "execute_result"
    }
   ],
   "source": [
    "summaryStats(userdf)"
   ]
  },
  {
   "cell_type": "markdown",
   "metadata": {},
   "source": [
    "We will now scale these columns to lie in $[0,1]$"
   ]
  },
  {
   "cell_type": "code",
   "execution_count": 7,
   "metadata": {},
   "outputs": [],
   "source": [
    "userdf, scalers = scaleDataframe(userdf)"
   ]
  },
  {
   "cell_type": "markdown",
   "metadata": {},
   "source": [
    "# Feature Selection"
   ]
  },
  {
   "cell_type": "markdown",
   "metadata": {},
   "source": [
    "From the previous analysis, it seems like the features do not correlate with each other, but we will plot a correlation table just to be sure."
   ]
  },
  {
   "cell_type": "code",
   "execution_count": 8,
   "metadata": {},
   "outputs": [
    {
     "data": {
      "text/html": [
       "<style  type=\"text/css\" >\n",
       "    #T_ad7c0d9c_d641_11e8_b7ba_d66a6a003aa5row0_col0 {\n",
       "            background-color:  #b40426;\n",
       "        }    #T_ad7c0d9c_d641_11e8_b7ba_d66a6a003aa5row0_col1 {\n",
       "            background-color:  #3b4cc0;\n",
       "        }    #T_ad7c0d9c_d641_11e8_b7ba_d66a6a003aa5row0_col2 {\n",
       "            background-color:  #8fb1fe;\n",
       "        }    #T_ad7c0d9c_d641_11e8_b7ba_d66a6a003aa5row0_col3 {\n",
       "            background-color:  #3b4cc0;\n",
       "        }    #T_ad7c0d9c_d641_11e8_b7ba_d66a6a003aa5row0_col4 {\n",
       "            background-color:  #3b4cc0;\n",
       "        }    #T_ad7c0d9c_d641_11e8_b7ba_d66a6a003aa5row1_col0 {\n",
       "            background-color:  #97b8ff;\n",
       "        }    #T_ad7c0d9c_d641_11e8_b7ba_d66a6a003aa5row1_col1 {\n",
       "            background-color:  #b40426;\n",
       "        }    #T_ad7c0d9c_d641_11e8_b7ba_d66a6a003aa5row1_col2 {\n",
       "            background-color:  #5e7de7;\n",
       "        }    #T_ad7c0d9c_d641_11e8_b7ba_d66a6a003aa5row1_col3 {\n",
       "            background-color:  #a1c0ff;\n",
       "        }    #T_ad7c0d9c_d641_11e8_b7ba_d66a6a003aa5row1_col4 {\n",
       "            background-color:  #a3c2fe;\n",
       "        }    #T_ad7c0d9c_d641_11e8_b7ba_d66a6a003aa5row2_col0 {\n",
       "            background-color:  #bed2f6;\n",
       "        }    #T_ad7c0d9c_d641_11e8_b7ba_d66a6a003aa5row2_col1 {\n",
       "            background-color:  #3b4cc0;\n",
       "        }    #T_ad7c0d9c_d641_11e8_b7ba_d66a6a003aa5row2_col2 {\n",
       "            background-color:  #b40426;\n",
       "        }    #T_ad7c0d9c_d641_11e8_b7ba_d66a6a003aa5row2_col3 {\n",
       "            background-color:  #6485ec;\n",
       "        }    #T_ad7c0d9c_d641_11e8_b7ba_d66a6a003aa5row2_col4 {\n",
       "            background-color:  #7699f6;\n",
       "        }    #T_ad7c0d9c_d641_11e8_b7ba_d66a6a003aa5row3_col0 {\n",
       "            background-color:  #5470de;\n",
       "        }    #T_ad7c0d9c_d641_11e8_b7ba_d66a6a003aa5row3_col1 {\n",
       "            background-color:  #5f7fe8;\n",
       "        }    #T_ad7c0d9c_d641_11e8_b7ba_d66a6a003aa5row3_col2 {\n",
       "            background-color:  #4257c9;\n",
       "        }    #T_ad7c0d9c_d641_11e8_b7ba_d66a6a003aa5row3_col3 {\n",
       "            background-color:  #b40426;\n",
       "        }    #T_ad7c0d9c_d641_11e8_b7ba_d66a6a003aa5row3_col4 {\n",
       "            background-color:  #f59f80;\n",
       "        }    #T_ad7c0d9c_d641_11e8_b7ba_d66a6a003aa5row4_col0 {\n",
       "            background-color:  #3b4cc0;\n",
       "        }    #T_ad7c0d9c_d641_11e8_b7ba_d66a6a003aa5row4_col1 {\n",
       "            background-color:  #4961d2;\n",
       "        }    #T_ad7c0d9c_d641_11e8_b7ba_d66a6a003aa5row4_col2 {\n",
       "            background-color:  #3b4cc0;\n",
       "        }    #T_ad7c0d9c_d641_11e8_b7ba_d66a6a003aa5row4_col3 {\n",
       "            background-color:  #f7a889;\n",
       "        }    #T_ad7c0d9c_d641_11e8_b7ba_d66a6a003aa5row4_col4 {\n",
       "            background-color:  #b40426;\n",
       "        }</style>  \n",
       "<table id=\"T_ad7c0d9c_d641_11e8_b7ba_d66a6a003aa5\" > \n",
       "<thead>    <tr> \n",
       "        <th class=\"blank level0\" ></th> \n",
       "        <th class=\"col_heading level0 col0\" >desktop</th> \n",
       "        <th class=\"col_heading level0 col1\" >spring</th> \n",
       "        <th class=\"col_heading level0 col2\" >hour</th> \n",
       "        <th class=\"col_heading level0 col3\" >sessionTime</th> \n",
       "        <th class=\"col_heading level0 col4\" >NumSessions</th> \n",
       "    </tr></thead> \n",
       "<tbody>    <tr> \n",
       "        <th id=\"T_ad7c0d9c_d641_11e8_b7ba_d66a6a003aa5level0_row0\" class=\"row_heading level0 row0\" >desktop</th> \n",
       "        <td id=\"T_ad7c0d9c_d641_11e8_b7ba_d66a6a003aa5row0_col0\" class=\"data row0 col0\" >1.0</td> \n",
       "        <td id=\"T_ad7c0d9c_d641_11e8_b7ba_d66a6a003aa5row0_col1\" class=\"data row0 col1\" >-0.01</td> \n",
       "        <td id=\"T_ad7c0d9c_d641_11e8_b7ba_d66a6a003aa5row0_col2\" class=\"data row0 col2\" >0.15</td> \n",
       "        <td id=\"T_ad7c0d9c_d641_11e8_b7ba_d66a6a003aa5row0_col3\" class=\"data row0 col3\" >-0.28</td> \n",
       "        <td id=\"T_ad7c0d9c_d641_11e8_b7ba_d66a6a003aa5row0_col4\" class=\"data row0 col4\" >-0.4</td> \n",
       "    </tr>    <tr> \n",
       "        <th id=\"T_ad7c0d9c_d641_11e8_b7ba_d66a6a003aa5level0_row1\" class=\"row_heading level0 row1\" >spring</th> \n",
       "        <td id=\"T_ad7c0d9c_d641_11e8_b7ba_d66a6a003aa5row1_col0\" class=\"data row1 col0\" >-0.01</td> \n",
       "        <td id=\"T_ad7c0d9c_d641_11e8_b7ba_d66a6a003aa5row1_col1\" class=\"data row1 col1\" >1.0</td> \n",
       "        <td id=\"T_ad7c0d9c_d641_11e8_b7ba_d66a6a003aa5row1_col2\" class=\"data row1 col2\" >-0.01</td> \n",
       "        <td id=\"T_ad7c0d9c_d641_11e8_b7ba_d66a6a003aa5row1_col3\" class=\"data row1 col3\" >0.11</td> \n",
       "        <td id=\"T_ad7c0d9c_d641_11e8_b7ba_d66a6a003aa5row1_col4\" class=\"data row1 col4\" >0.04</td> \n",
       "    </tr>    <tr> \n",
       "        <th id=\"T_ad7c0d9c_d641_11e8_b7ba_d66a6a003aa5level0_row2\" class=\"row_heading level0 row2\" >hour</th> \n",
       "        <td id=\"T_ad7c0d9c_d641_11e8_b7ba_d66a6a003aa5row2_col0\" class=\"data row2 col0\" >0.15</td> \n",
       "        <td id=\"T_ad7c0d9c_d641_11e8_b7ba_d66a6a003aa5row2_col1\" class=\"data row2 col1\" >-0.01</td> \n",
       "        <td id=\"T_ad7c0d9c_d641_11e8_b7ba_d66a6a003aa5row2_col2\" class=\"data row2 col2\" >1.0</td> \n",
       "        <td id=\"T_ad7c0d9c_d641_11e8_b7ba_d66a6a003aa5row2_col3\" class=\"data row2 col3\" >-0.11</td> \n",
       "        <td id=\"T_ad7c0d9c_d641_11e8_b7ba_d66a6a003aa5row2_col4\" class=\"data row2 col4\" >-0.14</td> \n",
       "    </tr>    <tr> \n",
       "        <th id=\"T_ad7c0d9c_d641_11e8_b7ba_d66a6a003aa5level0_row3\" class=\"row_heading level0 row3\" >sessionTime</th> \n",
       "        <td id=\"T_ad7c0d9c_d641_11e8_b7ba_d66a6a003aa5row3_col0\" class=\"data row3 col0\" >-0.28</td> \n",
       "        <td id=\"T_ad7c0d9c_d641_11e8_b7ba_d66a6a003aa5row3_col1\" class=\"data row3 col1\" >0.11</td> \n",
       "        <td id=\"T_ad7c0d9c_d641_11e8_b7ba_d66a6a003aa5row3_col2\" class=\"data row3 col2\" >-0.11</td> \n",
       "        <td id=\"T_ad7c0d9c_d641_11e8_b7ba_d66a6a003aa5row3_col3\" class=\"data row3 col3\" >1.0</td> \n",
       "        <td id=\"T_ad7c0d9c_d641_11e8_b7ba_d66a6a003aa5row3_col4\" class=\"data row3 col4\" >0.63</td> \n",
       "    </tr>    <tr> \n",
       "        <th id=\"T_ad7c0d9c_d641_11e8_b7ba_d66a6a003aa5level0_row4\" class=\"row_heading level0 row4\" >NumSessions</th> \n",
       "        <td id=\"T_ad7c0d9c_d641_11e8_b7ba_d66a6a003aa5row4_col0\" class=\"data row4 col0\" >-0.4</td> \n",
       "        <td id=\"T_ad7c0d9c_d641_11e8_b7ba_d66a6a003aa5row4_col1\" class=\"data row4 col1\" >0.04</td> \n",
       "        <td id=\"T_ad7c0d9c_d641_11e8_b7ba_d66a6a003aa5row4_col2\" class=\"data row4 col2\" >-0.14</td> \n",
       "        <td id=\"T_ad7c0d9c_d641_11e8_b7ba_d66a6a003aa5row4_col3\" class=\"data row4 col3\" >0.63</td> \n",
       "        <td id=\"T_ad7c0d9c_d641_11e8_b7ba_d66a6a003aa5row4_col4\" class=\"data row4 col4\" >1.0</td> \n",
       "    </tr></tbody> \n",
       "</table> "
      ],
      "text/plain": [
       "<pandas.io.formats.style.Styler at 0x1aa94fd0>"
      ]
     },
     "execution_count": 8,
     "metadata": {},
     "output_type": "execute_result"
    }
   ],
   "source": [
    "makeCorrelationTable(userdf)"
   ]
  },
  {
   "cell_type": "markdown",
   "metadata": {},
   "source": [
    "# Clustering"
   ]
  },
  {
   "cell_type": "markdown",
   "metadata": {},
   "source": [
    "Sample a smaller subset of users to speed up calculations."
   ]
  },
  {
   "cell_type": "code",
   "execution_count": 9,
   "metadata": {},
   "outputs": [],
   "source": [
    "data = getSample(userdf, 2000).values"
   ]
  },
  {
   "cell_type": "markdown",
   "metadata": {},
   "source": [
    "## Determine Number of Clusters"
   ]
  },
  {
   "cell_type": "markdown",
   "metadata": {},
   "source": [
    "We will use the silhouette score to determine the optimal number of clusters. The silhouette score assigns a value in $[-1,1]$ to each data point, where values closer to 1 indicate a higher certainty of cluster belonging. We can evaluate the performance of the clusters using the following silhouette scores [(source)](https://www.stat.berkeley.edu/~spector/s133/Clus.html):\n",
    "\n",
    "| Score Range | Evaluation |\n",
    "|     ---     |     ---    |\n",
    "|  0.71-1.0   | A strong structure has been found  |\n",
    "|  0.51-0.70  | A reasonable structure has been found  |\n",
    "|  0.26-0.50  | The structure is weak and could be artificial  |\n",
    "|    < 0.25   | No substantial structure has been found  |"
   ]
  },
  {
   "cell_type": "markdown",
   "metadata": {},
   "source": [
    "We'll use k-means to test a number of clusters between 2 and 20."
   ]
  },
  {
   "cell_type": "code",
   "execution_count": 10,
   "metadata": {},
   "outputs": [
    {
     "name": "stdout",
     "output_type": "stream",
     "text": [
      "For 2 clusters, average silhouette score is 0.3838338611356747\n",
      "For 3 clusters, average silhouette score is 0.39926324092098187\n",
      "For 4 clusters, average silhouette score is 0.3589997274794503\n",
      "For 5 clusters, average silhouette score is 0.37125005908304887\n",
      "For 6 clusters, average silhouette score is 0.36055825341740466\n",
      "For 7 clusters, average silhouette score is 0.34953000415980945\n",
      "For 8 clusters, average silhouette score is 0.35220611880808744\n",
      "For 9 clusters, average silhouette score is 0.3487297363795597\n",
      "For 10 clusters, average silhouette score is 0.3217014740645213\n",
      "For 11 clusters, average silhouette score is 0.31927959638755665\n",
      "For 12 clusters, average silhouette score is 0.3223216473393434\n",
      "For 13 clusters, average silhouette score is 0.32765575194836655\n",
      "For 14 clusters, average silhouette score is 0.2940397112826659\n",
      "For 15 clusters, average silhouette score is 0.3093888436539323\n",
      "For 16 clusters, average silhouette score is 0.3135550628497653\n",
      "For 17 clusters, average silhouette score is 0.29689858220836407\n",
      "For 18 clusters, average silhouette score is 0.2795056973792673\n",
      "For 19 clusters, average silhouette score is 0.31239216641997\n",
      "For 20 clusters, average silhouette score is 0.3048398155199355\n"
     ]
    }
   ],
   "source": [
    "silhouetteSummary(range(2,21), data)"
   ]
  },
  {
   "cell_type": "code",
   "execution_count": 11,
   "metadata": {},
   "outputs": [
    {
     "name": "stdout",
     "output_type": "stream",
     "text": [
      "235756 samples\n"
     ]
    },
    {
     "data": {
      "text/html": [
       "<div>\n",
       "<style scoped>\n",
       "    .dataframe tbody tr th:only-of-type {\n",
       "        vertical-align: middle;\n",
       "    }\n",
       "\n",
       "    .dataframe tbody tr th {\n",
       "        vertical-align: top;\n",
       "    }\n",
       "\n",
       "    .dataframe thead th {\n",
       "        text-align: right;\n",
       "    }\n",
       "</style>\n",
       "<table border=\"1\" class=\"dataframe\">\n",
       "  <thead>\n",
       "    <tr style=\"text-align: right;\">\n",
       "      <th></th>\n",
       "      <th>desktop</th>\n",
       "      <th>spring</th>\n",
       "      <th>hour</th>\n",
       "      <th>sessionTime</th>\n",
       "      <th>NumSessions</th>\n",
       "    </tr>\n",
       "  </thead>\n",
       "  <tbody>\n",
       "    <tr>\n",
       "      <th>mean</th>\n",
       "      <td>0.85</td>\n",
       "      <td>0.62</td>\n",
       "      <td>0.63</td>\n",
       "      <td>0.22</td>\n",
       "      <td>0.12</td>\n",
       "    </tr>\n",
       "    <tr>\n",
       "      <th>std</th>\n",
       "      <td>0.28</td>\n",
       "      <td>0.41</td>\n",
       "      <td>0.19</td>\n",
       "      <td>0.22</td>\n",
       "      <td>0.20</td>\n",
       "    </tr>\n",
       "    <tr>\n",
       "      <th>min</th>\n",
       "      <td>0.00</td>\n",
       "      <td>0.00</td>\n",
       "      <td>0.00</td>\n",
       "      <td>0.00</td>\n",
       "      <td>0.00</td>\n",
       "    </tr>\n",
       "    <tr>\n",
       "      <th>25%</th>\n",
       "      <td>0.83</td>\n",
       "      <td>0.21</td>\n",
       "      <td>0.55</td>\n",
       "      <td>0.00</td>\n",
       "      <td>0.00</td>\n",
       "    </tr>\n",
       "    <tr>\n",
       "      <th>50%</th>\n",
       "      <td>1.00</td>\n",
       "      <td>0.77</td>\n",
       "      <td>0.65</td>\n",
       "      <td>0.19</td>\n",
       "      <td>0.03</td>\n",
       "    </tr>\n",
       "    <tr>\n",
       "      <th>75%</th>\n",
       "      <td>1.00</td>\n",
       "      <td>1.00</td>\n",
       "      <td>0.74</td>\n",
       "      <td>0.34</td>\n",
       "      <td>0.17</td>\n",
       "    </tr>\n",
       "    <tr>\n",
       "      <th>max</th>\n",
       "      <td>1.00</td>\n",
       "      <td>1.00</td>\n",
       "      <td>1.00</td>\n",
       "      <td>1.00</td>\n",
       "      <td>1.00</td>\n",
       "    </tr>\n",
       "  </tbody>\n",
       "</table>\n",
       "</div>"
      ],
      "text/plain": [
       "      desktop  spring  hour  sessionTime  NumSessions\n",
       "mean     0.85    0.62  0.63         0.22         0.12\n",
       "std      0.28    0.41  0.19         0.22         0.20\n",
       "min      0.00    0.00  0.00         0.00         0.00\n",
       "25%      0.83    0.21  0.55         0.00         0.00\n",
       "50%      1.00    0.77  0.65         0.19         0.03\n",
       "75%      1.00    1.00  0.74         0.34         0.17\n",
       "max      1.00    1.00  1.00         1.00         1.00"
      ]
     },
     "execution_count": 11,
     "metadata": {},
     "output_type": "execute_result"
    }
   ],
   "source": [
    "summaryStats(userdf)"
   ]
  },
  {
   "cell_type": "markdown",
   "metadata": {},
   "source": [
    "## Bayesian GMM"
   ]
  },
  {
   "cell_type": "markdown",
   "metadata": {},
   "source": [
    "Fit the model"
   ]
  },
  {
   "cell_type": "code",
   "execution_count": 12,
   "metadata": {},
   "outputs": [],
   "source": [
    "bgmmLabels, bgmm = cluster(bgmm, userdf)"
   ]
  },
  {
   "cell_type": "markdown",
   "metadata": {},
   "source": [
    "Get cluster centers"
   ]
  },
  {
   "cell_type": "code",
   "execution_count": 13,
   "metadata": {},
   "outputs": [],
   "source": [
    "bgmmReps = bgmm.means_"
   ]
  },
  {
   "cell_type": "markdown",
   "metadata": {},
   "source": [
    "Display the results"
   ]
  },
  {
   "cell_type": "code",
   "execution_count": 14,
   "metadata": {
    "scrolled": true
   },
   "outputs": [
    {
     "data": {
      "text/html": [
       "<div>\n",
       "<style scoped>\n",
       "    .dataframe tbody tr th:only-of-type {\n",
       "        vertical-align: middle;\n",
       "    }\n",
       "\n",
       "    .dataframe tbody tr th {\n",
       "        vertical-align: top;\n",
       "    }\n",
       "\n",
       "    .dataframe thead th {\n",
       "        text-align: right;\n",
       "    }\n",
       "</style>\n",
       "<table border=\"1\" class=\"dataframe\">\n",
       "  <thead>\n",
       "    <tr style=\"text-align: right;\">\n",
       "      <th></th>\n",
       "      <th>desktop</th>\n",
       "      <th>spring</th>\n",
       "      <th>hour</th>\n",
       "      <th>sessionTime</th>\n",
       "      <th>NumSessions</th>\n",
       "      <th>Proportions</th>\n",
       "    </tr>\n",
       "  </thead>\n",
       "  <tbody>\n",
       "    <tr>\n",
       "      <th>0</th>\n",
       "      <td>0.66</td>\n",
       "      <td>0.72</td>\n",
       "      <td>0.61</td>\n",
       "      <td>0.34</td>\n",
       "      <td>0.44</td>\n",
       "      <td>0.15</td>\n",
       "    </tr>\n",
       "    <tr>\n",
       "      <th>1</th>\n",
       "      <td>1.00</td>\n",
       "      <td>1.00</td>\n",
       "      <td>0.64</td>\n",
       "      <td>0.17</td>\n",
       "      <td>0.02</td>\n",
       "      <td>0.28</td>\n",
       "    </tr>\n",
       "    <tr>\n",
       "      <th>2</th>\n",
       "      <td>1.00</td>\n",
       "      <td>0.57</td>\n",
       "      <td>0.64</td>\n",
       "      <td>0.25</td>\n",
       "      <td>0.15</td>\n",
       "      <td>0.22</td>\n",
       "    </tr>\n",
       "    <tr>\n",
       "      <th>3</th>\n",
       "      <td>0.40</td>\n",
       "      <td>0.61</td>\n",
       "      <td>0.58</td>\n",
       "      <td>0.28</td>\n",
       "      <td>0.08</td>\n",
       "      <td>0.17</td>\n",
       "    </tr>\n",
       "    <tr>\n",
       "      <th>4</th>\n",
       "      <td>1.00</td>\n",
       "      <td>0.00</td>\n",
       "      <td>0.64</td>\n",
       "      <td>0.10</td>\n",
       "      <td>0.01</td>\n",
       "      <td>0.17</td>\n",
       "    </tr>\n",
       "  </tbody>\n",
       "</table>\n",
       "</div>"
      ],
      "text/plain": [
       "   desktop  spring  hour  sessionTime  NumSessions  Proportions\n",
       "0     0.66    0.72  0.61         0.34         0.44         0.15\n",
       "1     1.00    1.00  0.64         0.17         0.02         0.28\n",
       "2     1.00    0.57  0.64         0.25         0.15         0.22\n",
       "3     0.40    0.61  0.58         0.28         0.08         0.17\n",
       "4     1.00    0.00  0.64         0.10         0.01         0.17"
      ]
     },
     "execution_count": 14,
     "metadata": {},
     "output_type": "execute_result"
    },
    {
     "data": {
      "image/png": "[encoded data removed]",
      "text/plain": [
       "<Figure size 432x288 with 1 Axes>"
      ]
     },
     "metadata": {
      "needs_background": "light"
     },
     "output_type": "display_data"
    }
   ],
   "source": [
    "displayClusters(bgmmLabels, bgmmReps,columnLabels)"
   ]
  },
  {
   "cell_type": "code",
   "execution_count": 16,
   "metadata": {},
   "outputs": [],
   "source": [
    "makeTree(userdf.values,bgmmLabels,'Usage Images/bgmmTree',3,columnLabels)"
   ]
  },
  {
   "cell_type": "markdown",
   "metadata": {},
   "source": [
    "## Birch"
   ]
  },
  {
   "cell_type": "markdown",
   "metadata": {},
   "source": [
    "Fit the model"
   ]
  },
  {
   "cell_type": "code",
   "execution_count": 17,
   "metadata": {},
   "outputs": [],
   "source": [
    "birchLabels, birch = cluster(birch, userdf)"
   ]
  },
  {
   "cell_type": "markdown",
   "metadata": {},
   "source": [
    "Find mean of each cluster"
   ]
  },
  {
   "cell_type": "code",
   "execution_count": 18,
   "metadata": {},
   "outputs": [],
   "source": [
    "n_samples,n_features = userdf.values.shape"
   ]
  },
  {
   "cell_type": "code",
   "execution_count": 19,
   "metadata": {},
   "outputs": [],
   "source": [
    "birchLabelCounts = countLabels(birchLabels)\n",
    "birchReps = np.zeros((len(birchLabelCounts),n_features))\n",
    "for key in birchLabelCounts:\n",
    "    clusterCore = userdf.values[birchLabels == key]\n",
    "    clusterMean = np.mean(clusterCore, axis=0)\n",
    "    birchReps[key,:] = clusterMean"
   ]
  },
  {
   "cell_type": "markdown",
   "metadata": {},
   "source": [
    "Display the results"
   ]
  },
  {
   "cell_type": "code",
   "execution_count": 20,
   "metadata": {},
   "outputs": [
    {
     "data": {
      "text/html": [
       "<div>\n",
       "<style scoped>\n",
       "    .dataframe tbody tr th:only-of-type {\n",
       "        vertical-align: middle;\n",
       "    }\n",
       "\n",
       "    .dataframe tbody tr th {\n",
       "        vertical-align: top;\n",
       "    }\n",
       "\n",
       "    .dataframe thead th {\n",
       "        text-align: right;\n",
       "    }\n",
       "</style>\n",
       "<table border=\"1\" class=\"dataframe\">\n",
       "  <thead>\n",
       "    <tr style=\"text-align: right;\">\n",
       "      <th></th>\n",
       "      <th>desktop</th>\n",
       "      <th>spring</th>\n",
       "      <th>hour</th>\n",
       "      <th>sessionTime</th>\n",
       "      <th>NumSessions</th>\n",
       "      <th>Proportions</th>\n",
       "    </tr>\n",
       "  </thead>\n",
       "  <tbody>\n",
       "    <tr>\n",
       "      <th>0</th>\n",
       "      <td>0.96</td>\n",
       "      <td>0.85</td>\n",
       "      <td>0.64</td>\n",
       "      <td>0.23</td>\n",
       "      <td>0.09</td>\n",
       "      <td>0.55</td>\n",
       "    </tr>\n",
       "    <tr>\n",
       "      <th>1</th>\n",
       "      <td>0.26</td>\n",
       "      <td>0.16</td>\n",
       "      <td>0.57</td>\n",
       "      <td>0.20</td>\n",
       "      <td>0.11</td>\n",
       "      <td>0.06</td>\n",
       "    </tr>\n",
       "    <tr>\n",
       "      <th>2</th>\n",
       "      <td>0.26</td>\n",
       "      <td>0.93</td>\n",
       "      <td>0.57</td>\n",
       "      <td>0.28</td>\n",
       "      <td>0.14</td>\n",
       "      <td>0.10</td>\n",
       "    </tr>\n",
       "    <tr>\n",
       "      <th>3</th>\n",
       "      <td>0.99</td>\n",
       "      <td>0.04</td>\n",
       "      <td>0.64</td>\n",
       "      <td>0.13</td>\n",
       "      <td>0.03</td>\n",
       "      <td>0.23</td>\n",
       "    </tr>\n",
       "    <tr>\n",
       "      <th>4</th>\n",
       "      <td>0.84</td>\n",
       "      <td>0.72</td>\n",
       "      <td>0.62</td>\n",
       "      <td>0.36</td>\n",
       "      <td>0.70</td>\n",
       "      <td>0.07</td>\n",
       "    </tr>\n",
       "  </tbody>\n",
       "</table>\n",
       "</div>"
      ],
      "text/plain": [
       "   desktop  spring  hour  sessionTime  NumSessions  Proportions\n",
       "0     0.96    0.85  0.64         0.23         0.09         0.55\n",
       "1     0.26    0.16  0.57         0.20         0.11         0.06\n",
       "2     0.26    0.93  0.57         0.28         0.14         0.10\n",
       "3     0.99    0.04  0.64         0.13         0.03         0.23\n",
       "4     0.84    0.72  0.62         0.36         0.70         0.07"
      ]
     },
     "execution_count": 20,
     "metadata": {},
     "output_type": "execute_result"
    },
    {
     "data": {
      "image/png": "[encoded data removed]",
      "text/plain": [
       "<Figure size 432x288 with 1 Axes>"
      ]
     },
     "metadata": {
      "needs_background": "light"
     },
     "output_type": "display_data"
    }
   ],
   "source": [
    "displayClusters(birchLabels, birchReps,columnLabels)"
   ]
  },
  {
   "cell_type": "code",
   "execution_count": 22,
   "metadata": {},
   "outputs": [],
   "source": [
    "makeTree(userdf.values,birchLabels,'Images/birchTree',2,columnLabels)"
   ]
  },
  {
   "cell_type": "markdown",
   "metadata": {},
   "source": [
    "## K-means"
   ]
  },
  {
   "cell_type": "markdown",
   "metadata": {},
   "source": [
    "Fit the model and save the representatives and labels"
   ]
  },
  {
   "cell_type": "code",
   "execution_count": 23,
   "metadata": {},
   "outputs": [],
   "source": [
    "kmeansLabels, kmeans = cluster(kmeans, userdf)"
   ]
  },
  {
   "cell_type": "markdown",
   "metadata": {},
   "source": [
    "Get cluster centers"
   ]
  },
  {
   "cell_type": "code",
   "execution_count": 24,
   "metadata": {},
   "outputs": [],
   "source": [
    "kmeansReps = kmeans.cluster_centers_"
   ]
  },
  {
   "cell_type": "markdown",
   "metadata": {},
   "source": [
    "Display the results"
   ]
  },
  {
   "cell_type": "code",
   "execution_count": 25,
   "metadata": {},
   "outputs": [
    {
     "data": {
      "text/html": [
       "<div>\n",
       "<style scoped>\n",
       "    .dataframe tbody tr th:only-of-type {\n",
       "        vertical-align: middle;\n",
       "    }\n",
       "\n",
       "    .dataframe tbody tr th {\n",
       "        vertical-align: top;\n",
       "    }\n",
       "\n",
       "    .dataframe thead th {\n",
       "        text-align: right;\n",
       "    }\n",
       "</style>\n",
       "<table border=\"1\" class=\"dataframe\">\n",
       "  <thead>\n",
       "    <tr style=\"text-align: right;\">\n",
       "      <th></th>\n",
       "      <th>desktop</th>\n",
       "      <th>spring</th>\n",
       "      <th>hour</th>\n",
       "      <th>sessionTime</th>\n",
       "      <th>NumSessions</th>\n",
       "      <th>Proportions</th>\n",
       "    </tr>\n",
       "  </thead>\n",
       "  <tbody>\n",
       "    <tr>\n",
       "      <th>0</th>\n",
       "      <td>0.99</td>\n",
       "      <td>0.11</td>\n",
       "      <td>0.64</td>\n",
       "      <td>0.13</td>\n",
       "      <td>0.04</td>\n",
       "      <td>0.28</td>\n",
       "    </tr>\n",
       "    <tr>\n",
       "      <th>1</th>\n",
       "      <td>0.99</td>\n",
       "      <td>0.96</td>\n",
       "      <td>0.65</td>\n",
       "      <td>0.14</td>\n",
       "      <td>0.04</td>\n",
       "      <td>0.35</td>\n",
       "    </tr>\n",
       "    <tr>\n",
       "      <th>2</th>\n",
       "      <td>0.27</td>\n",
       "      <td>0.93</td>\n",
       "      <td>0.57</td>\n",
       "      <td>0.29</td>\n",
       "      <td>0.15</td>\n",
       "      <td>0.10</td>\n",
       "    </tr>\n",
       "    <tr>\n",
       "      <th>3</th>\n",
       "      <td>0.90</td>\n",
       "      <td>0.75</td>\n",
       "      <td>0.62</td>\n",
       "      <td>0.45</td>\n",
       "      <td>0.37</td>\n",
       "      <td>0.20</td>\n",
       "    </tr>\n",
       "    <tr>\n",
       "      <th>4</th>\n",
       "      <td>0.30</td>\n",
       "      <td>0.19</td>\n",
       "      <td>0.58</td>\n",
       "      <td>0.21</td>\n",
       "      <td>0.13</td>\n",
       "      <td>0.07</td>\n",
       "    </tr>\n",
       "  </tbody>\n",
       "</table>\n",
       "</div>"
      ],
      "text/plain": [
       "   desktop  spring  hour  sessionTime  NumSessions  Proportions\n",
       "0     0.99    0.11  0.64         0.13         0.04         0.28\n",
       "1     0.99    0.96  0.65         0.14         0.04         0.35\n",
       "2     0.27    0.93  0.57         0.29         0.15         0.10\n",
       "3     0.90    0.75  0.62         0.45         0.37         0.20\n",
       "4     0.30    0.19  0.58         0.21         0.13         0.07"
      ]
     },
     "execution_count": 25,
     "metadata": {},
     "output_type": "execute_result"
    },
    {
     "data": {
      "image/png": "[encoded data removed]",
      "text/plain": [
       "<Figure size 432x288 with 1 Axes>"
      ]
     },
     "metadata": {
      "needs_background": "light"
     },
     "output_type": "display_data"
    }
   ],
   "source": [
    "displayClusters(kmeansLabels, kmeansReps,columnLabels)"
   ]
  },
  {
   "cell_type": "code",
   "execution_count": 27,
   "metadata": {},
   "outputs": [],
   "source": [
    "makeTree(userdf.values,kmeansLabels,'Images/kmeansTree',3,columnLabels)"
   ]
  },
  {
   "cell_type": "markdown",
   "metadata": {},
   "source": [
    "## Agglomerative (Ward)"
   ]
  },
  {
   "cell_type": "markdown",
   "metadata": {},
   "source": [
    "Define necessary parameters"
   ]
  },
  {
   "cell_type": "code",
   "execution_count": 28,
   "metadata": {},
   "outputs": [],
   "source": [
    "method = 'ward'\n",
    "small_data = getSample(userdf, 1000)"
   ]
  },
  {
   "cell_type": "markdown",
   "metadata": {},
   "source": [
    "Fit the model"
   ]
  },
  {
   "cell_type": "code",
   "execution_count": 29,
   "metadata": {},
   "outputs": [],
   "source": [
    "wardClusters = linkage(small_data,method=method)"
   ]
  },
  {
   "cell_type": "markdown",
   "metadata": {},
   "source": [
    "Display the results"
   ]
  },
  {
   "cell_type": "code",
   "execution_count": 30,
   "metadata": {},
   "outputs": [
    {
     "data": {
      "image/png": "[encoded data removed]",
      "text/plain": [
       "<Figure size 1080x720 with 1 Axes>"
      ]
     },
     "metadata": {
      "needs_background": "light"
     },
     "output_type": "display_data"
    }
   ],
   "source": [
    "plt.figure(figsize=(15,10))\n",
    "_ = dendrogram(wardClusters,no_labels=True,p=15,truncate_mode='level')"
   ]
  },
  {
   "cell_type": "code",
   "execution_count": 31,
   "metadata": {},
   "outputs": [],
   "source": [
    "wardLabels = fcluster(wardClusters, 5, criterion='maxclust')\n",
    "wardLabels = wardLabels - 1\n",
    "wardLabelCounts = countLabels(wardLabels)"
   ]
  },
  {
   "cell_type": "code",
   "execution_count": 33,
   "metadata": {},
   "outputs": [],
   "source": [
    "wardReps = np.zeros((len(wardLabelCounts),n_features))\n",
    "for key in range(max(wardLabels)):\n",
    "    clusterCore = small_data[wardLabels == key + 1]\n",
    "    clusterMean = np.mean(clusterCore, axis=0)\n",
    "    wardReps[key,:] = clusterMean"
   ]
  },
  {
   "cell_type": "code",
   "execution_count": 34,
   "metadata": {},
   "outputs": [
    {
     "data": {
      "text/html": [
       "<div>\n",
       "<style scoped>\n",
       "    .dataframe tbody tr th:only-of-type {\n",
       "        vertical-align: middle;\n",
       "    }\n",
       "\n",
       "    .dataframe tbody tr th {\n",
       "        vertical-align: top;\n",
       "    }\n",
       "\n",
       "    .dataframe thead th {\n",
       "        text-align: right;\n",
       "    }\n",
       "</style>\n",
       "<table border=\"1\" class=\"dataframe\">\n",
       "  <thead>\n",
       "    <tr style=\"text-align: right;\">\n",
       "      <th></th>\n",
       "      <th>desktop</th>\n",
       "      <th>spring</th>\n",
       "      <th>hour</th>\n",
       "      <th>sessionTime</th>\n",
       "      <th>NumSessions</th>\n",
       "      <th>Proportions</th>\n",
       "    </tr>\n",
       "  </thead>\n",
       "  <tbody>\n",
       "    <tr>\n",
       "      <th>0</th>\n",
       "      <td>0.80</td>\n",
       "      <td>0.38</td>\n",
       "      <td>0.59</td>\n",
       "      <td>0.25</td>\n",
       "      <td>0.14</td>\n",
       "      <td>0.17</td>\n",
       "    </tr>\n",
       "    <tr>\n",
       "      <th>1</th>\n",
       "      <td>0.36</td>\n",
       "      <td>0.91</td>\n",
       "      <td>0.60</td>\n",
       "      <td>0.31</td>\n",
       "      <td>0.18</td>\n",
       "      <td>0.27</td>\n",
       "    </tr>\n",
       "    <tr>\n",
       "      <th>2</th>\n",
       "      <td>0.99</td>\n",
       "      <td>0.98</td>\n",
       "      <td>0.66</td>\n",
       "      <td>0.13</td>\n",
       "      <td>0.05</td>\n",
       "      <td>0.16</td>\n",
       "    </tr>\n",
       "    <tr>\n",
       "      <th>3</th>\n",
       "      <td>0.92</td>\n",
       "      <td>0.83</td>\n",
       "      <td>0.62</td>\n",
       "      <td>0.55</td>\n",
       "      <td>0.44</td>\n",
       "      <td>0.29</td>\n",
       "    </tr>\n",
       "    <tr>\n",
       "      <th>4</th>\n",
       "      <td>0.00</td>\n",
       "      <td>0.00</td>\n",
       "      <td>0.00</td>\n",
       "      <td>0.00</td>\n",
       "      <td>0.00</td>\n",
       "      <td>0.11</td>\n",
       "    </tr>\n",
       "  </tbody>\n",
       "</table>\n",
       "</div>"
      ],
      "text/plain": [
       "   desktop  spring  hour  sessionTime  NumSessions  Proportions\n",
       "0     0.80    0.38  0.59         0.25         0.14         0.17\n",
       "1     0.36    0.91  0.60         0.31         0.18         0.27\n",
       "2     0.99    0.98  0.66         0.13         0.05         0.16\n",
       "3     0.92    0.83  0.62         0.55         0.44         0.29\n",
       "4     0.00    0.00  0.00         0.00         0.00         0.11"
      ]
     },
     "execution_count": 34,
     "metadata": {},
     "output_type": "execute_result"
    },
    {
     "data": {
      "image/png": "[encoded data removed]",
      "text/plain": [
       "<Figure size 432x288 with 1 Axes>"
      ]
     },
     "metadata": {
      "needs_background": "light"
     },
     "output_type": "display_data"
    }
   ],
   "source": [
    "displayClusters(wardLabels,wardReps,columnLabels)"
   ]
  },
  {
   "cell_type": "code",
   "execution_count": 35,
   "metadata": {},
   "outputs": [],
   "source": [
    "makeTree(small_data,wardLabels,'Images/wardTree',3,columnLabels)"
   ]
  }
 ],
 "metadata": {
  "celltoolbar": "Raw Cell Format",
  "kernelspec": {
   "display_name": "Python 3",
   "language": "python",
   "name": "python3"
  },
  "language_info": {
   "codemirror_mode": {
    "name": "ipython",
    "version": 3
   },
   "file_extension": ".py",
   "mimetype": "text/x-python",
   "name": "python",
   "nbconvert_exporter": "python",
   "pygments_lexer": "ipython3",
   "version": "3.6.3"
  }
 },
 "nbformat": 4,
 "nbformat_minor": 2
}
