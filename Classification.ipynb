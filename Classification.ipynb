{
 "cells": [
  {
   "cell_type": "markdown",
   "metadata": {},
   "source": [
    "Import functions from other modules"
   ]
  },
  {
   "cell_type": "code",
   "execution_count": 1,
   "metadata": {
    "collapsed": true
   },
   "outputs": [],
   "source": [
    "from functions import *\n",
    "\n",
    "%matplotlib inline"
   ]
  },
  {
   "cell_type": "code",
   "execution_count": 2,
   "metadata": {
    "collapsed": true
   },
   "outputs": [],
   "source": [
    "activityFile = '../Data (Algebra 1)/YearUsageActivity.csv'\n",
    "surveyFile = '../Data (Algebra 1)/YearSurvey.csv'\n",
    "states = ['Happiness','Frustration','Confusion','Hopefulness','Contentment',\n",
    "         'Disappointment','Relief','Pride','Pleasantness','Anxiety','Engagement',\n",
    "         'Interest','Sadness','Mind Wandering','Boredom','Arousal',\n",
    "         'Curiosity','Surprise']\n",
    "bayes = [0.28,0.27,0.28,0.27,0.29,0.28,0.26,0.28,0.25,0.20,0.21,0.20,0.17,0.16,\n",
    "        0.13,0.12,0.09,0.08]\n",
    "nClusters = 1\n",
    "clusterAlgorithm = KMeans(n_clusters = nClusters)\n",
    "nFolds = 10\n",
    "replace = True"
   ]
  },
  {
   "cell_type": "markdown",
   "metadata": {},
   "source": [
    "Process data"
   ]
  },
  {
   "cell_type": "code",
   "execution_count": 3,
   "metadata": {
    "collapsed": true
   },
   "outputs": [],
   "source": [
    "# load data\n",
    "activitydf = readData(activityFile)\n",
    "surveydf = readData(surveyFile)\n",
    "# remove unnecessary features\n",
    "surveydf = dropColumns(surveydf,['survey_id','time_window','question_id'])\n",
    "# normalize activity data\n",
    "activitydf = replaceDataFrameOutliers(activitydf,['sessionTime','NumSessions'])\n",
    "activitydf, scalers = scaleDataframe(activitydf)"
   ]
  },
  {
   "cell_type": "code",
   "execution_count": 4,
   "metadata": {
    "collapsed": true
   },
   "outputs": [
    {
     "data": {
      "text/plain": [
       "['survey_answer',\n",
       " 'bio_video_watch',\n",
       " 'karma_awarded',\n",
       " 'leaderboard_load',\n",
       " 'personal_profile_picture',\n",
       " 'tys_answer',\n",
       " 'tys_finish',\n",
       " 'tys_load',\n",
       " 'tys_previous',\n",
       " 'tys_review_correct_question',\n",
       " 'tys_review_incorrect_question',\n",
       " 'tys_review_solution_video',\n",
       " 'tys_review_topic_video',\n",
       " 'tys_unload',\n",
       " 'video_caption',\n",
       " 'video_completed',\n",
       " 'video_pause',\n",
       " 'video_play',\n",
       " 'video_seek',\n",
       " 'video_watch',\n",
       " 'wall_load_more',\n",
       " 'wall_make_post',\n",
       " 'wall_page_load',\n",
       " 'survey_question']"
      ]
     },
     "execution_count": 4,
     "metadata": {},
     "output_type": "execute_result"
    }
   ],
   "source": [
    "list(surveydf)"
   ]
  },
  {
   "cell_type": "code",
   "execution_count": null,
   "metadata": {
    "collapsed": true
   },
   "outputs": [],
   "source": [
    "activitydf.to_csv('../Data (Algebra 1)/Processed Usage Features.csv')"
   ]
  },
  {
   "cell_type": "code",
   "execution_count": null,
   "metadata": {
    "collapsed": true
   },
   "outputs": [],
   "source": [
    "reverseScale(activitydf,scalers).to_csv('../Data (Algebra 1)/Unscaled Usage Features.csv')"
   ]
  },
  {
   "cell_type": "markdown",
   "metadata": {},
   "source": [
    "Replicate Stephen's results by only using one cluster and training one classifier for each affective state."
   ]
  },
  {
   "cell_type": "code",
   "execution_count": 4,
   "metadata": {},
   "outputs": [
    {
     "name": "stdout",
     "output_type": "stream",
     "text": [
      "Happiness\n",
      "Frustration\n",
      "Confusion\n",
      "Hopefulness\n",
      "Contentment\n",
      "Disappointment\n",
      "Relief\n",
      "Pride\n",
      "Pleasantness\n",
      "Anxiety\n",
      "Engagement\n",
      "Interest\n",
      "Sadness\n",
      "Mind Wandering\n",
      "Boredom\n",
      "Arousal\n",
      "Curiosity\n",
      "Surprise\n"
     ]
    }
   ],
   "source": [
    "scores = {}\n",
    "clusterSeries, _ = cluster(clusterAlgorithm,activitydf)\n",
    "for state in states:\n",
    "    print(state)\n",
    "    featuredf, surveySeries = filterByState(state,surveydf)\n",
    "    featureDict, labelDict, groupDict = splitClusters(featuredf,surveySeries,clusterSeries)\n",
    "    \n",
    "    performance = np.zeros((len(featureDict),nFolds))\n",
    "    kfold = GroupKFold(n_splits = nFolds)\n",
    "    # do cross-validation\n",
    "    for c in featureDict:\n",
    "        features = featureDict[c]\n",
    "        labels = labelDict[c]\n",
    "        groups = groupDict[c]\n",
    "        for i, (train, test) in enumerate(kfold.split(features,labels,groups)):\n",
    "            predictions, model = classify(features[train],labels[train],features[test])\n",
    "            rho = evaluateSpearman(predictions, labels[test])\n",
    "            performance[c,i] = rho\n",
    "    # key for each state, array nClusters x nFolds\n",
    "    scores[state] = performance.reshape((nFolds,))"
   ]
  },
  {
   "cell_type": "code",
   "execution_count": 5,
   "metadata": {
    "collapsed": true,
    "scrolled": true
   },
   "outputs": [],
   "source": [
    "scoredf = dataframeFromDict(scores)"
   ]
  },
  {
   "cell_type": "code",
   "execution_count": 6,
   "metadata": {
    "collapsed": true
   },
   "outputs": [],
   "source": [
    "scoredf.to_csv('../Data (Algebra 1)/Scores No Clusters.csv')"
   ]
  },
  {
   "cell_type": "code",
   "execution_count": 7,
   "metadata": {},
   "outputs": [
    {
     "data": {
      "text/html": [
       "<div>\n",
       "<style scoped>\n",
       "    .dataframe tbody tr th:only-of-type {\n",
       "        vertical-align: middle;\n",
       "    }\n",
       "\n",
       "    .dataframe tbody tr th {\n",
       "        vertical-align: top;\n",
       "    }\n",
       "\n",
       "    .dataframe thead th {\n",
       "        text-align: right;\n",
       "    }\n",
       "</style>\n",
       "<table border=\"1\" class=\"dataframe\">\n",
       "  <thead>\n",
       "    <tr style=\"text-align: right;\">\n",
       "      <th></th>\n",
       "      <th>No Cluster</th>\n",
       "      <th>Paper</th>\n",
       "    </tr>\n",
       "  </thead>\n",
       "  <tbody>\n",
       "    <tr>\n",
       "      <th>Happiness</th>\n",
       "      <td>0.29</td>\n",
       "      <td>0.28</td>\n",
       "    </tr>\n",
       "    <tr>\n",
       "      <th>Frustration</th>\n",
       "      <td>0.28</td>\n",
       "      <td>0.27</td>\n",
       "    </tr>\n",
       "    <tr>\n",
       "      <th>Confusion</th>\n",
       "      <td>0.29</td>\n",
       "      <td>0.28</td>\n",
       "    </tr>\n",
       "    <tr>\n",
       "      <th>Hopefulness</th>\n",
       "      <td>0.27</td>\n",
       "      <td>0.27</td>\n",
       "    </tr>\n",
       "    <tr>\n",
       "      <th>Contentment</th>\n",
       "      <td>0.29</td>\n",
       "      <td>0.29</td>\n",
       "    </tr>\n",
       "    <tr>\n",
       "      <th>Disappointment</th>\n",
       "      <td>0.28</td>\n",
       "      <td>0.28</td>\n",
       "    </tr>\n",
       "    <tr>\n",
       "      <th>Relief</th>\n",
       "      <td>0.26</td>\n",
       "      <td>0.26</td>\n",
       "    </tr>\n",
       "    <tr>\n",
       "      <th>Pride</th>\n",
       "      <td>0.27</td>\n",
       "      <td>0.28</td>\n",
       "    </tr>\n",
       "    <tr>\n",
       "      <th>Pleasantness</th>\n",
       "      <td>0.25</td>\n",
       "      <td>0.25</td>\n",
       "    </tr>\n",
       "    <tr>\n",
       "      <th>Anxiety</th>\n",
       "      <td>0.20</td>\n",
       "      <td>0.20</td>\n",
       "    </tr>\n",
       "    <tr>\n",
       "      <th>Engagement</th>\n",
       "      <td>0.21</td>\n",
       "      <td>0.21</td>\n",
       "    </tr>\n",
       "    <tr>\n",
       "      <th>Interest</th>\n",
       "      <td>0.20</td>\n",
       "      <td>0.20</td>\n",
       "    </tr>\n",
       "    <tr>\n",
       "      <th>Sadness</th>\n",
       "      <td>0.18</td>\n",
       "      <td>0.17</td>\n",
       "    </tr>\n",
       "    <tr>\n",
       "      <th>Mind Wandering</th>\n",
       "      <td>0.16</td>\n",
       "      <td>0.16</td>\n",
       "    </tr>\n",
       "    <tr>\n",
       "      <th>Boredom</th>\n",
       "      <td>0.14</td>\n",
       "      <td>0.13</td>\n",
       "    </tr>\n",
       "    <tr>\n",
       "      <th>Arousal</th>\n",
       "      <td>0.13</td>\n",
       "      <td>0.12</td>\n",
       "    </tr>\n",
       "    <tr>\n",
       "      <th>Curiosity</th>\n",
       "      <td>0.10</td>\n",
       "      <td>0.09</td>\n",
       "    </tr>\n",
       "    <tr>\n",
       "      <th>Surprise</th>\n",
       "      <td>0.09</td>\n",
       "      <td>0.08</td>\n",
       "    </tr>\n",
       "  </tbody>\n",
       "</table>\n",
       "</div>"
      ],
      "text/plain": [
       "                No Cluster  Paper\n",
       "Happiness             0.29   0.28\n",
       "Frustration           0.28   0.27\n",
       "Confusion             0.29   0.28\n",
       "Hopefulness           0.27   0.27\n",
       "Contentment           0.29   0.29\n",
       "Disappointment        0.28   0.28\n",
       "Relief                0.26   0.26\n",
       "Pride                 0.27   0.28\n",
       "Pleasantness          0.25   0.25\n",
       "Anxiety               0.20   0.20\n",
       "Engagement            0.21   0.21\n",
       "Interest              0.20   0.20\n",
       "Sadness               0.18   0.17\n",
       "Mind Wandering        0.16   0.16\n",
       "Boredom               0.14   0.13\n",
       "Arousal               0.13   0.12\n",
       "Curiosity             0.10   0.09\n",
       "Surprise              0.09   0.08"
      ]
     },
     "execution_count": 7,
     "metadata": {},
     "output_type": "execute_result"
    }
   ],
   "source": [
    "comparison = pd.DataFrame(scoredf.mean(axis=1),columns=['No Cluster'])\n",
    "comparison['Paper'] = bayes\n",
    "comparison.round(2)"
   ]
  },
  {
   "cell_type": "markdown",
   "metadata": {},
   "source": [
    "Now use 5 clusters, train one model per state and predict each cluster separately."
   ]
  },
  {
   "cell_type": "code",
   "execution_count": null,
   "metadata": {
    "collapsed": true
   },
   "outputs": [],
   "source": [
    "# run this...\n",
    "nClusters = 5\n",
    "clusterAlgorithm = KMeans(n_clusters = nClusters)\n",
    "clusterSeries, model = cluster(clusterAlgorithm, activitydf)\n",
    "joblib.dump(model,'kmeans.joblib')"
   ]
  },
  {
   "cell_type": "code",
   "execution_count": 8,
   "metadata": {},
   "outputs": [],
   "source": [
    "#... or this\n",
    "nClusters = 5\n",
    "model = joblib.load('kmeans.joblib')\n",
    "clusterSeries = pd.Series(model.predict(activitydf.values),index=activitydf.index)"
   ]
  },
  {
   "cell_type": "code",
   "execution_count": null,
   "metadata": {
    "collapsed": true
   },
   "outputs": [],
   "source": [
    "displayClusters(clusterSeries.values, model.cluster_centers_,list(activitydf))"
   ]
  },
  {
   "cell_type": "code",
   "execution_count": null,
   "metadata": {
    "collapsed": true
   },
   "outputs": [],
   "source": [
    "model.cluster_centers_"
   ]
  },
  {
   "cell_type": "code",
   "execution_count": null,
   "metadata": {
    "collapsed": true
   },
   "outputs": [],
   "source": [
    "centersdf = pd.DataFrame(data=model.cluster_centers_,columns=list(activitydf))\n",
    "reverseScale(centersdf,scalers).round(2)"
   ]
  },
  {
   "cell_type": "code",
   "execution_count": null,
   "metadata": {
    "collapsed": true
   },
   "outputs": [],
   "source": [
    "centersdf.to_csv('../Data (Algebra 1)/KMeans cluster centers.csv')"
   ]
  },
  {
   "cell_type": "code",
   "execution_count": 9,
   "metadata": {},
   "outputs": [
    {
     "name": "stdout",
     "output_type": "stream",
     "text": [
      "Happiness\n",
      "Frustration\n",
      "Confusion\n",
      "Hopefulness\n",
      "Contentment\n",
      "Disappointment\n",
      "Relief\n",
      "Pride\n",
      "Pleasantness\n",
      "Anxiety\n",
      "Engagement\n",
      "Interest\n",
      "Sadness\n",
      "Mind Wandering\n",
      "Boredom\n",
      "Arousal\n",
      "Curiosity\n",
      "Surprise\n"
     ]
    }
   ],
   "source": [
    "clusterScores = {}\n",
    "for state in states:\n",
    "    print(state)\n",
    "    # get students who answered surveys on current state\n",
    "    featuredf, surveySeries = filterByState(state,surveydf)\n",
    "    # get activity data from just these students\n",
    "    usagedf = filterByIndex(activitydf, surveySeries.index)\n",
    "    featuredf = filterByIndex(featuredf,usagedf.index)\n",
    "    surveySeries = filterByIndex(surveySeries,usagedf.index)\n",
    "    # split into clusters\n",
    "    stateClusterSeries = filterByIndex(clusterSeries,usagedf.index)\n",
    "    featureDict, labelDict, groupDict = splitClusters(featuredf,surveySeries,stateClusterSeries)\n",
    "    # convert training data to arrays\n",
    "    features = featuredf.values\n",
    "    labels = surveySeries.values\n",
    "    groups = featuredf.index.values\n",
    "    # set up training\n",
    "    performance = np.zeros((nClusters,nFolds))\n",
    "    kfold = GroupKFold(nFolds)\n",
    "    \n",
    "    for i, (train, test) in enumerate(kfold.split(features,labels,groups)):\n",
    "        _, model = classify(features[train],labels[train],features[test])\n",
    "        for c in labelDict:\n",
    "            trueLabels = labelDict[c]\n",
    "            predLabels = model.predict(featureDict[c])\n",
    "            rho = evaluateSpearman(trueLabels, predLabels)\n",
    "            performance[c,i] = rho\n",
    "    clusterScores[state] = performance"
   ]
  },
  {
   "cell_type": "code",
   "execution_count": 10,
   "metadata": {
    "collapsed": true,
    "scrolled": true
   },
   "outputs": [],
   "source": [
    "for state in states:\n",
    "    exportname = '../Data (Algebra 1)/'+state+' train on all scores.csv'\n",
    "    pd.DataFrame(clusterScores[state]).to_csv(exportname)"
   ]
  },
  {
   "cell_type": "code",
   "execution_count": 11,
   "metadata": {},
   "outputs": [
    {
     "data": {
      "text/html": [
       "<div>\n",
       "<style scoped>\n",
       "    .dataframe tbody tr th:only-of-type {\n",
       "        vertical-align: middle;\n",
       "    }\n",
       "\n",
       "    .dataframe tbody tr th {\n",
       "        vertical-align: top;\n",
       "    }\n",
       "\n",
       "    .dataframe thead th {\n",
       "        text-align: right;\n",
       "    }\n",
       "</style>\n",
       "<table border=\"1\" class=\"dataframe\">\n",
       "  <thead>\n",
       "    <tr style=\"text-align: right;\">\n",
       "      <th></th>\n",
       "      <th>No Cluster</th>\n",
       "      <th>Paper</th>\n",
       "      <th>Trained on all data</th>\n",
       "    </tr>\n",
       "  </thead>\n",
       "  <tbody>\n",
       "    <tr>\n",
       "      <th>Happiness</th>\n",
       "      <td>0.29</td>\n",
       "      <td>0.28</td>\n",
       "      <td>0.28</td>\n",
       "    </tr>\n",
       "    <tr>\n",
       "      <th>Frustration</th>\n",
       "      <td>0.28</td>\n",
       "      <td>0.27</td>\n",
       "      <td>0.27</td>\n",
       "    </tr>\n",
       "    <tr>\n",
       "      <th>Confusion</th>\n",
       "      <td>0.29</td>\n",
       "      <td>0.28</td>\n",
       "      <td>0.27</td>\n",
       "    </tr>\n",
       "    <tr>\n",
       "      <th>Hopefulness</th>\n",
       "      <td>0.27</td>\n",
       "      <td>0.27</td>\n",
       "      <td>0.32</td>\n",
       "    </tr>\n",
       "    <tr>\n",
       "      <th>Contentment</th>\n",
       "      <td>0.29</td>\n",
       "      <td>0.29</td>\n",
       "      <td>0.28</td>\n",
       "    </tr>\n",
       "    <tr>\n",
       "      <th>Disappointment</th>\n",
       "      <td>0.28</td>\n",
       "      <td>0.28</td>\n",
       "      <td>0.28</td>\n",
       "    </tr>\n",
       "    <tr>\n",
       "      <th>Relief</th>\n",
       "      <td>0.26</td>\n",
       "      <td>0.26</td>\n",
       "      <td>0.27</td>\n",
       "    </tr>\n",
       "    <tr>\n",
       "      <th>Pride</th>\n",
       "      <td>0.27</td>\n",
       "      <td>0.28</td>\n",
       "      <td>0.28</td>\n",
       "    </tr>\n",
       "    <tr>\n",
       "      <th>Pleasantness</th>\n",
       "      <td>0.25</td>\n",
       "      <td>0.25</td>\n",
       "      <td>0.24</td>\n",
       "    </tr>\n",
       "    <tr>\n",
       "      <th>Anxiety</th>\n",
       "      <td>0.20</td>\n",
       "      <td>0.20</td>\n",
       "      <td>0.21</td>\n",
       "    </tr>\n",
       "    <tr>\n",
       "      <th>Engagement</th>\n",
       "      <td>0.21</td>\n",
       "      <td>0.21</td>\n",
       "      <td>0.24</td>\n",
       "    </tr>\n",
       "    <tr>\n",
       "      <th>Interest</th>\n",
       "      <td>0.20</td>\n",
       "      <td>0.20</td>\n",
       "      <td>0.21</td>\n",
       "    </tr>\n",
       "    <tr>\n",
       "      <th>Sadness</th>\n",
       "      <td>0.18</td>\n",
       "      <td>0.17</td>\n",
       "      <td>0.17</td>\n",
       "    </tr>\n",
       "    <tr>\n",
       "      <th>Mind Wandering</th>\n",
       "      <td>0.16</td>\n",
       "      <td>0.16</td>\n",
       "      <td>0.16</td>\n",
       "    </tr>\n",
       "    <tr>\n",
       "      <th>Boredom</th>\n",
       "      <td>0.14</td>\n",
       "      <td>0.13</td>\n",
       "      <td>0.14</td>\n",
       "    </tr>\n",
       "    <tr>\n",
       "      <th>Arousal</th>\n",
       "      <td>0.13</td>\n",
       "      <td>0.12</td>\n",
       "      <td>0.14</td>\n",
       "    </tr>\n",
       "    <tr>\n",
       "      <th>Curiosity</th>\n",
       "      <td>0.10</td>\n",
       "      <td>0.09</td>\n",
       "      <td>0.15</td>\n",
       "    </tr>\n",
       "    <tr>\n",
       "      <th>Surprise</th>\n",
       "      <td>0.09</td>\n",
       "      <td>0.08</td>\n",
       "      <td>0.09</td>\n",
       "    </tr>\n",
       "  </tbody>\n",
       "</table>\n",
       "</div>"
      ],
      "text/plain": [
       "                No Cluster  Paper  Trained on all data\n",
       "Happiness             0.29   0.28                 0.28\n",
       "Frustration           0.28   0.27                 0.27\n",
       "Confusion             0.29   0.28                 0.27\n",
       "Hopefulness           0.27   0.27                 0.32\n",
       "Contentment           0.29   0.29                 0.28\n",
       "Disappointment        0.28   0.28                 0.28\n",
       "Relief                0.26   0.26                 0.27\n",
       "Pride                 0.27   0.28                 0.28\n",
       "Pleasantness          0.25   0.25                 0.24\n",
       "Anxiety               0.20   0.20                 0.21\n",
       "Engagement            0.21   0.21                 0.24\n",
       "Interest              0.20   0.20                 0.21\n",
       "Sadness               0.18   0.17                 0.17\n",
       "Mind Wandering        0.16   0.16                 0.16\n",
       "Boredom               0.14   0.13                 0.14\n",
       "Arousal               0.13   0.12                 0.14\n",
       "Curiosity             0.10   0.09                 0.15\n",
       "Surprise              0.09   0.08                 0.09"
      ]
     },
     "execution_count": 11,
     "metadata": {},
     "output_type": "execute_result"
    }
   ],
   "source": [
    "comparison['Trained on all data'] = pd.Series(np.array([np.nanmean(clusterScores[state]) for state in clusterScores.keys()]),index=comparison.index)\n",
    "comparison.round(2)"
   ]
  },
  {
   "cell_type": "markdown",
   "metadata": {},
   "source": [
    "Now want to train one model per cluster per state"
   ]
  },
  {
   "cell_type": "code",
   "execution_count": 12,
   "metadata": {},
   "outputs": [
    {
     "name": "stdout",
     "output_type": "stream",
     "text": [
      "Happiness\n",
      "Frustration\n",
      "Confusion\n",
      "Hopefulness\n",
      "Contentment\n",
      "Disappointment\n",
      "Relief\n",
      "Pride\n",
      "Pleasantness\n",
      "Anxiety\n",
      "Engagement\n",
      "Interest\n",
      "Sadness\n",
      "Mind Wandering\n",
      "Boredom\n",
      "Arousal\n",
      "Curiosity\n",
      "Surprise\n"
     ]
    }
   ],
   "source": [
    "stateClusterScores = {}\n",
    "for state in states:\n",
    "    print(state)\n",
    "    # get students who answered surveys on current state\n",
    "    featuredf, surveySeries = filterByState(state,surveydf)\n",
    "    # get activity data from just these students\n",
    "    usagedf = filterByIndex(activitydf, surveySeries.index)\n",
    "    featuredf = filterByIndex(featuredf,usagedf.index)\n",
    "    surveySeries = filterByIndex(surveySeries,usagedf.index)\n",
    "    # split into clusters\n",
    "    stateClusterSeries = filterByIndex(clusterSeries,usagedf.index)\n",
    "    featureDict, labelDict, groupDict = splitClusters(featuredf,surveySeries,stateClusterSeries)\n",
    "    # set up training\n",
    "    performance = np.zeros((nClusters,nFolds))\n",
    "    kfold = KFold(nFolds)\n",
    "    \n",
    "    for c in labelDict:\n",
    "        features = featureDict[c]\n",
    "        labels = labelDict[c]\n",
    "        groups = groupDict[c]\n",
    "        for i, (train, test) in enumerate(kfold.split(features,labels,groups)):\n",
    "            predLabels, _ = classify(features[train],labels[train],features[test])\n",
    "            trueLabels = labels[test]\n",
    "            rho = evaluateSpearman(trueLabels, predLabels)\n",
    "            performance[c,i] = rho\n",
    "    stateClusterScores[state] = performance"
   ]
  },
  {
   "cell_type": "code",
   "execution_count": 13,
   "metadata": {
    "collapsed": true,
    "scrolled": true
   },
   "outputs": [],
   "source": [
    "for state in states:\n",
    "    exportname = '../Data (Algebra 1)/'+state+' train on clusters scores.csv'\n",
    "    pd.DataFrame(stateClusterScores[state]).to_csv(exportname)"
   ]
  },
  {
   "cell_type": "code",
   "execution_count": 15,
   "metadata": {},
   "outputs": [
    {
     "data": {
      "text/html": [
       "<div>\n",
       "<style scoped>\n",
       "    .dataframe tbody tr th:only-of-type {\n",
       "        vertical-align: middle;\n",
       "    }\n",
       "\n",
       "    .dataframe tbody tr th {\n",
       "        vertical-align: top;\n",
       "    }\n",
       "\n",
       "    .dataframe thead th {\n",
       "        text-align: right;\n",
       "    }\n",
       "</style>\n",
       "<table border=\"1\" class=\"dataframe\">\n",
       "  <thead>\n",
       "    <tr style=\"text-align: right;\">\n",
       "      <th></th>\n",
       "      <th>No Cluster</th>\n",
       "      <th>Paper</th>\n",
       "      <th>Trained on all data</th>\n",
       "      <th>Trained on clusters</th>\n",
       "    </tr>\n",
       "  </thead>\n",
       "  <tbody>\n",
       "    <tr>\n",
       "      <th>Happiness</th>\n",
       "      <td>0.29</td>\n",
       "      <td>0.28</td>\n",
       "      <td>0.28</td>\n",
       "      <td>0.28</td>\n",
       "    </tr>\n",
       "    <tr>\n",
       "      <th>Frustration</th>\n",
       "      <td>0.28</td>\n",
       "      <td>0.27</td>\n",
       "      <td>0.27</td>\n",
       "      <td>0.25</td>\n",
       "    </tr>\n",
       "    <tr>\n",
       "      <th>Confusion</th>\n",
       "      <td>0.29</td>\n",
       "      <td>0.28</td>\n",
       "      <td>0.27</td>\n",
       "      <td>0.25</td>\n",
       "    </tr>\n",
       "    <tr>\n",
       "      <th>Hopefulness</th>\n",
       "      <td>0.27</td>\n",
       "      <td>0.27</td>\n",
       "      <td>0.32</td>\n",
       "      <td>0.30</td>\n",
       "    </tr>\n",
       "    <tr>\n",
       "      <th>Contentment</th>\n",
       "      <td>0.29</td>\n",
       "      <td>0.29</td>\n",
       "      <td>0.28</td>\n",
       "      <td>0.26</td>\n",
       "    </tr>\n",
       "    <tr>\n",
       "      <th>Disappointment</th>\n",
       "      <td>0.28</td>\n",
       "      <td>0.28</td>\n",
       "      <td>0.28</td>\n",
       "      <td>0.23</td>\n",
       "    </tr>\n",
       "    <tr>\n",
       "      <th>Relief</th>\n",
       "      <td>0.26</td>\n",
       "      <td>0.26</td>\n",
       "      <td>0.27</td>\n",
       "      <td>0.27</td>\n",
       "    </tr>\n",
       "    <tr>\n",
       "      <th>Pride</th>\n",
       "      <td>0.27</td>\n",
       "      <td>0.28</td>\n",
       "      <td>0.28</td>\n",
       "      <td>0.27</td>\n",
       "    </tr>\n",
       "    <tr>\n",
       "      <th>Pleasantness</th>\n",
       "      <td>0.25</td>\n",
       "      <td>0.25</td>\n",
       "      <td>0.24</td>\n",
       "      <td>0.23</td>\n",
       "    </tr>\n",
       "    <tr>\n",
       "      <th>Anxiety</th>\n",
       "      <td>0.20</td>\n",
       "      <td>0.20</td>\n",
       "      <td>0.21</td>\n",
       "      <td>0.16</td>\n",
       "    </tr>\n",
       "    <tr>\n",
       "      <th>Engagement</th>\n",
       "      <td>0.21</td>\n",
       "      <td>0.21</td>\n",
       "      <td>0.24</td>\n",
       "      <td>0.21</td>\n",
       "    </tr>\n",
       "    <tr>\n",
       "      <th>Interest</th>\n",
       "      <td>0.20</td>\n",
       "      <td>0.20</td>\n",
       "      <td>0.21</td>\n",
       "      <td>0.19</td>\n",
       "    </tr>\n",
       "    <tr>\n",
       "      <th>Sadness</th>\n",
       "      <td>0.18</td>\n",
       "      <td>0.17</td>\n",
       "      <td>0.17</td>\n",
       "      <td>0.08</td>\n",
       "    </tr>\n",
       "    <tr>\n",
       "      <th>Mind Wandering</th>\n",
       "      <td>0.16</td>\n",
       "      <td>0.16</td>\n",
       "      <td>0.16</td>\n",
       "      <td>0.15</td>\n",
       "    </tr>\n",
       "    <tr>\n",
       "      <th>Boredom</th>\n",
       "      <td>0.14</td>\n",
       "      <td>0.13</td>\n",
       "      <td>0.14</td>\n",
       "      <td>0.07</td>\n",
       "    </tr>\n",
       "    <tr>\n",
       "      <th>Arousal</th>\n",
       "      <td>0.13</td>\n",
       "      <td>0.12</td>\n",
       "      <td>0.14</td>\n",
       "      <td>0.12</td>\n",
       "    </tr>\n",
       "    <tr>\n",
       "      <th>Curiosity</th>\n",
       "      <td>0.10</td>\n",
       "      <td>0.09</td>\n",
       "      <td>0.15</td>\n",
       "      <td>0.05</td>\n",
       "    </tr>\n",
       "    <tr>\n",
       "      <th>Surprise</th>\n",
       "      <td>0.09</td>\n",
       "      <td>0.08</td>\n",
       "      <td>0.09</td>\n",
       "      <td>0.04</td>\n",
       "    </tr>\n",
       "  </tbody>\n",
       "</table>\n",
       "</div>"
      ],
      "text/plain": [
       "                No Cluster  Paper  Trained on all data  Trained on clusters\n",
       "Happiness             0.29   0.28                 0.28                 0.28\n",
       "Frustration           0.28   0.27                 0.27                 0.25\n",
       "Confusion             0.29   0.28                 0.27                 0.25\n",
       "Hopefulness           0.27   0.27                 0.32                 0.30\n",
       "Contentment           0.29   0.29                 0.28                 0.26\n",
       "Disappointment        0.28   0.28                 0.28                 0.23\n",
       "Relief                0.26   0.26                 0.27                 0.27\n",
       "Pride                 0.27   0.28                 0.28                 0.27\n",
       "Pleasantness          0.25   0.25                 0.24                 0.23\n",
       "Anxiety               0.20   0.20                 0.21                 0.16\n",
       "Engagement            0.21   0.21                 0.24                 0.21\n",
       "Interest              0.20   0.20                 0.21                 0.19\n",
       "Sadness               0.18   0.17                 0.17                 0.08\n",
       "Mind Wandering        0.16   0.16                 0.16                 0.15\n",
       "Boredom               0.14   0.13                 0.14                 0.07\n",
       "Arousal               0.13   0.12                 0.14                 0.12\n",
       "Curiosity             0.10   0.09                 0.15                 0.05\n",
       "Surprise              0.09   0.08                 0.09                 0.04"
      ]
     },
     "execution_count": 15,
     "metadata": {},
     "output_type": "execute_result"
    }
   ],
   "source": [
    "comparison['Trained on clusters'] = pd.Series(np.array([np.mean(stateClusterScores[state]) for state in clusterScores.keys()]),index=comparison.index)\n",
    "comparison.round(2)"
   ]
  },
  {
   "cell_type": "code",
   "execution_count": null,
   "metadata": {
    "collapsed": true,
    "scrolled": false
   },
   "outputs": [],
   "source": [
    "pd.DataFrame(comparison.mean(),columns=['Mean correlation']).round(2)"
   ]
  },
  {
   "cell_type": "code",
   "execution_count": null,
   "metadata": {
    "collapsed": true
   },
   "outputs": [],
   "source": [
    "d = dropColumns(comparison,['No Cluster','Paper'])\n",
    "avg = d.mean(axis=0)\n",
    "avg.name = 'Mean'\n",
    "d = d.append(avg)\n",
    "d.round(2)"
   ]
  },
  {
   "cell_type": "markdown",
   "metadata": {},
   "source": [
    "Get mean survey response for each cluster for each state. Use clusters defined above."
   ]
  },
  {
   "cell_type": "code",
   "execution_count": null,
   "metadata": {
    "collapsed": true
   },
   "outputs": [],
   "source": [
    "counts, means = surveySummary(states, nClusters, surveydf, clusterSeries)"
   ]
  },
  {
   "cell_type": "code",
   "execution_count": null,
   "metadata": {
    "collapsed": true
   },
   "outputs": [],
   "source": [
    "countdf = pd.DataFrame(counts,index=states)\n",
    "countdf"
   ]
  },
  {
   "cell_type": "code",
   "execution_count": null,
   "metadata": {
    "collapsed": true
   },
   "outputs": [],
   "source": [
    "meandf = pd.DataFrame(means,index=states).round(2)\n",
    "meandf"
   ]
  },
  {
   "cell_type": "code",
   "execution_count": null,
   "metadata": {
    "collapsed": true
   },
   "outputs": [],
   "source": [
    "countdf.to_csv('../Data (Algebra 1)/survey counts.csv')\n",
    "meandf.to_csv('../Data (Algebra 1)/survey means.csv')"
   ]
  },
  {
   "cell_type": "code",
   "execution_count": null,
   "metadata": {
    "collapsed": true
   },
   "outputs": [],
   "source": [
    "for state in states:\n",
    "    exportname = '../Data (Algebra 1)/'+state+' student responses.csv'\n",
    "    _, surveySeries = filterByState(state, surveydf)\n",
    "    surveyVals = surveySeries.values\n",
    "    clusterVals = filterByIndex(clusterSeries, surveySeries.index)\n",
    "    exportdf = pd.DataFrame({'response':surveyVals, 'cluster':clusterVals}, index = surveySeries.index)\n",
    "    exportdf.to_csv(exportname)"
   ]
  },
  {
   "cell_type": "markdown",
   "metadata": {},
   "source": [
    "Difference in means for the following:\n",
    "- Arousal (p = 0.013, F = 3.16)\n",
    "- Boredom (p = 0.017, F = 3.02)\n",
    "- Confusion (p = 0, F = 8.52)\n",
    "- Contentment (p = 0.00028, F = 5.32)\n",
    "- Curiosity (p = 0.013, F = 3.19)\n",
    "- Disappointment (p = 0.017, F = 3.19)\n",
    "- Frustration (p = 0.025, F = 1.38)\n",
    "- Happiness (p = 0.00029, F = 5.31)\n",
    "- Hopefulness (p = 0.021, F = 2.88)\n",
    "- Interest (p = 0.033, F = 2.62)\n",
    "- Mind Wandering (p = 0.00034, F = 5.22)\n",
    "- Pleasantness (p = 0, F = 11.1)\n",
    "- Pride (p = 0.04, F = 2.51)\n",
    "- Relief (p = 0.00014, F = 5.73)\n",
    "- Sadness (p = 0.00025, F = 5.39)\n",
    "- Surprise (p = 0, F = 6.93)\n",
    "\n",
    "No difference in means for the following:\n",
    "- Anxiety\n",
    "- Engagement"
   ]
  },
  {
   "cell_type": "markdown",
   "metadata": {
    "collapsed": true
   },
   "source": [
    "Compare personalized and general models with same sample size. Use the smallest cluster size for training. Only do positive/negative instead of each affective state."
   ]
  },
  {
   "cell_type": "code",
   "execution_count": 5,
   "metadata": {
    "collapsed": true
   },
   "outputs": [],
   "source": [
    "featuredfP = pd.concat([surveydf.loc[surveydf['survey_question']=='Happiness'],surveydf.loc[surveydf['survey_question']=='Hopefulness'],\n",
    "                       surveydf.loc[surveydf['survey_question']=='Contentment'],surveydf.loc[surveydf['survey_question']=='Relief'],\n",
    "                       surveydf.loc[surveydf['survey_question']=='Pride'],surveydf.loc[surveydf['survey_question']=='Pleasantness'],\n",
    "                       surveydf.loc[surveydf['survey_question']=='Interest'],surveydf.loc[surveydf['survey_question']=='Arousal'],\n",
    "                       surveydf.loc[surveydf['survey_question']=='Engagement']]).sort_index()\n",
    "featuredfN = pd.concat([surveydf.loc[surveydf['survey_question']=='Frustration'],surveydf.loc[surveydf['survey_question']=='Confusion'],\n",
    "                       surveydf.loc[surveydf['survey_question']=='Disappointment'],surveydf.loc[surveydf['survey_question']=='Anxiety'],\n",
    "                       surveydf.loc[surveydf['survey_question']=='Sadness'],surveydf.loc[surveydf['survey_question']=='Mind Wandering'],\n",
    "                       surveydf.loc[surveydf['survey_question']=='Boredom']]).sort_index()"
   ]
  },
  {
   "cell_type": "code",
   "execution_count": 6,
   "metadata": {
    "collapsed": true
   },
   "outputs": [],
   "source": [
    "featuredfA = surveydf\n",
    "\n",
    "labelSeriesP = featuredfP['survey_answer']\n",
    "featuredfP = dropColumns(featuredfP,['survey_answer','survey_question'])\n",
    "\n",
    "labelSeriesN = featuredfN['survey_answer']\n",
    "featuredfN = dropColumns(featuredfN,['survey_answer','survey_question'])\n",
    "\n",
    "labelSeriesA = featuredfA['survey_answer']\n",
    "featuredfA = dropColumns(featuredfA,['survey_answer','survey_question'])"
   ]
  },
  {
   "cell_type": "code",
   "execution_count": 7,
   "metadata": {
    "collapsed": true
   },
   "outputs": [],
   "source": [
    "clustersP = filterByIndex(clusterSeries,featuredfP.index)\n",
    "clustersN = filterByIndex(clusterSeries,featuredfN.index)\n",
    "clustersA = filterByIndex(clusterSeries,featuredfA.index)"
   ]
  },
  {
   "cell_type": "code",
   "execution_count": 8,
   "metadata": {
    "collapsed": true
   },
   "outputs": [],
   "source": [
    "featureDictP, labelDictP, groupDictP = splitClusters(featuredfP,labelSeriesP,clustersP)\n",
    "featureDictN, labelDictN, groupDictN = splitClusters(featuredfN,labelSeriesN,clustersN)\n",
    "featureDictA, labelDictA, groupDictA = splitClusters(featuredfA,labelSeriesA,clustersA)"
   ]
  },
  {
   "cell_type": "code",
   "execution_count": 17,
   "metadata": {
    "collapsed": true
   },
   "outputs": [],
   "source": [
    "size = 1880\n",
    "kfold = GroupKFold(n_splits = nFolds)\n",
    "#(gen/personalized, cluster, pos/neg)\n",
    "scoresP = np.zeros((2,5))\n",
    "scoresN = scoresP.copy()\n",
    "\n",
    "testFeatures = [featureDictP,featureDictN]\n",
    "testLabels = [labelDictP,labelDictN]\n",
    "testGroups = [groupDictP,groupDictN]\n",
    "scores = [scoresP,scoresN]"
   ]
  },
  {
   "cell_type": "code",
   "execution_count": 18,
   "metadata": {
    "collapsed": true,
    "scrolled": true
   },
   "outputs": [],
   "source": [
    "# train general model\n",
    "trainFeatures = [featuredfP,featuredfN]\n",
    "trainLabels = [labelSeriesP,labelSeriesN]\n",
    "# for positive and negative\n",
    "for s in range(len(trainFeatures)):\n",
    "    features = trainFeatures[s]\n",
    "    groups = features.index.values\n",
    "    features = features.values\n",
    "    labels = trainLabels[s].values\n",
    "    sample = np.random.choice(np.arange(len(labels)),size)\n",
    "    features = features[sample]\n",
    "    labels = labels[sample]\n",
    "    groups = groups[sample]\n",
    "    \n",
    "    temp = np.zeros((nFolds,5))\n",
    "    for i, (train, test) in enumerate(kfold.split(features,labels,groups)):\n",
    "        # train a model\n",
    "        _, model = classify(features[train],labels[train],features[test])\n",
    "        # test on each cluster\n",
    "        for cluster in testLabels[s]:\n",
    "            predFeatures = testFeatures[s][cluster]\n",
    "            predLabels = testLabels[s][cluster]\n",
    "            preds = model.predict(predFeatures)\n",
    "            rho = evaluateSpearman(predLabels,preds)\n",
    "            temp[i,cluster] = rho\n",
    "    scores[s][0,:] = np.mean(temp,axis=0)"
   ]
  },
  {
   "cell_type": "code",
   "execution_count": 34,
   "metadata": {
    "collapsed": true
   },
   "outputs": [],
   "source": [
    "# clusters\n",
    "trainFeatures = testFeatures\n",
    "trainLabels = testLabels\n",
    "trainGroups = [groupDictP,groupDictN]\n",
    "# for positive and negative\n",
    "for s in range(len(trainFeatures)):\n",
    "    temp = np.zeros((nFolds,5))\n",
    "    # train a model for each cluster\n",
    "    for cluster in testLabels[s]:\n",
    "        features = trainFeatures[s][cluster]\n",
    "        labels = trainLabels[s][cluster]\n",
    "        groups = trainGroups[s][cluster]\n",
    "        sample = np.random.choice(np.arange(len(labels)),size)\n",
    "        features = features[sample]\n",
    "        labels = labels[sample]\n",
    "        groups = groups[sample]\n",
    "        \n",
    "        for i, (train, test) in enumerate(kfold.split(features,labels,groups)):\n",
    "            # train a model\n",
    "            _, model = classify(features[train],labels[train],features[test])\n",
    "            predFeatures = testFeatures[s][cluster]\n",
    "            predLabels = testLabels[s][cluster]\n",
    "            preds = model.predict(predFeatures)\n",
    "            rho = evaluateSpearman(predLabels,preds)\n",
    "            temp[i,cluster] = rho\n",
    "    scores[s][1,:] = np.mean(temp,axis=0)"
   ]
  },
  {
   "cell_type": "code",
   "execution_count": 35,
   "metadata": {
    "collapsed": true
   },
   "outputs": [],
   "source": [
    "dfP = pd.DataFrame(data=scores[0],index=['General','Personalized'])\n",
    "dfN = pd.DataFrame(data=scores[1],index=['General','Personalized'])"
   ]
  },
  {
   "cell_type": "code",
   "execution_count": 38,
   "metadata": {
    "collapsed": true,
    "scrolled": true
   },
   "outputs": [],
   "source": [
    "dfP['Model Mean'] = dfP.mean(axis=1)\n",
    "dfN['Model Mean'] = dfN.mean(axis=1)"
   ]
  },
  {
   "cell_type": "code",
   "execution_count": 40,
   "metadata": {},
   "outputs": [
    {
     "data": {
      "text/html": [
       "<div>\n",
       "<style scoped>\n",
       "    .dataframe tbody tr th:only-of-type {\n",
       "        vertical-align: middle;\n",
       "    }\n",
       "\n",
       "    .dataframe tbody tr th {\n",
       "        vertical-align: top;\n",
       "    }\n",
       "\n",
       "    .dataframe thead th {\n",
       "        text-align: right;\n",
       "    }\n",
       "</style>\n",
       "<table border=\"1\" class=\"dataframe\">\n",
       "  <thead>\n",
       "    <tr style=\"text-align: right;\">\n",
       "      <th></th>\n",
       "      <th>0</th>\n",
       "      <th>1</th>\n",
       "      <th>2</th>\n",
       "      <th>3</th>\n",
       "      <th>4</th>\n",
       "      <th>Model Mean</th>\n",
       "    </tr>\n",
       "  </thead>\n",
       "  <tbody>\n",
       "    <tr>\n",
       "      <th>General</th>\n",
       "      <td>0.18</td>\n",
       "      <td>0.19</td>\n",
       "      <td>0.19</td>\n",
       "      <td>0.17</td>\n",
       "      <td>0.17</td>\n",
       "      <td>0.18</td>\n",
       "    </tr>\n",
       "    <tr>\n",
       "      <th>Personalized</th>\n",
       "      <td>0.18</td>\n",
       "      <td>0.20</td>\n",
       "      <td>0.18</td>\n",
       "      <td>0.17</td>\n",
       "      <td>0.17</td>\n",
       "      <td>0.18</td>\n",
       "    </tr>\n",
       "  </tbody>\n",
       "</table>\n",
       "</div>"
      ],
      "text/plain": [
       "                 0     1     2     3     4  Model Mean\n",
       "General       0.18  0.19  0.19  0.17  0.17        0.18\n",
       "Personalized  0.18  0.20  0.18  0.17  0.17        0.18"
      ]
     },
     "execution_count": 40,
     "metadata": {},
     "output_type": "execute_result"
    }
   ],
   "source": [
    "dfN.round(2)"
   ]
  }
 ],
 "metadata": {
  "kernelspec": {
   "display_name": "Python 3",
   "language": "python",
   "name": "python3"
  },
  "language_info": {
   "codemirror_mode": {
    "name": "ipython",
    "version": 3
   },
   "file_extension": ".py",
   "mimetype": "text/x-python",
   "name": "python",
   "nbconvert_exporter": "python",
   "pygments_lexer": "ipython3",
   "version": "3.6.3"
  }
 },
 "nbformat": 4,
 "nbformat_minor": 2
}
