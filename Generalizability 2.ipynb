{
 "cells": [
  {
   "cell_type": "code",
   "execution_count": 1,
   "metadata": {},
   "outputs": [],
   "source": [
    "from functions import *\n",
    "%matplotlib inline"
   ]
  },
  {
   "cell_type": "markdown",
   "metadata": {},
   "source": [
    "Import the data of 5-minute windows preceding survey responses."
   ]
  },
  {
   "cell_type": "code",
   "execution_count": 2,
   "metadata": {},
   "outputs": [],
   "source": [
    "surveyfile = '../Data (Algebra 1)/YearSurvey.csv'\n",
    "featuredf = readData(surveyfile)\n",
    "featuredf = dropColumns(featuredf,['survey_id','time_window','question_id'])"
   ]
  },
  {
   "cell_type": "markdown",
   "metadata": {},
   "source": [
    "Import demographic file"
   ]
  },
  {
   "cell_type": "code",
   "execution_count": 3,
   "metadata": {},
   "outputs": [],
   "source": [
    "demofile = '../Data (Algebra 1)/YearDemographicsTest.csv'\n",
    "demodf = readData(demofile)"
   ]
  },
  {
   "cell_type": "markdown",
   "metadata": {},
   "source": [
    "Filter so survey and demographic files have the same indices"
   ]
  },
  {
   "cell_type": "code",
   "execution_count": 4,
   "metadata": {},
   "outputs": [],
   "source": [
    "demodf = filterByIndex(demodf,featuredf.index)\n",
    "featuredfA = filterByIndex(featuredf,demodf.index)\n",
    "allind = featuredfA.index"
   ]
  },
  {
   "cell_type": "markdown",
   "metadata": {},
   "source": [
    "Set up some common parameters"
   ]
  },
  {
   "cell_type": "code",
   "execution_count": 5,
   "metadata": {},
   "outputs": [],
   "source": [
    "nFolds = 10\n",
    "kfold = GroupKFold(n_splits = nFolds)"
   ]
  },
  {
   "cell_type": "code",
   "execution_count": 5,
   "metadata": {},
   "outputs": [],
   "source": [
    "nFolds = 4\n",
    "kfold = GroupKFold(n_splits = nFolds)"
   ]
  },
  {
   "cell_type": "markdown",
   "metadata": {},
   "source": [
    "Filter surveys according to positive or negative affective states"
   ]
  },
  {
   "cell_type": "code",
   "execution_count": 6,
   "metadata": {},
   "outputs": [],
   "source": [
    "featuredfP = pd.concat([featuredfA.loc[featuredfA['survey_question']=='Happiness'],featuredfA.loc[featuredfA['survey_question']=='Hopefulness'],\n",
    "                       featuredfA.loc[featuredfA['survey_question']=='Contentment'],featuredfA.loc[featuredfA['survey_question']=='Relief'],\n",
    "                       featuredfA.loc[featuredfA['survey_question']=='Pride'],featuredfA.loc[featuredfA['survey_question']=='Pleasantness'],\n",
    "                       featuredfA.loc[featuredfA['survey_question']=='Interest'],featuredfA.loc[featuredfA['survey_question']=='Arousal'],\n",
    "                       featuredfA.loc[featuredfA['survey_question']=='Engagement']]).sort_index()\n",
    "featuredfN = pd.concat([featuredfA.loc[featuredfA['survey_question']=='Frustration'],featuredfA.loc[featuredfA['survey_question']=='Confusion'],\n",
    "                       featuredfA.loc[featuredfA['survey_question']=='Disappointment'],featuredfA.loc[featuredfA['survey_question']=='Anxiety'],\n",
    "                       featuredfA.loc[featuredfA['survey_question']=='Sadness'],featuredfA.loc[featuredfA['survey_question']=='Mind Wandering'],\n",
    "                       featuredfA.loc[featuredfA['survey_question']=='Boredom']]).sort_index()"
   ]
  },
  {
   "cell_type": "code",
   "execution_count": 7,
   "metadata": {},
   "outputs": [],
   "source": [
    "labelSeriesP = featuredfP['survey_answer']\n",
    "featuredfP = dropColumns(featuredfP,['survey_answer','survey_question'])\n",
    "\n",
    "labelSeriesN = featuredfN['survey_answer']\n",
    "featuredfN = dropColumns(featuredfN,['survey_answer','survey_question'])\n",
    "\n",
    "labelSeriesA = featuredfA['survey_answer']\n",
    "featuredfA = dropColumns(featuredfA,['survey_answer','survey_question'])"
   ]
  },
  {
   "cell_type": "markdown",
   "metadata": {},
   "source": [
    "## Male/Female"
   ]
  },
  {
   "cell_type": "markdown",
   "metadata": {},
   "source": [
    "Divide female and male students in the demographic file and filter survey file accordingly"
   ]
  },
  {
   "cell_type": "code",
   "execution_count": null,
   "metadata": {},
   "outputs": [],
   "source": [
    "femaleind = demodf.loc[demodf['Female'] == 1].index\n",
    "maleind = demodf.loc[demodf['Female'] == 0].index"
   ]
  },
  {
   "cell_type": "markdown",
   "metadata": {},
   "source": [
    "Train positive and negative classifier on male/female/all and predict for male/female/all"
   ]
  },
  {
   "cell_type": "code",
   "execution_count": null,
   "metadata": {},
   "outputs": [],
   "source": [
    "scoresF = np.zeros((2,3))\n",
    "scoresM = scoresF.copy()\n",
    "scoresA = scoresF.copy()"
   ]
  },
  {
   "cell_type": "code",
   "execution_count": null,
   "metadata": {},
   "outputs": [],
   "source": [
    "statedfs = [featuredfP,featuredfN]\n",
    "labelSeries = [labelSeriesP,labelSeriesN]\n",
    "groupinds = [femaleind,maleind,allind]\n",
    "scores = [scoresF,scoresM,scoresA]\n",
    "\n",
    "# For each state (positive or negative)\n",
    "for s in range(len(statedfs)):\n",
    "    \n",
    "    # For each group (Female, Male, All)\n",
    "    for g1 in range(len(groupinds)):\n",
    "        featuredf = filterByIndex(statedfs[s],groupinds[g1])\n",
    "        groups = featuredf.index.values\n",
    "        features = featuredf.values\n",
    "        labels = filterByIndex(labelSeries[s],groupinds[g1]).values\n",
    "        \n",
    "        # Repeat for k folds\n",
    "        temp = np.zeros((nFolds,len(groupinds)))\n",
    "        for i, (train, test) in enumerate(kfold.split(features,labels,groups)):\n",
    "            # Train a model\n",
    "            _, model = classify(features[train],labels[train],features[test])\n",
    "            \n",
    "            # Predict for each group\n",
    "            for g2 in range(len(groupinds)):\n",
    "                predFeatures = filterByIndex(statedfs[s],groupinds[g2]).values\n",
    "                predLabels = filterByIndex(labelSeries[s],groupinds[g2]).values\n",
    "                preds = model.predict(predFeatures)\n",
    "                rho = evaluateSpearman(predLabels,preds)\n",
    "                temp[i,g2] = rho\n",
    "                \n",
    "        # Average across folds\n",
    "        avg = np.mean(temp,axis=0)\n",
    "        # Store results\n",
    "        scores[g1][s,:] = avg"
   ]
  },
  {
   "cell_type": "code",
   "execution_count": null,
   "metadata": {},
   "outputs": [],
   "source": [
    "columns = ['Test Female','Test Male','Test All']\n",
    "ind = ['Positive','Negative']\n",
    "\n",
    "dfF = pd.DataFrame(data=scoresF,index=ind,columns=columns)\n",
    "dfM = pd.DataFrame(data=scoresM,index=ind,columns=columns)\n",
    "dfA = pd.DataFrame(data=scoresA,index=ind,columns=columns)"
   ]
  },
  {
   "cell_type": "code",
   "execution_count": null,
   "metadata": {},
   "outputs": [],
   "source": [
    "dfA.round(2)"
   ]
  },
  {
   "cell_type": "code",
   "execution_count": null,
   "metadata": {},
   "outputs": [],
   "source": [
    "dfF.to_csv('../Data (Algebra 1)/small gender scores female.csv')\n",
    "dfM.to_csv('../Data (Algebra 1)/small gender scores male.csv')\n",
    "dfA.to_csv('../Data (Algebra 1)/small gender scores all.csv')"
   ]
  },
  {
   "cell_type": "markdown",
   "metadata": {},
   "source": [
    "Run a simulation of the above process, each time using a different sized training set"
   ]
  },
  {
   "cell_type": "code",
   "execution_count": null,
   "metadata": {},
   "outputs": [],
   "source": [
    "statedfs = [featuredfP,featuredfN]\n",
    "labelSeries = [labelSeriesP,labelSeriesN]\n",
    "groupinds = [femaleind,maleind,allind]\n",
    "for s in range(len(statedfs)):\n",
    "    for g1 in range(len(groupinds)):\n",
    "        print(filterByIndex(statedfs[s],groupinds[g1]).values.shape)"
   ]
  },
  {
   "cell_type": "code",
   "execution_count": null,
   "metadata": {},
   "outputs": [],
   "source": [
    "#iterations = 22\n",
    "iterations = 45\n",
    "#iterations = 61\n",
    "scoresSexP = np.zeros((iterations+1,9,nFolds))\n",
    "scoresSexN = scoresSexP.copy()"
   ]
  },
  {
   "cell_type": "code",
   "execution_count": null,
   "metadata": {},
   "outputs": [],
   "source": [
    "statedfs = [featuredfP,featuredfN]\n",
    "scores = [scoresSexP,scoresSexN]\n",
    "labelSeries = [labelSeriesP,labelSeriesN]\n",
    "groupinds = [femaleind,maleind,allind]\n",
    "\n",
    "start = 5\n",
    "end = start + iterations + 1\n",
    "\n",
    "# Run simulation for each increment\n",
    "for n in range(start, end):\n",
    "    print(n)\n",
    "    \n",
    "    # For each state (positive, negative)\n",
    "    for s in range(len(statedfs)):\n",
    "        combo = 0\n",
    "        # For each group (female, male, all)\n",
    "        for g1 in range(len(groupinds)):\n",
    "            features = filterByIndex(statedfs[s],groupinds[g1])\n",
    "            groups = features.index.values\n",
    "            features = features.values\n",
    "            labels = filterByIndex(labelSeries[s],groupinds[g1]).values\n",
    "            sample = np.random.choice(np.arange(len(labels)),n*100)\n",
    "            features = features[sample]\n",
    "            labels = labels[sample]\n",
    "            groups = groups[sample]\n",
    "            \n",
    "            # Test on all groups (female, male, all)\n",
    "            for g2 in range(len(groupinds)):\n",
    "                predFeatures = filterByIndex(statedfs[s],groupinds[g2]).values\n",
    "                predLabels = filterByIndex(labelSeries[s],groupinds[g2]).values\n",
    "            \n",
    "                # Repeat for k folds\n",
    "                for i, (train, test) in enumerate(kfold.split(features,labels,groups)):\n",
    "                    # Train a model\n",
    "                    _, model = classify(features[train],labels[train],features[test])\n",
    "                    # Predict\n",
    "                    preds = model.predict(predFeatures)\n",
    "                    rho = evaluateSpearman(predLabels,preds)\n",
    "                    scores[s][n-start,combo,i] = rho\n",
    "                combo = combo + 1"
   ]
  },
  {
   "cell_type": "code",
   "execution_count": null,
   "metadata": {},
   "outputs": [],
   "source": [
    "index = np.arange(start,end)\n",
    "columns = ['F/F','F/M','F/A','M/F','M/M','M/A','A/F','A/M','A/A']\n",
    "dfP = pd.DataFrame(data=np.mean(scoresSexP,axis=2),index=index,columns=columns)\n",
    "dfN = pd.DataFrame(data=np.mean(scoresSexN,axis=2),index=index,columns=columns)"
   ]
  },
  {
   "cell_type": "code",
   "execution_count": null,
   "metadata": {},
   "outputs": [],
   "source": [
    "#dfP.to_csv('../Data (Algebra 1)/simulation gender positive.csv')\n",
    "#dfN.to_csv('../Data (Algebra 1)/simulation gender negative.csv')\n",
    "#dfP.to_csv('../Data (Algebra 1)/simulation long gender positive.csv')\n",
    "#dfN.to_csv('../Data (Algebra 1)/simulation long gender negative.csv')\n",
    "dfP.to_csv('../Data (Algebra 1)/simulation small gender positive.csv')\n",
    "dfN.to_csv('../Data (Algebra 1)/simulation small gender negative.csv')"
   ]
  },
  {
   "cell_type": "code",
   "execution_count": null,
   "metadata": {},
   "outputs": [],
   "source": [
    "#dataP = readData('../Data (Algebra 1)/simulation gender positive.csv')\n",
    "#dataN = readData('../Data (Algebra 1)/simulation gender negative.csv')\n",
    "#dataP = readData('../Data (Algebra 1)/simulation long gender positive.csv')\n",
    "#dataN = readData('../Data (Algebra 1)/simulation long gender negative.csv')\n",
    "dataP = readData('../Data (Algebra 1)/simulation small gender positive.csv')\n",
    "dataN = readData('../Data (Algebra 1)/simulation small gender negative.csv')"
   ]
  },
  {
   "cell_type": "code",
   "execution_count": null,
   "metadata": {},
   "outputs": [],
   "source": [
    "inF = (dataN['F/F'] - dataN['A/F'])/(dataN['A/F'])\n",
    "inM = (dataN['M/M'] - dataN['A/M'])/(dataN['A/M'])\n",
    "outF = (dataN['F/F'] - dataN['M/F'])/(dataN['M/F'])\n",
    "outM = (dataN['M/M'] - dataN['F/M'])/(dataN['F/M'])\n",
    "print(max(max(inF),max(inM),max(outF),max(outM)))\n",
    "print(min(min(inF),min(inM),min(outF),min(outM)))"
   ]
  },
  {
   "cell_type": "code",
   "execution_count": null,
   "metadata": {
    "scrolled": true
   },
   "outputs": [],
   "source": [
    "fig, axs = plt.subplots(1, 2, sharex=True,figsize=(10, 4))\n",
    "axs[0].plot(inF,label='F')\n",
    "axs[0].plot(inM,label='M')\n",
    "axs[0].set_ylim(-0.57,0.62)\n",
    "axs[0].grid(True, which='both')\n",
    "axs[0].set_title('In-group')\n",
    "axs[0].legend()\n",
    "axs[0].axhline(y=0, color='k',linewidth=0.5)\n",
    "axs[1].plot(outF,label='F')\n",
    "axs[1].plot(outM,label='M')\n",
    "axs[1].set_title('Out-group')\n",
    "axs[1].grid(True, which='both')\n",
    "axs[1].legend()\n",
    "axs[1].axhline(y=0, color='k',linewidth=0.5)\n",
    "axs[1].set_ylim(-0.57,0.62)"
   ]
  },
  {
   "cell_type": "markdown",
   "metadata": {},
   "source": [
    "Run simulation 1000 times in order to get a more stable average"
   ]
  },
  {
   "cell_type": "code",
   "execution_count": null,
   "metadata": {},
   "outputs": [],
   "source": [
    "inFP = np.zeros((2,11))\n",
    "inMP = inFP.copy()\n",
    "outFP = inFP.copy()\n",
    "outMP = inFP.copy()\n",
    "inFN = inFP.copy()\n",
    "inMN = inFP.copy()\n",
    "outFN = inFP.copy()\n",
    "outMN = inFP.copy()"
   ]
  },
  {
   "cell_type": "code",
   "execution_count": null,
   "metadata": {},
   "outputs": [],
   "source": [
    "iterations = 10\n",
    "scoresSexP = np.zeros((iterations+1,9,nFolds))\n",
    "scoresSexN = scoresSexP.copy()\n",
    "\n",
    "statedfs = [featuredfP,featuredfN]\n",
    "scores = [scoresSexP,scoresSexN]\n",
    "labelSeries = [labelSeriesP,labelSeriesN]\n",
    "groupinds = [femaleind,maleind,allind]\n",
    "\n",
    "start = 5\n",
    "end = start + iterations + 1\n",
    "\n",
    "index = np.arange(start,end)\n",
    "columns = ['F/F','F/M','F/A','M/F','M/M','M/A','A/F','A/M','A/A']"
   ]
  },
  {
   "cell_type": "code",
   "execution_count": null,
   "metadata": {},
   "outputs": [],
   "source": [
    "for run in range(1002):\n",
    "    if run%50 == 0:\n",
    "        print(run)\n",
    "    # Run simulation for each increment\n",
    "    for n in range(start, end):\n",
    "        # For each state (positive, negative)\n",
    "        for s in range(len(statedfs)):\n",
    "            combo = 0\n",
    "            # For each group (female, male, all)\n",
    "            for g1 in range(len(groupinds)):\n",
    "                features = filterByIndex(statedfs[s],groupinds[g1])\n",
    "                groups = features.index.values\n",
    "                features = features.values\n",
    "                labels = filterByIndex(labelSeries[s],groupinds[g1]).values\n",
    "                sample = np.random.choice(np.arange(len(labels)),n*100)\n",
    "                features = features[sample]\n",
    "                labels = labels[sample]\n",
    "                groups = groups[sample]\n",
    "\n",
    "                # Test on all groups (female, male, all)\n",
    "                for g2 in range(len(groupinds)):\n",
    "                    predFeatures = filterByIndex(statedfs[s],groupinds[g2]).values\n",
    "                    predLabels = filterByIndex(labelSeries[s],groupinds[g2]).values\n",
    "\n",
    "                    # Repeat for k folds\n",
    "                    for i, (train, test) in enumerate(kfold.split(features,labels,groups)):\n",
    "                        # Train a model\n",
    "                        _, model = classify(features[train],labels[train],features[test])\n",
    "                        # Predict\n",
    "                        preds = model.predict(predFeatures)\n",
    "                        rho = evaluateSpearman(predLabels,preds)\n",
    "                        scores[s][n-start,combo,i] = rho\n",
    "                    combo = combo + 1\n",
    "    dfP = pd.DataFrame(data=np.mean(scoresSexP,axis=2),index=index,columns=columns)\n",
    "    dfN = pd.DataFrame(data=np.mean(scoresSexN,axis=2),index=index,columns=columns)\n",
    "    \n",
    "    inFP[run%2,:] = (dfP['F/F'] - dfP['A/F'])/(dfP['A/F']).values\n",
    "    if run%2 == 1:\n",
    "        f = open(\"../Data (Algebra 1)/Demographics/Simulations (new out)/Gender/inFP.csv\", \"a\")\n",
    "        np.savetxt(f, inFP,delimiter=',')\n",
    "        f.close()\n",
    "        print('saved')\n",
    "    \n",
    "    inMP[run%2,:] = (dfP['M/M'] - dfP['A/M'])/(dfP['A/M']).values\n",
    "    if run%2 == 1:\n",
    "        f = open(\"../Data (Algebra 1)/Demographics/Simulations (new out)/Gender/inMP.csv\", \"a\")\n",
    "        np.savetxt(f, inMP,delimiter=',')\n",
    "        f.close()\n",
    "    \n",
    "    outFP[run%2,:] = (dfP['M/F'] - dfP['F/F'])/(dfP['F/F']).values\n",
    "    if run%2 == 1:\n",
    "        f = open(\"../Data (Algebra 1)/Demographics/Simulations (new out)/Gender/outFP.csv\", \"a\")\n",
    "        np.savetxt(f, outFP,delimiter=',')\n",
    "        f.close()\n",
    "    \n",
    "    outMP[run%2,:] = (dfP['F/M'] - dfP['M/M'])/(dfP['M/M']).values\n",
    "    if run%2 == 1:\n",
    "        f = open(\"../Data (Algebra 1)/Demographics/Simulations (new out)/Gender/outMP.csv\", \"a\")\n",
    "        np.savetxt(f, outMP,delimiter=',')\n",
    "        f.close()\n",
    "    \n",
    "    inFN[run%2,:] = (dfN['F/F'] - dfN['A/F'])/(dfN['A/F']).values\n",
    "    if run%2 == 1:\n",
    "        f = open(\"../Data (Algebra 1)/Demographics/Simulations (new out)/Gender/inFN.csv\", \"a\")\n",
    "        np.savetxt(f, inFN,delimiter=',')\n",
    "        f.close()\n",
    "    \n",
    "    inMN[run%2,:] = (dfN['M/M'] - dfN['A/M'])/(dfN['A/M']).values\n",
    "    if run%2 == 1:    \n",
    "        f = open(\"../Data (Algebra 1)/Demographics/Simulations (new out)/Gender/inMN.csv\", \"a\")\n",
    "        np.savetxt(f, inMN,delimiter=',')\n",
    "        f.close()\n",
    "    \n",
    "    outFN[run%2,:] = (dfN['M/F'] - dfN['F/F'])/(dfN['F/F']).values\n",
    "    if run%2 == 1:\n",
    "        f = open(\"../Data (Algebra 1)/Demographics/Simulations (new out)/Gender/outFN.csv\", \"a\")\n",
    "        np.savetxt(f, outFN,delimiter=',')\n",
    "        f.close()\n",
    "    \n",
    "    outMN[run%2,:] = (dfN['F/M'] - dfN['M/M'])/(dfN['M/M']).values\n",
    "    if run%2 == 1:    \n",
    "        f = open(\"../Data (Algebra 1)/Demographics/Simulations (new out)/Gender/outMN.csv\", \"a\")\n",
    "        np.savetxt(f, outMN,delimiter=',')\n",
    "        f.close()"
   ]
  },
  {
   "cell_type": "markdown",
   "metadata": {},
   "source": [
    "## Lunch status"
   ]
  },
  {
   "cell_type": "markdown",
   "metadata": {},
   "source": [
    "Divide students by lunch status in the demographic file and filter survey file accordingly"
   ]
  },
  {
   "cell_type": "code",
   "execution_count": null,
   "metadata": {},
   "outputs": [],
   "source": [
    "yesind = pd.concat([demodf.loc[demodf['Free Lunch'] == 1],\n",
    "                    demodf.loc[demodf['Reduced Lunch'] == 1]]).sort_index().index\n",
    "noind = demodf.loc[demodf['Other Lunch'] == 1].index"
   ]
  },
  {
   "cell_type": "markdown",
   "metadata": {},
   "source": [
    "Train positive and negative classifier on yes/no/all and predict for yes/no/all"
   ]
  },
  {
   "cell_type": "code",
   "execution_count": null,
   "metadata": {},
   "outputs": [],
   "source": [
    "scoresY = np.zeros((2,3))\n",
    "scoresN = scoresY.copy()\n",
    "scoresA = scoresY.copy()"
   ]
  },
  {
   "cell_type": "code",
   "execution_count": null,
   "metadata": {},
   "outputs": [],
   "source": [
    "statedfs = [featuredfP,featuredfN]\n",
    "labelSeries = [labelSeriesP,labelSeriesN]\n",
    "groupinds = [yesind,noind,allind]\n",
    "scores = [scoresY,scoresN,scoresA]\n",
    "\n",
    "# For each state (positive or negative)\n",
    "for s in range(len(statedfs)):\n",
    "    \n",
    "    # For each group (Yes, No, All)\n",
    "    for g1 in range(len(groupinds)):\n",
    "        featuredf = filterByIndex(statedfs[s],groupinds[g1])\n",
    "        groups = featuredf.index.values\n",
    "        features = featuredf.values\n",
    "        labels = filterByIndex(labelSeries[s],groupinds[g1]).values\n",
    "        \n",
    "        # Repeat for k folds\n",
    "        temp = np.zeros((nFolds,len(groupinds)))\n",
    "        for i, (train, test) in enumerate(kfold.split(features,labels,groups)):\n",
    "            # Train a model\n",
    "            _, model = classify(features[train],labels[train],features[test])\n",
    "            \n",
    "            # Predict for each group\n",
    "            for g2 in range(len(groupinds)):\n",
    "                predFeatures = filterByIndex(statedfs[s],groupinds[g2]).values\n",
    "                predLabels = filterByIndex(labelSeries[s],groupinds[g2]).values\n",
    "                preds = model.predict(predFeatures)\n",
    "                rho = evaluateSpearman(predLabels,preds)\n",
    "                temp[i,g2] = rho\n",
    "                \n",
    "        # Average across folds\n",
    "        avg = np.mean(temp,axis=0)\n",
    "        # Store results\n",
    "        scores[g1][s,:] = avg"
   ]
  },
  {
   "cell_type": "code",
   "execution_count": null,
   "metadata": {},
   "outputs": [],
   "source": [
    "columns = ['Test F/R','Test Other','Test All']\n",
    "ind = ['Positive','Negative']\n",
    "\n",
    "dfY = pd.DataFrame(data=scoresY,index=ind,columns=columns)\n",
    "dfN = pd.DataFrame(data=scoresN,index=ind,columns=columns)\n",
    "dfA = pd.DataFrame(data=scoresA,index=ind,columns=columns)"
   ]
  },
  {
   "cell_type": "code",
   "execution_count": null,
   "metadata": {},
   "outputs": [],
   "source": [
    "dfA.round(2)"
   ]
  },
  {
   "cell_type": "code",
   "execution_count": null,
   "metadata": {},
   "outputs": [],
   "source": [
    "dfY.to_csv('../Data (Algebra 1)/small lunch scores free reduced.csv')\n",
    "dfN.to_csv('../Data (Algebra 1)/small lunch scores other.csv')\n",
    "dfA.to_csv('../Data (Algebra 1)/small lunch scores all.csv')"
   ]
  },
  {
   "cell_type": "markdown",
   "metadata": {},
   "source": [
    "Run a simulation of the above process, each time using a different sized training set"
   ]
  },
  {
   "cell_type": "code",
   "execution_count": null,
   "metadata": {},
   "outputs": [],
   "source": [
    "statedfs = [featuredfP,featuredfN]\n",
    "labelSeries = [labelSeriesP,labelSeriesN]\n",
    "groupinds = [yesind,noind,allind]\n",
    "for s in range(len(statedfs)):\n",
    "    for g1 in range(len(groupinds)):\n",
    "        print(filterByIndex(statedfs[s],groupinds[g1]).values.shape)"
   ]
  },
  {
   "cell_type": "code",
   "execution_count": null,
   "metadata": {},
   "outputs": [],
   "source": [
    "#iterations = 21\n",
    "iterations = 45\n",
    "#iterations = 61\n",
    "scoresLunchP = np.zeros((iterations+1,9,nFolds))\n",
    "scoresLunchN = scoresLunchP.copy()"
   ]
  },
  {
   "cell_type": "code",
   "execution_count": null,
   "metadata": {},
   "outputs": [],
   "source": [
    "statedfs = [featuredfP,featuredfN]\n",
    "scores = [scoresLunchP,scoresLunchN]\n",
    "labelSeries = [labelSeriesP,labelSeriesN]\n",
    "groupinds = [yesind,noind,allind]\n",
    "\n",
    "start = 5\n",
    "end = start + iterations + 1\n",
    "\n",
    "# Run simulation for each increment\n",
    "for n in range(start,end):\n",
    "    print(n)\n",
    "    \n",
    "    # For each state (positive, negative)\n",
    "    for s in range(len(statedfs)):\n",
    "        combo = 0\n",
    "        # For each group (female, male, all)\n",
    "        for g1 in range(len(groupinds)):\n",
    "            features = filterByIndex(statedfs[s],groupinds[g1])\n",
    "            groups = features.index.values\n",
    "            features = features.values\n",
    "            labels = filterByIndex(labelSeries[s],groupinds[g1]).values\n",
    "            sample = np.random.choice(np.arange(len(labels)),n*100)\n",
    "            features = features[sample]\n",
    "            labels = labels[sample]\n",
    "            groups = groups[sample]\n",
    "            \n",
    "            # Test on all groups (female, male, all)\n",
    "            for g2 in range(len(groupinds)):\n",
    "                predFeatures = filterByIndex(statedfs[s],groupinds[g2]).values\n",
    "                predLabels = filterByIndex(labelSeries[s],groupinds[g2]).values\n",
    "            \n",
    "                # Repeat for k folds\n",
    "                for i, (train, test) in enumerate(kfold.split(features,labels,groups)):\n",
    "                    # Train a model\n",
    "                    _, model = classify(features[train],labels[train],features[test])\n",
    "                    # Predict\n",
    "                    preds = model.predict(predFeatures)\n",
    "                    rho = evaluateSpearman(predLabels,preds)\n",
    "                    scores[s][n-start,combo,i] = rho\n",
    "                combo = combo + 1"
   ]
  },
  {
   "cell_type": "code",
   "execution_count": null,
   "metadata": {},
   "outputs": [],
   "source": [
    "index = np.arange(start,end)\n",
    "columns = ['Y/Y','Y/N','Y/A','N/Y','N/N','N/A','A/Y','A/N','A/A']\n",
    "dfP = pd.DataFrame(data=np.mean(scoresLunchP,axis=2),index=index,columns=columns)\n",
    "dfN = pd.DataFrame(data=np.mean(scoresLunchN,axis=2),index=index,columns=columns)"
   ]
  },
  {
   "cell_type": "code",
   "execution_count": null,
   "metadata": {},
   "outputs": [],
   "source": [
    "#dfP.to_csv('../Data (Algebra 1)/simulation lunch positive.csv')\n",
    "#dfN.to_csv('../Data (Algebra 1)/simulation lunch negative.csv')\n",
    "#dfP.to_csv('../Data (Algebra 1)/simulation long lunch positive.csv')\n",
    "#dfN.to_csv('../Data (Algebra 1)/simulation long lunch negative.csv')\n",
    "dfP.to_csv('../Data (Algebra 1)/simulation small lunch positive.csv')\n",
    "dfN.to_csv('../Data (Algebra 1)/simulation small lunch negative.csv')"
   ]
  },
  {
   "cell_type": "code",
   "execution_count": null,
   "metadata": {},
   "outputs": [],
   "source": [
    "#dataP = readData('../Data (Algebra 1)/simulation lunch positive.csv')\n",
    "#dataN = readData('../Data (Algebra 1)/simulation lunch negative.csv')\n",
    "#dataP = readData('../Data (Algebra 1)/simulation long lunch positive.csv')\n",
    "#dataN = readData('../Data (Algebra 1)/simulation long lunch negative.csv')\n",
    "dataP = readData('../Data (Algebra 1)/simulation small lunch positive.csv')\n",
    "dataN = readData('../Data (Algebra 1)/simulation small lunch negative.csv')"
   ]
  },
  {
   "cell_type": "code",
   "execution_count": null,
   "metadata": {},
   "outputs": [],
   "source": [
    "inY = (dataN['Y/Y'] - dataN['A/Y'])/(dataN['A/Y'])\n",
    "inN = (dataN['N/N'] - dataN['A/N'])/(dataN['A/N'])\n",
    "outY = (dataN['Y/Y'] - dataN['N/Y'])/(dataN['N/Y'])\n",
    "outN = (dataN['N/N'] - dataN['Y/N'])/(dataN['Y/N'])\n",
    "print(max(max(inY),max(inN),max(outY),max(outN)))\n",
    "print(min(min(inY),min(inN),min(outY),min(outN)))"
   ]
  },
  {
   "cell_type": "code",
   "execution_count": null,
   "metadata": {},
   "outputs": [],
   "source": [
    "fig, axs = plt.subplots(1, 2, sharex=True,figsize=(10, 4))\n",
    "axs[0].plot(inY,label='F/R')\n",
    "axs[0].plot(inN,label='Other')\n",
    "axs[0].set_ylim(-0.75,0.5)\n",
    "axs[0].grid(True, which='both')\n",
    "axs[0].set_title('In-group')\n",
    "axs[0].legend()\n",
    "axs[0].axhline(y=0, color='k',linewidth=0.5)\n",
    "axs[1].plot(outY,label='F/R')\n",
    "axs[1].plot(outN,label='Other')\n",
    "axs[1].set_title('Out-group')\n",
    "axs[1].grid(True, which='both')\n",
    "axs[1].legend()\n",
    "axs[1].axhline(y=0, color='k',linewidth=0.5)\n",
    "axs[1].set_ylim(-0.75,0.5)"
   ]
  },
  {
   "cell_type": "markdown",
   "metadata": {},
   "source": [
    "Run simulation 1000 times in order to get a more stable average"
   ]
  },
  {
   "cell_type": "code",
   "execution_count": null,
   "metadata": {},
   "outputs": [],
   "source": [
    "inYP = np.zeros((2,11))\n",
    "inNP = inYP.copy()\n",
    "outYP = inYP.copy()\n",
    "outNP = inYP.copy()\n",
    "inYN = inYP.copy()\n",
    "inNN = inYP.copy()\n",
    "outYN = inYP.copy()\n",
    "outNN = inYP.copy()"
   ]
  },
  {
   "cell_type": "code",
   "execution_count": null,
   "metadata": {},
   "outputs": [],
   "source": [
    "iterations = 10\n",
    "scoresLunchP = np.zeros((iterations+1,9,nFolds))\n",
    "scoresLunchN = scoresLunchP.copy()\n",
    "\n",
    "statedfs = [featuredfP,featuredfN]\n",
    "scores = [scoresLunchP,scoresLunchN]\n",
    "labelSeries = [labelSeriesP,labelSeriesN]\n",
    "groupinds = [yesind,noind,allind]\n",
    "\n",
    "start = 8\n",
    "end = start + iterations + 1\n",
    "\n",
    "index = np.arange(start,end)\n",
    "columns = ['Y/Y','Y/N','Y/A','N/Y','N/N','N/A','A/Y','A/N','A/A']"
   ]
  },
  {
   "cell_type": "code",
   "execution_count": null,
   "metadata": {},
   "outputs": [],
   "source": [
    "for run in range(425):\n",
    "    if run%25 == 0:\n",
    "        print(run)\n",
    "    # Run simulation for each increment\n",
    "    for n in range(start, end):\n",
    "        # For each state (positive, negative)\n",
    "        for s in range(len(statedfs)):\n",
    "            combo = 0\n",
    "            # For each group (female, male, all)\n",
    "            for g1 in range(len(groupinds)):\n",
    "                features = filterByIndex(statedfs[s],groupinds[g1])\n",
    "                groups = features.index.values\n",
    "                features = features.values\n",
    "                labels = filterByIndex(labelSeries[s],groupinds[g1]).values\n",
    "                sample = np.random.choice(np.arange(len(labels)),n*100)\n",
    "                features = features[sample]\n",
    "                labels = labels[sample]\n",
    "                groups = groups[sample]\n",
    "\n",
    "                # Test on all groups (female, male, all)\n",
    "                for g2 in range(len(groupinds)):\n",
    "                    predFeatures = filterByIndex(statedfs[s],groupinds[g2]).values\n",
    "                    predLabels = filterByIndex(labelSeries[s],groupinds[g2]).values\n",
    "\n",
    "                    # Repeat for k folds\n",
    "                    for i, (train, test) in enumerate(kfold.split(features,labels,groups)):\n",
    "                        # Train a model\n",
    "                        _, model = classify(features[train],labels[train],features[test])\n",
    "                        # Predict\n",
    "                        preds = model.predict(predFeatures)\n",
    "                        rho = evaluateSpearman(predLabels,preds)\n",
    "                        scores[s][n-start,combo,i] = rho\n",
    "                    combo = combo + 1\n",
    "    dfP = pd.DataFrame(data=np.mean(scoresLunchP,axis=2),index=index,columns=columns)\n",
    "    dfN = pd.DataFrame(data=np.mean(scoresLunchN,axis=2),index=index,columns=columns)\n",
    "    \n",
    "    inYP[run%2,:] = (dfP['Y/Y'] - dfP['A/Y'])/(dfP['A/Y']).values\n",
    "    if run%2 == 1:\n",
    "        f = open(\"../Data (Algebra 1)/Demographics/Simulations (new out)/Lunch Status/inYP.csv\", \"a\")\n",
    "        np.savetxt(f, inYP,delimiter=',')\n",
    "        f.close()\n",
    "    \n",
    "    inNP[run%2,:] = (dfP['N/N'] - dfP['A/N'])/(dfP['A/N']).values\n",
    "    if run%2 == 1:\n",
    "        f = open(\"../Data (Algebra 1)/Demographics/Simulations (new out)/Lunch Status/inNP.csv\", \"a\")\n",
    "        np.savetxt(f, inNP,delimiter=',')\n",
    "        f.close()\n",
    "    \n",
    "    outYP[run%2,:] = (dfP['Y/Y'] - dfP['N/Y'])/(dfP['N/Y']).values\n",
    "    if run%2 == 1:\n",
    "        f = open(\"../Data (Algebra 1)/Demographics/Simulations (new out)/Lunch Status/outYP.csv\", \"a\")\n",
    "        np.savetxt(f, outYP,delimiter=',')\n",
    "        f.close()\n",
    "    \n",
    "    outNP[run%2,:] = (dfP['N/N'] - dfP['Y/N'])/(dfP['Y/N']).values\n",
    "    if run%2 == 1:\n",
    "        f = open(\"../Data (Algebra 1)/Demographics/Simulations (new out)/Lunch Status/outNP.csv\", \"a\")\n",
    "        np.savetxt(f, outNP,delimiter=',')\n",
    "        f.close()\n",
    "    \n",
    "    inYN[run%2,:] = (dfN['Y/Y'] - dfN['A/Y'])/(dfN['A/Y']).values\n",
    "    if run%2 == 1:\n",
    "        f = open(\"../Data (Algebra 1)/Demographics/Simulations (new out)/Lunch Status/inYN.csv\", \"a\")\n",
    "        np.savetxt(f, inYN,delimiter=',')\n",
    "        f.close()\n",
    "    \n",
    "    inNN[run%2,:] = (dfN['N/N'] - dfN['A/N'])/(dfN['A/N']).values\n",
    "    if run%2 == 1:    \n",
    "        f = open(\"../Data (Algebra 1)/Demographics/Simulations (new out)/Lunch Status/inNN.csv\", \"a\")\n",
    "        np.savetxt(f, inNN,delimiter=',')\n",
    "        f.close()\n",
    "    \n",
    "    outYN[run%2,:] = (dfN['Y/Y'] - dfN['N/Y'])/(dfN['N/Y']).values\n",
    "    if run%2 == 1:\n",
    "        f = open(\"../Data (Algebra 1)/Demographics/Simulations (new out)/Lunch Status/outYN.csv\", \"a\")\n",
    "        np.savetxt(f, outYN,delimiter=',')\n",
    "        f.close()\n",
    "    \n",
    "    outNN[run%2,:] = (dfN['N/N'] - dfN['Y/N'])/(dfN['Y/N']).values\n",
    "    if run%2 == 1:    \n",
    "        f = open(\"../Data (Algebra 1)/Demographics/Simulations (new out)/Lunch Status/outNN.csv\", \"a\")\n",
    "        np.savetxt(f, outNN,delimiter=',')\n",
    "        f.close()"
   ]
  },
  {
   "cell_type": "markdown",
   "metadata": {},
   "source": [
    "## Grade"
   ]
  },
  {
   "cell_type": "markdown",
   "metadata": {},
   "source": [
    "Divide students by grade level in the demographic file and filter survey file accordingly"
   ]
  },
  {
   "cell_type": "code",
   "execution_count": null,
   "metadata": {},
   "outputs": [],
   "source": [
    "middleind = pd.concat([demodf.loc[demodf['Grade 6'] == 1],demodf.loc[demodf['Grade 7'] == 1],\n",
    "                       demodf.loc[demodf['Grade 8'] == 1]]).sort_index().index\n",
    "freshind = demodf.loc[demodf['Grade 9'] == 1].index\n",
    "highind = pd.concat([demodf.loc[demodf['Grade 10'] == 1],demodf.loc[demodf['Grade 11'] == 1],\n",
    "                               demodf.loc[demodf['Grade 12'] == 1]]).sort_index().index\n",
    "# combined groups\n",
    "MFind = middleind.union(freshind)\n",
    "MHind = middleind.union(highind)\n",
    "FHind = freshind.union(highind)"
   ]
  },
  {
   "cell_type": "markdown",
   "metadata": {},
   "source": [
    "Train positive and negative classifier on middle/ninth/high/all and predict for middle/ninth/high/all"
   ]
  },
  {
   "cell_type": "code",
   "execution_count": null,
   "metadata": {},
   "outputs": [],
   "source": [
    "scoresM = np.zeros((2,4))\n",
    "scoresF = scoresM.copy()\n",
    "scoresH = scoresM.copy()\n",
    "scoresA = scoresM.copy()"
   ]
  },
  {
   "cell_type": "code",
   "execution_count": null,
   "metadata": {},
   "outputs": [],
   "source": [
    "statedfs = [featuredfP,featuredfN]\n",
    "labelSeries = [labelSeriesP,labelSeriesN]\n",
    "groupinds = [middleind,freshind,highind,allind]\n",
    "scores = [scoresM,scoresF,scoresH,scoresA]\n",
    "\n",
    "# For each state (positive or negative)\n",
    "for s in range(len(statedfs)):\n",
    "    \n",
    "    # For each group (Middle, Ninth, High, All)\n",
    "    for g1 in range(len(groupinds)):\n",
    "        featuredf = filterByIndex(statedfs[s],groupinds[g1])\n",
    "        groups = featuredf.index.values\n",
    "        features = featuredf.values\n",
    "        labels = filterByIndex(labelSeries[s],groupinds[g1]).values\n",
    "        \n",
    "        # Repeat for k folds\n",
    "        temp = np.zeros((nFolds,len(groupinds)))\n",
    "        for i, (train, test) in enumerate(kfold.split(features,labels,groups)):\n",
    "            # Train a model\n",
    "            _, model = classify(features[train],labels[train],features[test])\n",
    "            \n",
    "            # Predict for each group\n",
    "            for g2 in range(len(groupinds)):\n",
    "                predFeatures = filterByIndex(statedfs[s],groupinds[g2]).values\n",
    "                predLabels = filterByIndex(labelSeries[s],groupinds[g2]).values\n",
    "                preds = model.predict(predFeatures)\n",
    "                rho = evaluateSpearman(predLabels,preds)\n",
    "                temp[i,g2] = rho\n",
    "                \n",
    "        # Average across folds\n",
    "        avg = np.mean(temp,axis=0)\n",
    "        # Store results\n",
    "        scores[g1][s,:] = avg"
   ]
  },
  {
   "cell_type": "code",
   "execution_count": null,
   "metadata": {},
   "outputs": [],
   "source": [
    "columns = ['Test Middle','Test Ninth','Test High','Test All']\n",
    "ind = ['Positive','Negative']\n",
    "\n",
    "dfM = pd.DataFrame(data=scoresM,index=ind,columns=columns)\n",
    "dfF = pd.DataFrame(data=scoresF,index=ind,columns=columns)\n",
    "dfH = pd.DataFrame(data=scoresH,index=ind,columns=columns)\n",
    "dfA = pd.DataFrame(data=scoresA,index=ind,columns=columns)"
   ]
  },
  {
   "cell_type": "code",
   "execution_count": null,
   "metadata": {},
   "outputs": [],
   "source": [
    "dfA.round(2)"
   ]
  },
  {
   "cell_type": "code",
   "execution_count": null,
   "metadata": {},
   "outputs": [],
   "source": [
    "dfM.to_csv('../Data (Algebra 1)/small grade scores middle.csv')\n",
    "dfF.to_csv('../Data (Algebra 1)/small grade scores ninth.csv')\n",
    "dfH.to_csv('../Data (Algebra 1)/small grade scores high.csv')\n",
    "dfA.to_csv('../Data (Algebra 1)/small grade scores all.csv')"
   ]
  },
  {
   "cell_type": "markdown",
   "metadata": {},
   "source": [
    "Run a simulation of the above process, each time using a different sized training set"
   ]
  },
  {
   "cell_type": "code",
   "execution_count": null,
   "metadata": {},
   "outputs": [],
   "source": [
    "statedfs = [featuredfP,featuredfN]\n",
    "labelSeries = [labelSeriesP,labelSeriesN]\n",
    "groupinds = [middleind,freshind,highind,allind,MFind,MHind,FHind]\n",
    "for s in range(len(statedfs)):\n",
    "    for g1 in range(len(groupinds)):\n",
    "        print(filterByIndex(statedfs[s],groupinds[g1]).values.shape)"
   ]
  },
  {
   "cell_type": "code",
   "execution_count": null,
   "metadata": {},
   "outputs": [],
   "source": [
    "#iterations = 12\n",
    "iterations = 45\n",
    "#iterations = 61\n",
    "scoresGradeP = np.zeros((iterations+1,9,nFolds))\n",
    "scoresGradeN = scoresGradeP.copy()"
   ]
  },
  {
   "cell_type": "code",
   "execution_count": null,
   "metadata": {},
   "outputs": [],
   "source": [
    "statedfs = [featuredfP,featuredfN]\n",
    "scores = [scoresGradeP,scoresGradeN]\n",
    "labelSeries = [labelSeriesP,labelSeriesN]\n",
    "traininds = [middleind,freshind,highind,allind,allind,allind,MFind,MHind,FHind]\n",
    "testinds = [middleind,freshind,highind,middleind,freshind,highind,highind,freshind,middleind]\n",
    "\n",
    "start = 5\n",
    "end = start + iterations + 1\n",
    "\n",
    "# Run simulation for each increment of 1,000\n",
    "for n in range(start,end):\n",
    "    print(n)\n",
    "    \n",
    "    # For each state (positive, negative)\n",
    "    for s in range(len(statedfs)):\n",
    "        \n",
    "        # For each combination\n",
    "        for g in range(len(traininds)):\n",
    "            # get training data\n",
    "            features = filterByIndex(statedfs[s],traininds[g])\n",
    "            groups = features.index.values\n",
    "            features = features.values\n",
    "            labels = filterByIndex(labelSeries[s],traininds[g]).values\n",
    "            sample = np.random.choice(np.arange(len(labels)),n*100)\n",
    "            features = features[sample]\n",
    "            labels = labels[sample]\n",
    "            groups = groups[sample]\n",
    "            \n",
    "            # get testing data\n",
    "            predFeatures = filterByIndex(statedfs[s],testinds[g]).values\n",
    "            predLabels = filterByIndex(labelSeries[s],testinds[g]).values\n",
    "            \n",
    "            # Repeat for k folds\n",
    "            for i, (train, test) in enumerate(kfold.split(features,labels,groups)):\n",
    "                # Train a model\n",
    "                _, model = classify(features[train],labels[train],features[test])\n",
    "                # Predict\n",
    "                preds = model.predict(predFeatures)\n",
    "                rho = evaluateSpearman(predLabels,preds)\n",
    "                scores[s][n-start,g,i] = rho"
   ]
  },
  {
   "cell_type": "code",
   "execution_count": null,
   "metadata": {},
   "outputs": [],
   "source": [
    "index = np.arange(start,end)\n",
    "columns = ['M/M','F/F','H/H','A/M','A/F','A/H','MF/H','MH/F','FH/M']\n",
    "dfP = pd.DataFrame(data=np.mean(scoresGradeP,axis=2),index=index,columns=columns)\n",
    "dfN = pd.DataFrame(data=np.mean(scoresGradeN,axis=2),index=index,columns=columns)"
   ]
  },
  {
   "cell_type": "code",
   "execution_count": null,
   "metadata": {},
   "outputs": [],
   "source": [
    "#dfP.to_csv('../Data (Algebra 1)/simulation grade positive.csv')\n",
    "#dfN.to_csv('../Data (Algebra 1)/simulation grade negative.csv')\n",
    "#dfP.to_csv('../Data (Algebra 1)/simulation long grade positive.csv')\n",
    "#dfN.to_csv('../Data (Algebra 1)/simulation long grade negative.csv')\n",
    "dfP.to_csv('../Data (Algebra 1)/simulation small grade positive.csv')\n",
    "dfN.to_csv('../Data (Algebra 1)/simulation small grade negative.csv')"
   ]
  },
  {
   "cell_type": "code",
   "execution_count": null,
   "metadata": {},
   "outputs": [],
   "source": [
    "#dataP = readData('../Data (Algebra 1)/simulation grade positive.csv')\n",
    "#dataN = readData('../Data (Algebra 1)/simulation grade negative.csv')\n",
    "#dataP = readData('../Data (Algebra 1)/simulation long grade positive.csv')\n",
    "#dataN = readData('../Data (Algebra 1)/simulation long grade negative.csv')\n",
    "dataP = readData('../Data (Algebra 1)/simulation small grade positive.csv')\n",
    "dataN = readData('../Data (Algebra 1)/simulation small grade negative.csv')"
   ]
  },
  {
   "cell_type": "code",
   "execution_count": null,
   "metadata": {},
   "outputs": [],
   "source": [
    "inM = (dataN['M/M'] - dataN['A/M'])/(dataN['A/M'])\n",
    "inF = (dataN['F/F'] - dataN['A/F'])/(dataN['A/F'])\n",
    "inH = (dataN['H/H'] - dataN['A/H'])/(dataN['A/H'])\n",
    "\n",
    "outF = (dataN['F/F'] - dataN['MH/F'])/(dataN['MH/F'])\n",
    "outM = (dataN['M/M'] - dataN['FH/M'])/(dataN['FH/M'])\n",
    "outH = (dataN['H/H'] - dataN['MF/H'])/(dataN['MF/H'])\n",
    "\n",
    "print(max(max(inM),max(inF),max(outM),max(outF),max(inH),max(outH)))\n",
    "print(min(min(inF),min(inM),min(outF),min(outM),min(inH),max(outH)))"
   ]
  },
  {
   "cell_type": "code",
   "execution_count": null,
   "metadata": {},
   "outputs": [],
   "source": [
    "fig, axs = plt.subplots(1, 2, sharex=True,figsize=(10, 4))\n",
    "axs[0].plot(inM,label='Middle')\n",
    "axs[0].plot(inF,label='9th')\n",
    "axs[0].plot(inH[:23],label='High')\n",
    "axs[0].set_ylim(-0.5,1.5)\n",
    "axs[0].grid(True, which='both')\n",
    "axs[0].set_title('In-group')\n",
    "axs[0].legend()\n",
    "axs[0].axhline(y=0, color='k',linewidth=0.5)\n",
    "axs[1].plot(outM,label='Middle')\n",
    "axs[1].plot(outF,label='9th')\n",
    "axs[1].plot(outH[:23],label='High')\n",
    "axs[1].set_title('Out-group')\n",
    "axs[1].grid(True, which='both')\n",
    "axs[1].legend()\n",
    "axs[1].axhline(y=0, color='k',linewidth=0.5)\n",
    "axs[1].set_ylim(-0.5,1.5)"
   ]
  },
  {
   "cell_type": "markdown",
   "metadata": {},
   "source": [
    "Run simulation 100 times in order to get a more stable average"
   ]
  },
  {
   "cell_type": "code",
   "execution_count": null,
   "metadata": {},
   "outputs": [],
   "source": [
    "inMP = np.zeros((2,11))\n",
    "inFP = inMP.copy()\n",
    "inHP = inMP.copy()\n",
    "outMP = inMP.copy()\n",
    "outFP = inMP.copy()\n",
    "outHP = inMP.copy()\n",
    "inMN = inMP.copy()\n",
    "inFN = inMP.copy()\n",
    "inHN = inMP.copy()\n",
    "outMN = inMP.copy()\n",
    "outFN = inMP.copy()\n",
    "outHN = inMP.copy()"
   ]
  },
  {
   "cell_type": "code",
   "execution_count": null,
   "metadata": {},
   "outputs": [],
   "source": [
    "iterations = 10\n",
    "scoresGradeP = np.zeros((iterations+1,9,nFolds))\n",
    "scoresGradeN = scoresGradeP.copy()\n",
    "\n",
    "statedfs = [featuredfP,featuredfN]\n",
    "scores = [scoresGradeP,scoresGradeN]\n",
    "labelSeries = [labelSeriesP,labelSeriesN]\n",
    "traininds = [middleind,freshind,highind,allind,allind,allind,MFind,MHind,FHind]\n",
    "testinds = [middleind,freshind,highind,middleind,freshind,highind,highind,freshind,middleind]\n",
    "\n",
    "start = 8\n",
    "end = start + iterations + 1\n",
    "\n",
    "index = np.arange(start,end)\n",
    "columns = ['M/M','F/F','H/H','A/M','A/F','A/H','MF/H','MH/F','FH/M']"
   ]
  },
  {
   "cell_type": "code",
   "execution_count": null,
   "metadata": {
    "scrolled": true
   },
   "outputs": [],
   "source": [
    "for run in range(1002):\n",
    "    if run%25 == 0:\n",
    "        print(run)\n",
    "    # Run simulation for each increment\n",
    "    for n in range(start,end):\n",
    "        # For each state (positive, negative)\n",
    "        for s in range(len(statedfs)):\n",
    "            # For each combination\n",
    "            for g in range(len(traininds)):\n",
    "                # get training data\n",
    "                features = filterByIndex(statedfs[s],traininds[g])\n",
    "                groups = features.index.values\n",
    "                features = features.values\n",
    "                labels = filterByIndex(labelSeries[s],traininds[g]).values\n",
    "                sample = np.random.choice(np.arange(len(labels)),n*100)\n",
    "                features = features[sample]\n",
    "                labels = labels[sample]\n",
    "                groups = groups[sample]\n",
    "\n",
    "                # get testing data\n",
    "                predFeatures = filterByIndex(statedfs[s],testinds[g]).values\n",
    "                predLabels = filterByIndex(labelSeries[s],testinds[g]).values\n",
    "\n",
    "                # Repeat for k folds\n",
    "                for i, (train, test) in enumerate(kfold.split(features,labels,groups)):\n",
    "                    # Train a model\n",
    "                    _, model = classify(features[train],labels[train],features[test])\n",
    "                    # Predict\n",
    "                    preds = model.predict(predFeatures)\n",
    "                    rho = evaluateSpearman(predLabels,preds)\n",
    "                    scores[s][n-start,g,i] = rho\n",
    "    dfP = pd.DataFrame(data=np.mean(scoresGradeP,axis=2),index=index,columns=columns)\n",
    "    dfN = pd.DataFrame(data=np.mean(scoresGradeN,axis=2),index=index,columns=columns)\n",
    "    \n",
    "    outHP[run%2,:] = (dfP['MF/H'] - dfP['H/H'])/(dfP['H/H']).values\n",
    "    if run%2 == 1:\n",
    "        f = open(\"../Data (Algebra 1)/Demographics/Simulations (new out)/Grade Level/outHP.csv\", \"a\")\n",
    "        np.savetxt(f, outHP,delimiter=',')\n",
    "        f.close()\n",
    "        \n",
    "    outHN[run%2,:] = (dfN['MF/H'] - dfN['H/H'])/(dfN['H/H']).values\n",
    "    if run%2 == 1:\n",
    "        f = open(\"../Data (Algebra 1)/Demographics/Simulations (new out)/Grade Level/outHN.csv\", \"a\")\n",
    "        np.savetxt(f, outHN,delimiter=',')\n",
    "        f.close()\n",
    "    \n",
    "    outFP[run%2,:] = (dfP['MH/F'] - dfP['F/F'])/(dfP['F/F']).values\n",
    "    if run%2 == 1:\n",
    "        f = open(\"../Data (Algebra 1)/Demographics/Simulations (new out)/Grade Level/outFP.csv\", \"a\")\n",
    "        np.savetxt(f, outFP,delimiter=',')\n",
    "        f.close()\n",
    "        \n",
    "    outFN[run%2,:] = (dfN['MH/F'] - dfN['F/F'])/(dfN['F/F']).values\n",
    "    if run%2 == 1:\n",
    "        f = open(\"../Data (Algebra 1)/Demographics/Simulations (new out)/Grade Level/outFN.csv\", \"a\")\n",
    "        np.savetxt(f, outFN,delimiter=',')\n",
    "        f.close()\n",
    "    \n",
    "    outMP[run%2,:] = (dfP['FH/M'] - dfP['M/M'])/(dfP['M/M']).values\n",
    "    if run%2 == 1:\n",
    "        f = open(\"../Data (Algebra 1)/Demographics/Simulations (new out)/Grade Level/outMP.csv\", \"a\")\n",
    "        np.savetxt(f, outMP,delimiter=',')\n",
    "        f.close()\n",
    "        \n",
    "    outMN[run%2,:] = (dfN['FH/M'] - dfN['M/M'])/(dfN['M/M']).values\n",
    "    if run%2 == 1:\n",
    "        f = open(\"../Data (Algebra 1)/Demographics/Simulations (new out)/Grade Level/outMN.csv\", \"a\")\n",
    "        np.savetxt(f, outMN,delimiter=',')\n",
    "        f.close()\n",
    "    \n",
    "    inMP[run%2,:] = (dfP['M/M'] - dfP['A/M'])/(dfP['A/M']).values\n",
    "    if run%2 == 1:\n",
    "        f = open(\"../Data (Algebra 1)/Demographics/Simulations (new out)/Grade Level/inMP.csv\", \"a\")\n",
    "        np.savetxt(f, inMP,delimiter=',')\n",
    "        f.close()\n",
    "        \n",
    "    inMN[run%2,:] = (dfN['M/M'] - dfN['A/M'])/(dfN['A/M']).values\n",
    "    if run%2 == 1:\n",
    "        f = open(\"../Data (Algebra 1)/Demographics/Simulations (new out)/Grade Level/inMN.csv\", \"a\")\n",
    "        np.savetxt(f, inMN,delimiter=',')\n",
    "        f.close()\n",
    "    \n",
    "    inFP[run%2,:] = (dfP['F/F'] - dfP['A/F'])/(dfP['A/F']).values\n",
    "    if run%2 == 1:\n",
    "        f = open(\"../Data (Algebra 1)/Demographics/Simulations (new out)/Grade Level/inFP.csv\", \"a\")\n",
    "        np.savetxt(f, inFP,delimiter=',')\n",
    "        f.close()\n",
    "        \n",
    "    inFN[run%2,:] = (dfN['F/F'] - dfN['A/F'])/(dfN['A/F']).values\n",
    "    if run%2 == 1:\n",
    "        f = open(\"../Data (Algebra 1)/Demographics/Simulations (new out)/Grade Level/inFN.csv\", \"a\")\n",
    "        np.savetxt(f, inFN,delimiter=',')\n",
    "        f.close()\n",
    "        \n",
    "    inHP[run%2,:] = (dfP['H/H'] - dfP['A/H'])/(dfP['A/H']).values\n",
    "    if run%2 == 1:\n",
    "        f = open(\"../Data (Algebra 1)/Demographics/Simulations (new out)/Grade Level/inHP.csv\", \"a\")\n",
    "        np.savetxt(f, inHP,delimiter=',')\n",
    "        f.close()\n",
    "        \n",
    "    inHN[run%2,:] = (dfN['H/H'] - dfN['A/H'])/(dfN['A/H']).values\n",
    "    if run%2 == 1:\n",
    "        f = open(\"../Data (Algebra 1)/Demographics/Simulations (new out)/Grade Level/inHN.csv\", \"a\")\n",
    "        np.savetxt(f, inHN,delimiter=',')\n",
    "        f.close()"
   ]
  },
  {
   "cell_type": "markdown",
   "metadata": {},
   "source": [
    "## Race/Ethnicity"
   ]
  },
  {
   "cell_type": "markdown",
   "metadata": {},
   "source": [
    "Divide students by race/ethnicity in the demographic file and filter survey file accordingly. Due to small sample sizes, we will only consider white/black/hispanic independently"
   ]
  },
  {
   "cell_type": "code",
   "execution_count": null,
   "metadata": {},
   "outputs": [],
   "source": [
    "whiteind = demodf.loc[demodf['White'] == 1].index\n",
    "blackind = demodf.loc[demodf['Black'] == 1].index\n",
    "hispind = demodf.loc[demodf['Hispanic'] == 1].index\n",
    "otherind = pd.concat([demodf.loc[demodf['Native American'] == 1],demodf.loc[demodf['Asian'] == 1],\n",
    "                      demodf.loc[demodf['Pacific Islander'] == 1]]).sort_index().index\n",
    "\n",
    "# combinations for simulation\n",
    "BHOind = blackind.union(hispind).union(otherind)\n",
    "WHOind = whiteind.union(hispind).union(otherind)\n",
    "WBOind = whiteind.union(blackind).union(otherind)\n",
    "WBHind = whiteind.union(blackind).union(hispind)"
   ]
  },
  {
   "cell_type": "markdown",
   "metadata": {},
   "source": [
    "Train positive and negative classifier on white/black/hispanic/other/all and predict for white/black/hispanic/other/all"
   ]
  },
  {
   "cell_type": "code",
   "execution_count": null,
   "metadata": {},
   "outputs": [],
   "source": [
    "scoresW = np.zeros((2,5))\n",
    "scoresB = scoresW.copy()\n",
    "scoresH = scoresW.copy()\n",
    "scoresO = scoresW.copy()\n",
    "scoresA = scoresW.copy()"
   ]
  },
  {
   "cell_type": "code",
   "execution_count": null,
   "metadata": {},
   "outputs": [],
   "source": [
    "statedfs = [featuredfP,featuredfN]\n",
    "labelSeries = [labelSeriesP,labelSeriesN]\n",
    "groupinds = [whiteind,blackind,hispind,otherind,allind]\n",
    "scores = [scoresW,scoresB,scoresH,scoresO,scoresA]\n",
    "\n",
    "# For each state (positive or negative)\n",
    "for s in range(len(statedfs)):\n",
    "    \n",
    "    # For each group (Middle, Ninth, High, All)\n",
    "    for g1 in range(len(groupinds)):\n",
    "        featuredf = filterByIndex(statedfs[s],groupinds[g1])\n",
    "        groups = featuredf.index.values\n",
    "        features = featuredf.values\n",
    "        labels = filterByIndex(labelSeries[s],groupinds[g1]).values\n",
    "        \n",
    "        # Repeat for k folds\n",
    "        temp = np.zeros((nFolds,len(groupinds)))\n",
    "        for i, (train, test) in enumerate(kfold.split(features,labels,groups)):\n",
    "            # Train a model\n",
    "            _, model = classify(features[train],labels[train],features[test])\n",
    "            \n",
    "            # Predict for each group\n",
    "            for g2 in range(len(groupinds)):\n",
    "                predFeatures = filterByIndex(statedfs[s],groupinds[g2]).values\n",
    "                predLabels = filterByIndex(labelSeries[s],groupinds[g2]).values\n",
    "                preds = model.predict(predFeatures)\n",
    "                rho = evaluateSpearman(predLabels,preds)\n",
    "                temp[i,g2] = rho\n",
    "                \n",
    "        # Average across folds\n",
    "        avg = np.mean(temp,axis=0)\n",
    "        # Store results\n",
    "        scores[g1][s,:] = avg"
   ]
  },
  {
   "cell_type": "code",
   "execution_count": null,
   "metadata": {},
   "outputs": [],
   "source": [
    "columns = ['Test White','Test Black','Test Hispanic','Test Other','Test All']\n",
    "ind = ['Positive','Negative']\n",
    "\n",
    "dfW = pd.DataFrame(data=scoresW,index=ind,columns=columns)\n",
    "dfB = pd.DataFrame(data=scoresB,index=ind,columns=columns)\n",
    "dfH = pd.DataFrame(data=scoresH,index=ind,columns=columns)\n",
    "dfO = pd.DataFrame(data=scoresO,index=ind,columns=columns)\n",
    "dfA = pd.DataFrame(data=scoresA,index=ind,columns=columns)"
   ]
  },
  {
   "cell_type": "code",
   "execution_count": null,
   "metadata": {},
   "outputs": [],
   "source": [
    "dfA.round(2)"
   ]
  },
  {
   "cell_type": "code",
   "execution_count": null,
   "metadata": {},
   "outputs": [],
   "source": [
    "dfW.to_csv('../Data (Algebra 1)/small race scores white.csv')\n",
    "dfB.to_csv('../Data (Algebra 1)/small race scores black.csv')\n",
    "dfH.to_csv('../Data (Algebra 1)/small race scores hispanic.csv')\n",
    "dfO.to_csv('../Data (Algebra 1)/small race scores other.csv')\n",
    "dfA.to_csv('../Data (Algebra 1)/small race scores all.csv')"
   ]
  },
  {
   "cell_type": "markdown",
   "metadata": {},
   "source": [
    "Run a simulation of the above process, each time using a different sized training set"
   ]
  },
  {
   "cell_type": "code",
   "execution_count": null,
   "metadata": {},
   "outputs": [],
   "source": [
    "statedfs = [featuredfP,featuredfN]\n",
    "labelSeries = [labelSeriesP,labelSeriesN]\n",
    "groupinds = [whiteind,blackind,hispind,otherind,allind,BHOind,WHOind,WBOind,WBHind]\n",
    "for s in range(len(statedfs)):\n",
    "    for g1 in range(len(groupinds)):\n",
    "        print(filterByIndex(statedfs[s],groupinds[g1]).values.shape)"
   ]
  },
  {
   "cell_type": "code",
   "execution_count": null,
   "metadata": {},
   "outputs": [],
   "source": [
    "#iterations = 5\n",
    "iterations = 45\n",
    "#iterations = 61\n",
    "scoresRaceP = np.zeros((iterations+1,12,nFolds))\n",
    "scoresRaceN = scoresRaceP.copy()"
   ]
  },
  {
   "cell_type": "code",
   "execution_count": null,
   "metadata": {},
   "outputs": [],
   "source": [
    "statedfs = [featuredfP,featuredfN]\n",
    "scores = [scoresRaceP,scoresRaceN]\n",
    "labelSeries = [labelSeriesP,labelSeriesN]\n",
    "traininds = [whiteind,blackind,hispind,otherind,allind,allind,allind,allind,BHOind,WHOind,WBOind,WBHind]\n",
    "testinds = [whiteind,blackind,hispind,otherind,whiteind,blackind,hispind,otherind,whiteind,blackind,hispind,otherind]\n",
    "\n",
    "start = 5\n",
    "end = start + iterations + 1\n",
    "\n",
    "# Run simulation for each increment of 1,000\n",
    "for n in range(start,end):\n",
    "    print(n)\n",
    "    \n",
    "    # For each state (positive, negative)\n",
    "    for s in range(len(statedfs)):\n",
    "        \n",
    "        # For each combination\n",
    "        for g in range(len(traininds)):\n",
    "            # get training data\n",
    "            features = filterByIndex(statedfs[s],traininds[g])\n",
    "            groups = features.index.values\n",
    "            features = features.values\n",
    "            labels = filterByIndex(labelSeries[s],traininds[g]).values\n",
    "            sample = np.random.choice(np.arange(len(labels)),n*100)\n",
    "            features = features[sample]\n",
    "            labels = labels[sample]\n",
    "            groups = groups[sample]\n",
    "            \n",
    "            # get testing data\n",
    "            predFeatures = filterByIndex(statedfs[s],testinds[g]).values\n",
    "            predLabels = filterByIndex(labelSeries[s],testinds[g]).values\n",
    "            \n",
    "            # Repeat for k folds\n",
    "            for i, (train, test) in enumerate(kfold.split(features,labels,groups)):\n",
    "                # Train a model\n",
    "                _, model = classify(features[train],labels[train],features[test])\n",
    "                # Predict\n",
    "                preds = model.predict(predFeatures)\n",
    "                rho = evaluateSpearman(predLabels,preds)\n",
    "                scores[s][n-start,g,i] = rho"
   ]
  },
  {
   "cell_type": "code",
   "execution_count": null,
   "metadata": {},
   "outputs": [],
   "source": [
    "index = np.arange(start,end)\n",
    "columns = ['W/W','B/B','H/H','O/O','A/W','A/B','A/H','A/O','BHO/W','WHO/B','WBO/H','WBH/O']\n",
    "dfP = pd.DataFrame(data=np.mean(scoresRaceP,axis=2),index=index,columns=columns)\n",
    "dfN = pd.DataFrame(data=np.mean(scoresRaceN,axis=2),index=index,columns=columns)"
   ]
  },
  {
   "cell_type": "code",
   "execution_count": null,
   "metadata": {},
   "outputs": [],
   "source": [
    "#dfP.to_csv('../Data (Algebra 1)/simulation race positive.csv')\n",
    "#dfN.to_csv('../Data (Algebra 1)/simulation race negative.csv')\n",
    "#dfP.to_csv('../Data (Algebra 1)/simulation long race positive.csv')\n",
    "#dfN.to_csv('../Data (Algebra 1)/simulation long race negative.csv')\n",
    "dfP.to_csv('../Data (Algebra 1)/simulation small race positive.csv')\n",
    "dfN.to_csv('../Data (Algebra 1)/simulation small race negative.csv')"
   ]
  },
  {
   "cell_type": "code",
   "execution_count": null,
   "metadata": {},
   "outputs": [],
   "source": [
    "#dataP = readData('../Data (Algebra 1)/simulation race positive.csv')\n",
    "#dataN = readData('../Data (Algebra 1)/simulation race negative.csv')\n",
    "#dataP = readData('../Data (Algebra 1)/simulation long race positive.csv')\n",
    "#dataN = readData('../Data (Algebra 1)/simulation long race negative.csv')\n",
    "dataP = readData('../Data (Algebra 1)/simulation small race positive.csv')\n",
    "dataN = readData('../Data (Algebra 1)/simulation small race negative.csv')"
   ]
  },
  {
   "cell_type": "code",
   "execution_count": null,
   "metadata": {},
   "outputs": [],
   "source": [
    "inW = (dataP['W/W'] - dataP['A/W'])/(dataP['A/W'])\n",
    "inB = (dataP['B/B'] - dataP['A/B'])/(dataP['A/B'])\n",
    "inH = (dataP['H/H'] - dataP['A/H'])/(dataP['A/H'])\n",
    "inO = (dataP['O/O'] - dataP['A/O'])/(dataP['A/O'])\n",
    "\n",
    "outW = (dataP['W/W'] - dataP['BHO/W'])/(dataP['BHO/W'])\n",
    "outB = (dataP['B/B'] - dataP['WHO/B'])/(dataP['WHO/B'])\n",
    "outH = (dataP['H/H'] - dataP['WBO/H'])/(dataP['WBO/H'])\n",
    "outO = (dataP['O/O'] - dataP['WBH/O'])/(dataP['WBH/O'])\n",
    "\n",
    "print(max(max(inW),max(inB),max(inH),max(outW),max(outB),max(outH),max(inO),max(outO)))\n",
    "print(min(min(inW),min(inB),min(inH),min(outW),min(outB),min(outH),min(inO),min(outO)))"
   ]
  },
  {
   "cell_type": "code",
   "execution_count": null,
   "metadata": {},
   "outputs": [],
   "source": [
    "fig, axs = plt.subplots(1, 2, sharex=True,figsize=(10, 4))\n",
    "axs[0].plot(inW,label='W')\n",
    "axs[0].plot(inB,label='B')\n",
    "axs[0].plot(inH,label='H')\n",
    "axs[0].plot(inO,label='O')\n",
    "axs[0].set_ylim(-1,1)\n",
    "axs[0].grid(True, which='both')\n",
    "axs[0].set_title('In-group')\n",
    "axs[0].legend()\n",
    "axs[0].axhline(y=0, color='k',linewidth=0.5)\n",
    "axs[1].plot(outW,label='W')\n",
    "axs[1].plot(outB,label='B')\n",
    "axs[1].plot(outH,label='H')\n",
    "axs[1].plot(outO,label='O')\n",
    "axs[1].set_title('Out-group')\n",
    "axs[1].grid(True, which='both')\n",
    "axs[1].legend()\n",
    "axs[1].axhline(y=0, color='k',linewidth=0.5)\n",
    "axs[1].set_ylim(-1,1)"
   ]
  },
  {
   "cell_type": "markdown",
   "metadata": {},
   "source": [
    "Run simulation 1000 times in order to get a more stable average"
   ]
  },
  {
   "cell_type": "code",
   "execution_count": null,
   "metadata": {},
   "outputs": [],
   "source": [
    "inWP = np.zeros((2,11))\n",
    "inBP = inWP.copy()\n",
    "inHP = inWP.copy()\n",
    "inOP = inWP.copy()\n",
    "outWP = inWP.copy()\n",
    "outBP = inWP.copy()\n",
    "outHP = inWP.copy()\n",
    "outOP = inWP.copy()\n",
    "inWN = inWP.copy()\n",
    "inBN = inWP.copy()\n",
    "inHN = inWP.copy()\n",
    "inON = inWP.copy()\n",
    "outWN = inWP.copy()\n",
    "outBN = inWP.copy()\n",
    "outHN = inWP.copy()\n",
    "outON = inWP.copy()"
   ]
  },
  {
   "cell_type": "code",
   "execution_count": null,
   "metadata": {},
   "outputs": [],
   "source": [
    "iterations = 10\n",
    "scoresRaceP = np.zeros((iterations+1,12,nFolds))\n",
    "scoresRaceN = scoresRaceP.copy()\n",
    "\n",
    "statedfs = [featuredfP,featuredfN]\n",
    "scores = [scoresRaceP,scoresRaceN]\n",
    "labelSeries = [labelSeriesP,labelSeriesN]\n",
    "traininds = [whiteind,blackind,hispind,otherind,allind,allind,allind,allind,BHOind,WHOind,WBOind,WBHind]\n",
    "testinds = [whiteind,blackind,hispind,otherind,whiteind,blackind,hispind,otherind,whiteind,blackind,hispind,otherind]\n",
    "\n",
    "start = 8\n",
    "end = start + iterations + 1\n",
    "\n",
    "index = np.arange(start,end)\n",
    "columns = ['W/W','B/B','H/H','O/O','A/W','A/B','A/H','A/O','BHO/W','WHO/B','WBO/H','WBH/O']"
   ]
  },
  {
   "cell_type": "code",
   "execution_count": null,
   "metadata": {
    "scrolled": true
   },
   "outputs": [],
   "source": [
    "for run in range(1002):\n",
    "    if run%25 == 0:\n",
    "        print(run)\n",
    "    # Run simulation for each increment\n",
    "    for n in range(start,end):\n",
    "        # For each state (positive, negative)\n",
    "        for s in range(len(statedfs)):\n",
    "            # For each combination\n",
    "            for g in range(len(traininds)):\n",
    "                # get training data\n",
    "                features = filterByIndex(statedfs[s],traininds[g])\n",
    "                groups = features.index.values\n",
    "                features = features.values\n",
    "                labels = filterByIndex(labelSeries[s],traininds[g]).values\n",
    "                sample = np.random.choice(np.arange(len(labels)),n*100)\n",
    "                features = features[sample]\n",
    "                labels = labels[sample]\n",
    "                groups = groups[sample]\n",
    "\n",
    "                # get testing data\n",
    "                predFeatures = filterByIndex(statedfs[s],testinds[g]).values\n",
    "                predLabels = filterByIndex(labelSeries[s],testinds[g]).values\n",
    "\n",
    "                # Repeat for k folds\n",
    "                for i, (train, test) in enumerate(kfold.split(features,labels,groups)):\n",
    "                    # Train a model\n",
    "                    _, model = classify(features[train],labels[train],features[test])\n",
    "                    # Predict\n",
    "                    preds = model.predict(predFeatures)\n",
    "                    rho = evaluateSpearman(predLabels,preds)\n",
    "                    scores[s][n-start,g,i] = rho\n",
    "    dfP = pd.DataFrame(data=np.mean(scoresRaceP,axis=2),index=index,columns=columns)\n",
    "    dfN = pd.DataFrame(data=np.mean(scoresRaceN,axis=2),index=index,columns=columns)\n",
    "    \n",
    "    outOP[run%2,:] = (dfP['WBH/O'] - dfP['O/O'])/(dfP['O/O']).values\n",
    "    if run%2 == 1:\n",
    "        f = open(\"../Data (Algebra 1)/Demographics/Simulations (new out)/Race/outOP.csv\", \"a\")\n",
    "        np.savetxt(f, outOP,delimiter=',')\n",
    "        f.close()\n",
    "        \n",
    "    outON[run%2,:] = (dfN['WBH/O'] - dfN['O/O'])/(dfN['O/O']).values\n",
    "    if run%2 == 1:\n",
    "        f = open(\"../Data (Algebra 1)/Demographics/Simulations (new out)/Race/outON.csv\", \"a\")\n",
    "        np.savetxt(f, outON,delimiter=',')\n",
    "        f.close()\n",
    "    \n",
    "    outHP[run%2,:] = (dfP['WBO/H'] - dfP['H/H'])/(dfP['H/H']).values\n",
    "    if run%2 == 1:\n",
    "        f = open(\"../Data (Algebra 1)/Demographics/Simulations (new out)/Race/outHP.csv\", \"a\")\n",
    "        np.savetxt(f, outHP,delimiter=',')\n",
    "        f.close()\n",
    "        \n",
    "    outHN[run%2,:] = (dfN['WBO/H'] - dfN['H/H'])/(dfN['H/H']).values\n",
    "    if run%2 == 1:\n",
    "        f = open(\"../Data (Algebra 1)/Demographics/Simulations (new out)/Race/outHN.csv\", \"a\")\n",
    "        np.savetxt(f, outHN,delimiter=',')\n",
    "        f.close()\n",
    "    \n",
    "    outWP[run%2,:] = (dfP['BHO/W'] - dfP['W/W'])/(dfP['W/W']).values\n",
    "    if run%2 == 1:\n",
    "        f = open(\"../Data (Algebra 1)/Demographics/Simulations (new out)/Race/outWP.csv\", \"a\")\n",
    "        np.savetxt(f, outWP,delimiter=',')\n",
    "        f.close()\n",
    "        \n",
    "    outWN[run%2,:] = (dfN['BHO/W'] - dfN['W/W'])/(dfN['W/W']).values\n",
    "    if run%2 == 1:\n",
    "        f = open(\"../Data (Algebra 1)/Demographics/Simulations (new out)/Race/outWN.csv\", \"a\")\n",
    "        np.savetxt(f, outWN,delimiter=',')\n",
    "        f.close()\n",
    "        \n",
    "    outBP[run%2,:] = (dfP['WHO/B'] - dfP['B/B'])/(dfP['B/B']).values\n",
    "    if run%2 == 1:\n",
    "        f = open(\"../Data (Algebra 1)/Demographics/Simulations (new out)/Race/outBP.csv\", \"a\")\n",
    "        np.savetxt(f, outBP,delimiter=',')\n",
    "        f.close()\n",
    "        \n",
    "    outBN[run%2,:] = (dfN['WHO/B'] - dfN['B/B'])/(dfN['B/B']).values\n",
    "    if run%2 == 1:\n",
    "        f = open(\"../Data (Algebra 1)/Demographics/Simulations (new out)/Race/outBN.csv\", \"a\")\n",
    "        np.savetxt(f, outBN,delimiter=',')\n",
    "        f.close()\n",
    "    \n",
    "    inWP[run%2,:] = (dfP['W/W'] - dfP['A/W'])/(dfP['A/W']).values\n",
    "    if run%2 == 1:\n",
    "        f = open(\"../Data (Algebra 1)/Demographics/Simulations (new out)/Race/inWP.csv\", \"a\")\n",
    "        np.savetxt(f, inWP,delimiter=',')\n",
    "        f.close()\n",
    "        \n",
    "    inWN[run%2,:] = (dfN['W/W'] - dfN['A/W'])/(dfN['A/W']).values\n",
    "    if run%2 == 1:\n",
    "        f = open(\"../Data (Algebra 1)/Demographics/Simulations (new out)/Race/inWN.csv\", \"a\")\n",
    "        np.savetxt(f, inWN,delimiter=',')\n",
    "        f.close()\n",
    "        \n",
    "    inBP[run%2,:] = (dfP['B/B'] - dfP['A/B'])/(dfP['A/B']).values\n",
    "    if run%2 == 1:\n",
    "        f = open(\"../Data (Algebra 1)/Demographics/Simulations (new out)/Race/inBP.csv\", \"a\")\n",
    "        np.savetxt(f, inBP,delimiter=',')\n",
    "        f.close()\n",
    "        \n",
    "    inBN[run%2,:] = (dfN['B/B'] - dfN['A/B'])/(dfN['A/B']).values\n",
    "    if run%2 == 1:\n",
    "        f = open(\"../Data (Algebra 1)/Demographics/Simulations (new out)/Race/inBN.csv\", \"a\")\n",
    "        np.savetxt(f, inBN,delimiter=',')\n",
    "        f.close()\n",
    "        \n",
    "    inHP[run%2,:] = (dfP['H/H'] - dfP['A/H'])/(dfP['A/H']).values\n",
    "    if run%2 == 1:\n",
    "        f = open(\"../Data (Algebra 1)/Demographics/Simulations (new out)/Race/inHP.csv\", \"a\")\n",
    "        np.savetxt(f, inHP,delimiter=',')\n",
    "        f.close()\n",
    "        \n",
    "    inHN[run%2,:] = (dfN['H/H'] - dfN['A/H'])/(dfN['A/H']).values\n",
    "    if run%2 == 1:\n",
    "        f = open(\"../Data (Algebra 1)/Demographics/Simulations (new out)/Race/inHN.csv\", \"a\")\n",
    "        np.savetxt(f, inHN,delimiter=',')\n",
    "        f.close()\n",
    "        \n",
    "    inOP[run%2,:] = (dfP['O/O'] - dfP['A/O'])/(dfP['A/O']).values\n",
    "    if run%2 == 1:\n",
    "        f = open(\"../Data (Algebra 1)/Demographics/Simulations (new out)/Race/inOP.csv\", \"a\")\n",
    "        np.savetxt(f, inOP,delimiter=',')\n",
    "        f.close()\n",
    "        \n",
    "    inON[run%2,:] = (dfN['O/O'] - dfN['A/O'])/(dfN['A/O']).values\n",
    "    if run%2 == 1:\n",
    "        f = open(\"../Data (Algebra 1)/Demographics/Simulations (new out)/Race/inON.csv\", \"a\")\n",
    "        np.savetxt(f, inON,delimiter=',')\n",
    "        f.close()"
   ]
  },
  {
   "cell_type": "markdown",
   "metadata": {},
   "source": [
    "# Usage clusters"
   ]
  },
  {
   "cell_type": "markdown",
   "metadata": {},
   "source": [
    "Do a 100-run simulation using the clusters as the groups."
   ]
  },
  {
   "cell_type": "code",
   "execution_count": 8,
   "metadata": {},
   "outputs": [],
   "source": [
    "# load activity data for clusters\n",
    "activityFile = '../Data (Algebra 1)/YearUsageActivity.csv'\n",
    "activitydf = readData(activityFile)\n",
    "# normalize activity data\n",
    "activitydf = replaceDataFrameOutliers(activitydf,['sessionTime','NumSessions'])\n",
    "activitydf, scalers = scaleDataframe(activitydf)"
   ]
  },
  {
   "cell_type": "code",
   "execution_count": 9,
   "metadata": {},
   "outputs": [
    {
     "name": "stderr",
     "output_type": "stream",
     "text": [
      "C:\\Users\\Emily\\Anaconda3\\lib\\site-packages\\sklearn\\base.py:251: UserWarning: Trying to unpickle estimator KMeans from version 0.19.1 when using version 0.20.0. This might lead to breaking code or invalid results. Use at your own risk.\n",
      "  UserWarning)\n"
     ]
    }
   ],
   "source": [
    "# get usage clusters\n",
    "model = joblib.load('kmeans.joblib')\n",
    "clusterSeries = pd.Series(model.predict(activitydf.values),index=activitydf.index)"
   ]
  },
  {
   "cell_type": "code",
   "execution_count": 10,
   "metadata": {},
   "outputs": [],
   "source": [
    "# get indices for clusters\n",
    "c0ind = clusterSeries.loc[clusterSeries == 0].index\n",
    "c1ind = clusterSeries.loc[clusterSeries == 1].index\n",
    "c2ind = clusterSeries.loc[clusterSeries == 2].index\n",
    "c3ind = clusterSeries.loc[clusterSeries == 3].index\n",
    "c4ind = clusterSeries.loc[clusterSeries == 4].index"
   ]
  },
  {
   "cell_type": "code",
   "execution_count": 11,
   "metadata": {},
   "outputs": [],
   "source": [
    "# combinations for simulation\n",
    "c0123ind = c0ind.union(c1ind).union(c2ind).union(c3ind)\n",
    "c0234ind = c0ind.union(c4ind).union(c2ind).union(c3ind)\n",
    "c0134ind = c0ind.union(c1ind).union(c4ind).union(c3ind)\n",
    "c0124ind = c0ind.union(c1ind).union(c2ind).union(c4ind)\n",
    "c1234ind = c4ind.union(c1ind).union(c2ind).union(c3ind)"
   ]
  },
  {
   "cell_type": "code",
   "execution_count": 12,
   "metadata": {},
   "outputs": [
    {
     "name": "stdout",
     "output_type": "stream",
     "text": [
      "(4181, 22)\n",
      "(9170, 22)\n",
      "(39705, 22)\n",
      "(6512, 22)\n",
      "(2124, 22)\n",
      "(59568, 22)\n",
      "(52522, 22)\n",
      "(21987, 22)\n",
      "(55180, 22)\n",
      "(57511, 22)\n",
      "(3043, 22)\n",
      "(6596, 22)\n",
      "(28984, 22)\n",
      "(4779, 22)\n",
      "(1552, 22)\n",
      "(43402, 22)\n",
      "(38358, 22)\n",
      "(15970, 22)\n",
      "(40175, 22)\n",
      "(41911, 22)\n"
     ]
    }
   ],
   "source": [
    "statedfs = [featuredfP,featuredfN]\n",
    "labelSeries = [labelSeriesP,labelSeriesN]\n",
    "groupinds = [c0ind,c1ind,c2ind,c3ind,c4ind,c0123ind,c0234ind,c0134ind,c0124ind,c1234ind]\n",
    "for s in range(len(statedfs)):\n",
    "    for g1 in range(len(groupinds)):\n",
    "        print(filterByIndex(statedfs[s],groupinds[g1]).values.shape)"
   ]
  },
  {
   "cell_type": "markdown",
   "metadata": {},
   "source": [
    "Run simulation 100 times in order to get a more stable average"
   ]
  },
  {
   "cell_type": "code",
   "execution_count": 12,
   "metadata": {},
   "outputs": [],
   "source": [
    "in0P = np.zeros((2,11))\n",
    "in1P = in0P.copy()\n",
    "in2P = in0P.copy()\n",
    "in3P = in0P.copy()\n",
    "in4P = in0P.copy()\n",
    "in0N = in0P.copy()\n",
    "in1N = in0P.copy()\n",
    "in2N = in0P.copy()\n",
    "in3N = in0P.copy()\n",
    "in4N = in0P.copy()\n",
    "out0P = in0P.copy()\n",
    "out1P = in0P.copy()\n",
    "out2P = in0P.copy()\n",
    "out3P = in0P.copy()\n",
    "out4P = in0P.copy()\n",
    "out0N = in0P.copy()\n",
    "out1N = in0P.copy()\n",
    "out2N = in0P.copy()\n",
    "out3N = in0P.copy()\n",
    "out4N = in0P.copy()"
   ]
  },
  {
   "cell_type": "code",
   "execution_count": 26,
   "metadata": {},
   "outputs": [],
   "source": [
    "iterations = 17\n",
    "#scoresUseP = np.zeros((iterations+1,15,nFolds))\n",
    "scoresUseP = np.zeros((iterations,15,nFolds))\n",
    "scoresUseN = scoresUseP.copy()\n",
    "\n",
    "statedfs = [featuredfP,featuredfN]\n",
    "scores = [scoresUseP,scoresUseN]\n",
    "labelSeries = [labelSeriesP,labelSeriesN]\n",
    "traininds = [c0ind,c1ind,c2ind,c3ind,c4ind,allind,allind,allind,allind,allind,c0123ind,c0124ind,c0134ind,c0234ind,c1234ind]\n",
    "testinds = [c0ind,c1ind,c2ind,c3ind,c4ind,c0ind,c1ind,c2ind,c3ind,c4ind,c4ind,c3ind,c2ind,c1ind,c0ind]\n",
    "\n",
    "start = 20\n",
    "end = start + iterations + 1\n",
    "\n",
    "index = np.arange(start*100,end*100,500)\n",
    "columns = ['0/0','1/1','2/2','3/3','4/4','A/0','A/1','A/2','A/3','A/4','0123/4','0124/3','0134/2','0234/1','1234/0']"
   ]
  },
  {
   "cell_type": "code",
   "execution_count": 27,
   "metadata": {},
   "outputs": [],
   "source": [
    "iterations = 17\n",
    "start = 2000\n",
    "end = 10500\n",
    "index = np.arange(start,end,500)"
   ]
  },
  {
   "cell_type": "code",
   "execution_count": 29,
   "metadata": {},
   "outputs": [
    {
     "name": "stdout",
     "output_type": "stream",
     "text": [
      "0\n"
     ]
    },
    {
     "ename": "ValueError",
     "evalue": "could not broadcast input array from shape (17) into shape (11)",
     "output_type": "error",
     "traceback": [
      "\u001b[1;31m---------------------------------------------------------------------------\u001b[0m",
      "\u001b[1;31mValueError\u001b[0m                                Traceback (most recent call last)",
      "\u001b[1;32m<ipython-input-29-51ec7df2aca8>\u001b[0m in \u001b[0;36m<module>\u001b[1;34m()\u001b[0m\n\u001b[0;32m     33\u001b[0m     \u001b[0mdfN\u001b[0m \u001b[1;33m=\u001b[0m \u001b[0mpd\u001b[0m\u001b[1;33m.\u001b[0m\u001b[0mDataFrame\u001b[0m\u001b[1;33m(\u001b[0m\u001b[0mdata\u001b[0m\u001b[1;33m=\u001b[0m\u001b[0mnp\u001b[0m\u001b[1;33m.\u001b[0m\u001b[0mmean\u001b[0m\u001b[1;33m(\u001b[0m\u001b[0mscoresUseN\u001b[0m\u001b[1;33m,\u001b[0m\u001b[0maxis\u001b[0m\u001b[1;33m=\u001b[0m\u001b[1;36m2\u001b[0m\u001b[1;33m)\u001b[0m\u001b[1;33m,\u001b[0m\u001b[0mindex\u001b[0m\u001b[1;33m=\u001b[0m\u001b[0mindex\u001b[0m\u001b[1;33m,\u001b[0m\u001b[0mcolumns\u001b[0m\u001b[1;33m=\u001b[0m\u001b[0mcolumns\u001b[0m\u001b[1;33m)\u001b[0m\u001b[1;33m\u001b[0m\u001b[0m\n\u001b[0;32m     34\u001b[0m \u001b[1;33m\u001b[0m\u001b[0m\n\u001b[1;32m---> 35\u001b[1;33m     \u001b[0min0P\u001b[0m\u001b[1;33m[\u001b[0m\u001b[0mrun\u001b[0m\u001b[1;33m%\u001b[0m\u001b[1;36m2\u001b[0m\u001b[1;33m,\u001b[0m\u001b[1;33m:\u001b[0m\u001b[1;33m]\u001b[0m \u001b[1;33m=\u001b[0m \u001b[1;33m(\u001b[0m\u001b[0mdfP\u001b[0m\u001b[1;33m[\u001b[0m\u001b[1;34m'0/0'\u001b[0m\u001b[1;33m]\u001b[0m \u001b[1;33m-\u001b[0m \u001b[0mdfP\u001b[0m\u001b[1;33m[\u001b[0m\u001b[1;34m'A/0'\u001b[0m\u001b[1;33m]\u001b[0m\u001b[1;33m)\u001b[0m\u001b[1;33m/\u001b[0m\u001b[1;33m(\u001b[0m\u001b[0mdfP\u001b[0m\u001b[1;33m[\u001b[0m\u001b[1;34m'A/0'\u001b[0m\u001b[1;33m]\u001b[0m\u001b[1;33m)\u001b[0m\u001b[1;33m.\u001b[0m\u001b[0mvalues\u001b[0m\u001b[1;33m\u001b[0m\u001b[0m\n\u001b[0m\u001b[0;32m     36\u001b[0m     \u001b[1;32mif\u001b[0m \u001b[0mrun\u001b[0m\u001b[1;33m%\u001b[0m\u001b[1;36m2\u001b[0m \u001b[1;33m==\u001b[0m \u001b[1;36m1\u001b[0m\u001b[1;33m:\u001b[0m\u001b[1;33m\u001b[0m\u001b[0m\n\u001b[0;32m     37\u001b[0m         \u001b[0mf\u001b[0m \u001b[1;33m=\u001b[0m \u001b[0mopen\u001b[0m\u001b[1;33m(\u001b[0m\u001b[1;34m\"../Data (Algebra 1)/Demographics/Simulations (new out)/Use big/in0P.csv\"\u001b[0m\u001b[1;33m,\u001b[0m \u001b[1;34m\"a\"\u001b[0m\u001b[1;33m)\u001b[0m\u001b[1;33m\u001b[0m\u001b[0m\n",
      "\u001b[1;31mValueError\u001b[0m: could not broadcast input array from shape (17) into shape (11)"
     ]
    }
   ],
   "source": [
    "for run in range(11):\n",
    "    #if run%1 == 0:\n",
    "    print(run)\n",
    "    # Run simulation for each increment\n",
    "    for n in index:\n",
    "        # For each state (positive, negative)\n",
    "        for s in range(len(statedfs)):\n",
    "            # For each combination\n",
    "            for g in range(len(traininds)):\n",
    "                # get training data\n",
    "                features = filterByIndex(statedfs[s],traininds[g])\n",
    "                groups = features.index.values\n",
    "                features = features.values\n",
    "                labels = filterByIndex(labelSeries[s],traininds[g]).values\n",
    "                sample = np.random.choice(np.arange(len(labels)),n)\n",
    "                features = features[sample]\n",
    "                labels = labels[sample]\n",
    "                groups = groups[sample]\n",
    "\n",
    "                # get testing data\n",
    "                predFeatures = filterByIndex(statedfs[s],testinds[g]).values\n",
    "                predLabels = filterByIndex(labelSeries[s],testinds[g]).values\n",
    "\n",
    "                # Repeat for k folds\n",
    "                for i, (train, test) in enumerate(kfold.split(features,labels,groups)):\n",
    "                    # Train a model\n",
    "                    _, model = classify(features[train],labels[train],features[test])\n",
    "                    # Predict\n",
    "                    preds = model.predict(predFeatures)\n",
    "                    rho = evaluateSpearman(predLabels,preds)\n",
    "                    scores[s][int((n-start)/500),g,i] = rho\n",
    "    dfP = pd.DataFrame(data=np.mean(scoresUseP,axis=2),index=index,columns=columns)\n",
    "    dfN = pd.DataFrame(data=np.mean(scoresUseN,axis=2),index=index,columns=columns)\n",
    "    \n",
    "    in0P[run%2,:] = (dfP['0/0'] - dfP['A/0'])/(dfP['A/0']).values\n",
    "    if run%2 == 1:\n",
    "        f = open(\"../Data (Algebra 1)/Demographics/Simulations (new out)/Use big/in0P.csv\", \"a\")\n",
    "        np.savetxt(f, in0P,delimiter=',')\n",
    "        f.close()\n",
    "    in1P[run%2,:] = (dfP['1/1'] - dfP['A/1'])/(dfP['A/1']).values\n",
    "    if run%2 == 1:\n",
    "        f = open(\"../Data (Algebra 1)/Demographics/Simulations (new out)/Use big/in1P.csv\", \"a\")\n",
    "        np.savetxt(f, in1P,delimiter=',')\n",
    "        f.close()\n",
    "    in2P[run%2,:] = (dfP['2/2'] - dfP['A/2'])/(dfP['A/2']).values\n",
    "    if run%2 == 1:\n",
    "        f = open(\"../Data (Algebra 1)/Demographics/Simulations (new out)/Use big/in2P.csv\", \"a\")\n",
    "        np.savetxt(f, in2P,delimiter=',')\n",
    "        f.close()\n",
    "    in3P[run%2,:] = (dfP['3/3'] - dfP['A/3'])/(dfP['A/3']).values\n",
    "    if run%2 == 1:\n",
    "        f = open(\"../Data (Algebra 1)/Demographics/Simulations (new out)/Use big/in3P.csv\", \"a\")\n",
    "        np.savetxt(f, in3P,delimiter=',')\n",
    "        f.close()\n",
    "    in4P[run%2,:] = (dfP['4/4'] - dfP['A/4'])/(dfP['A/4']).values\n",
    "    if run%2 == 1:\n",
    "        f = open(\"../Data (Algebra 1)/Demographics/Simulations (new out)/Use big/in4P.csv\", \"a\")\n",
    "        np.savetxt(f, in4P,delimiter=',')\n",
    "        f.close()\n",
    "    in0N[run%2,:] = (dfN['0/0'] - dfN['A/0'])/(dfN['A/0']).values\n",
    "    if run%2 == 1:\n",
    "        f = open(\"../Data (Algebra 1)/Demographics/Simulations (new out)/Use big/in0N.csv\", \"a\")\n",
    "        np.savetxt(f, in0N,delimiter=',')\n",
    "        f.close()\n",
    "    in1N[run%2,:] = (dfN['1/1'] - dfN['A/1'])/(dfN['A/1']).values\n",
    "    if run%2 == 1:\n",
    "        f = open(\"../Data (Algebra 1)/Demographics/Simulations (new out)/Use big/in1N.csv\", \"a\")\n",
    "        np.savetxt(f, in1N,delimiter=',')\n",
    "        f.close()\n",
    "    in2N[run%2,:] = (dfN['2/2'] - dfN['A/2'])/(dfN['A/2']).values\n",
    "    if run%2 == 1:\n",
    "        f = open(\"../Data (Algebra 1)/Demographics/Simulations (new out)/Use big/in2N.csv\", \"a\")\n",
    "        np.savetxt(f, in2N,delimiter=',')\n",
    "        f.close()\n",
    "    in3N[run%2,:] = (dfN['3/3'] - dfN['A/3'])/(dfN['A/3']).values\n",
    "    if run%2 == 1:\n",
    "        f = open(\"../Data (Algebra 1)/Demographics/Simulations (new out)/Use big/in3N.csv\", \"a\")\n",
    "        np.savetxt(f, in3N,delimiter=',')\n",
    "        f.close()\n",
    "    in4N[run%2,:] = (dfN['4/4'] - dfN['A/4'])/(dfN['A/4']).values\n",
    "    if run%2 == 1:\n",
    "        f = open(\"../Data (Algebra 1)/Demographics/Simulations (new out)/Use big/in4N.csv\", \"a\")\n",
    "        np.savetxt(f, in4N,delimiter=',')\n",
    "        f.close()\n",
    "    out0P[run%2,:] = (dfP['1234/0'] - dfP['0/0'])/(dfP['0/0']).values\n",
    "    if run%2 == 1:\n",
    "        f = open(\"../Data (Algebra 1)/Demographics/Simulations (new out)/Use big/out0P.csv\", \"a\")\n",
    "        np.savetxt(f, out0P,delimiter=',')\n",
    "        f.close()\n",
    "    out1P[run%2,:] = (dfP['0234/1'] - dfP['1/1'])/(dfP['1/1']).values\n",
    "    if run%2 == 1:\n",
    "        f = open(\"../Data (Algebra 1)/Demographics/Simulations (new out)/Use big/out1P.csv\", \"a\")\n",
    "        np.savetxt(f, out1P,delimiter=',')\n",
    "        f.close()\n",
    "    out2P[run%2,:] = (dfP['0134/2'] - dfP['2/2'])/(dfP['2/2']).values\n",
    "    if run%2 == 1:\n",
    "        f = open(\"../Data (Algebra 1)/Demographics/Simulations (new out)/Use big/out2P.csv\", \"a\")\n",
    "        np.savetxt(f, out2P,delimiter=',')\n",
    "        f.close()\n",
    "    out3P[run%2,:] = (dfP['0124/3'] - dfP['3/3'])/(dfP['3/3']).values\n",
    "    if run%2 == 1:\n",
    "        f = open(\"../Data (Algebra 1)/Demographics/Simulations (new out)/Use big/out3P.csv\", \"a\")\n",
    "        np.savetxt(f, out3P,delimiter=',')\n",
    "        f.close()\n",
    "    out4P[run%2,:] = (dfP['0123/4'] - dfP['4/4'])/(dfP['4/4']).values\n",
    "    if run%2 == 1:\n",
    "        f = open(\"../Data (Algebra 1)/Demographics/Simulations (new out)/Use big/out4P.csv\", \"a\")\n",
    "        np.savetxt(f, out4P,delimiter=',')\n",
    "        f.close()\n",
    "    out0N[run%2,:] = (dfN['1234/0'] - dfN['0/0'])/(dfN['0/0']).values\n",
    "    if run%2 == 1:\n",
    "        f = open(\"../Data (Algebra 1)/Demographics/Simulations (new out)/Use big/out0N.csv\", \"a\")\n",
    "        np.savetxt(f, out0N,delimiter=',')\n",
    "        f.close()\n",
    "    out1N[run%2,:] = (dfN['0234/1'] - dfN['1/1'])/(dfN['1/1']).values\n",
    "    if run%2 == 1:\n",
    "        f = open(\"../Data (Algebra 1)/Demographics/Simulations (new out)/Use big/out1N.csv\", \"a\")\n",
    "        np.savetxt(f, out1N,delimiter=',')\n",
    "        f.close()\n",
    "    out2N[run%2,:] = (dfN['0134/2'] - dfN['2/2'])/(dfN['2/2']).values\n",
    "    if run%2 == 1:\n",
    "        f = open(\"../Data (Algebra 1)/Demographics/Simulations (new out)/Use big/out2N.csv\", \"a\")\n",
    "        np.savetxt(f, out2N,delimiter=',')\n",
    "        f.close()\n",
    "    out3N[run%2,:] = (dfN['0124/3'] - dfN['3/3'])/(dfN['3/3']).values\n",
    "    if run%2 == 1:\n",
    "        f = open(\"../Data (Algebra 1)/Demographics/Simulations (new out)/Use big/out3N.csv\", \"a\")\n",
    "        np.savetxt(f, out3N,delimiter=',')\n",
    "        f.close()\n",
    "    out4N[run%2,:] = (dfN['0123/4'] - dfN['4/4'])/(dfN['4/4']).values\n",
    "    if run%2 == 1:\n",
    "        f = open(\"../Data (Algebra 1)/Demographics/Simulations (new out)/Use big/out4N.csv\", \"a\")\n",
    "        np.savetxt(f, out4N,delimiter=',')\n",
    "        f.close()"
   ]
  },
  {
   "cell_type": "code",
   "execution_count": 24,
   "metadata": {},
   "outputs": [
    {
     "data": {
      "text/plain": [
       "0.0"
      ]
     },
     "execution_count": 24,
     "metadata": {},
     "output_type": "execute_result"
    }
   ],
   "source": [
    "(n-start)/500"
   ]
  },
  {
   "cell_type": "markdown",
   "metadata": {},
   "source": [
    "# Demographics clusters"
   ]
  },
  {
   "cell_type": "markdown",
   "metadata": {},
   "source": [
    "Do a 100-run simulation using the clusters as the groups."
   ]
  },
  {
   "cell_type": "code",
   "execution_count": 13,
   "metadata": {},
   "outputs": [],
   "source": [
    "# get usage clusters\n",
    "model = joblib.load('kmeans demo only.joblib')\n",
    "clusterSeries = pd.Series(model.predict(demodf.values),index=demodf.index)"
   ]
  },
  {
   "cell_type": "code",
   "execution_count": 14,
   "metadata": {},
   "outputs": [],
   "source": [
    "# get indices for clusters\n",
    "c0ind = clusterSeries.loc[clusterSeries == 0].index\n",
    "c1ind = clusterSeries.loc[clusterSeries == 1].index\n",
    "c2ind = clusterSeries.loc[clusterSeries == 2].index\n",
    "c3ind = clusterSeries.loc[clusterSeries == 3].index\n",
    "c4ind = clusterSeries.loc[clusterSeries == 4].index\n",
    "c5ind = clusterSeries.loc[clusterSeries == 5].index\n",
    "c6ind = clusterSeries.loc[clusterSeries == 6].index"
   ]
  },
  {
   "cell_type": "code",
   "execution_count": 15,
   "metadata": {},
   "outputs": [],
   "source": [
    "# combinations for simulation\n",
    "c012345ind = c0ind.union(c1ind).union(c2ind).union(c3ind).union(c4ind).union(c5ind)\n",
    "c012346ind = c0ind.union(c1ind).union(c2ind).union(c3ind).union(c4ind).union(c6ind)\n",
    "c012356ind = c0ind.union(c1ind).union(c2ind).union(c3ind).union(c6ind).union(c5ind)\n",
    "c012456ind = c0ind.union(c1ind).union(c2ind).union(c6ind).union(c4ind).union(c5ind)\n",
    "c013456ind = c0ind.union(c1ind).union(c6ind).union(c3ind).union(c4ind).union(c5ind)\n",
    "c023456ind = c0ind.union(c6ind).union(c2ind).union(c3ind).union(c4ind).union(c5ind)\n",
    "c123456ind = c6ind.union(c1ind).union(c2ind).union(c3ind).union(c4ind).union(c5ind)"
   ]
  },
  {
   "cell_type": "code",
   "execution_count": 17,
   "metadata": {},
   "outputs": [
    {
     "name": "stdout",
     "output_type": "stream",
     "text": [
      "(1932, 22)\n",
      "(10060, 22)\n",
      "(8985, 22)\n",
      "(16503, 22)\n",
      "(7841, 22)\n",
      "(9091, 22)\n",
      "(7280, 22)\n",
      "(54412, 22)\n",
      "(51632, 22)\n",
      "(52707, 22)\n",
      "(45189, 22)\n",
      "(59760, 22)\n",
      "(53851, 22)\n",
      "(52601, 22)\n",
      "(1339, 22)\n",
      "(7453, 22)\n",
      "(6609, 22)\n",
      "(11963, 22)\n",
      "(5631, 22)\n",
      "(6685, 22)\n",
      "(5274, 22)\n",
      "(39680, 22)\n",
      "(37501, 22)\n",
      "(38345, 22)\n",
      "(32991, 22)\n",
      "(43615, 22)\n",
      "(39323, 22)\n",
      "(38269, 22)\n"
     ]
    }
   ],
   "source": [
    "statedfs = [featuredfP,featuredfN]\n",
    "labelSeries = [labelSeriesP,labelSeriesN]\n",
    "groupinds = [c0ind,c1ind,c2ind,c3ind,c4ind,c5ind,c6ind,c012345ind,c023456ind,c013456ind,c012456ind,c123456ind,c012356ind,c012346ind]\n",
    "for s in range(len(statedfs)):\n",
    "    for g1 in range(len(groupinds)):\n",
    "        print(filterByIndex(statedfs[s],groupinds[g1]).values.shape)"
   ]
  },
  {
   "cell_type": "markdown",
   "metadata": {},
   "source": [
    "Run simulation 100 times in order to get a more stable average"
   ]
  },
  {
   "cell_type": "code",
   "execution_count": 28,
   "metadata": {},
   "outputs": [],
   "source": [
    "in0P = np.zeros((2,11))\n",
    "in1P = in0P.copy()\n",
    "in2P = in0P.copy()\n",
    "in3P = in0P.copy()\n",
    "in4P = in0P.copy()\n",
    "in5P = in0P.copy()\n",
    "in6P = in0P.copy()\n",
    "in0N = in0P.copy()\n",
    "in1N = in0P.copy()\n",
    "in2N = in0P.copy()\n",
    "in3N = in0P.copy()\n",
    "in4N = in0P.copy()\n",
    "in5N = in0P.copy()\n",
    "in6N = in0P.copy()\n",
    "out0P = in0P.copy()\n",
    "out1P = in0P.copy()\n",
    "out2P = in0P.copy()\n",
    "out3P = in0P.copy()\n",
    "out4P = in0P.copy()\n",
    "out5P = in0P.copy()\n",
    "out6P = in0P.copy()\n",
    "out0N = in0P.copy()\n",
    "out1N = in0P.copy()\n",
    "out2N = in0P.copy()\n",
    "out3N = in0P.copy()\n",
    "out4N = in0P.copy()\n",
    "out5N = in0P.copy()\n",
    "out6N = in0P.copy()"
   ]
  },
  {
   "cell_type": "code",
   "execution_count": 29,
   "metadata": {},
   "outputs": [],
   "source": [
    "iterations = 10\n",
    "scoresUseP = np.zeros((iterations+1,21,nFolds))\n",
    "scoresUseN = scoresUseP.copy()\n",
    "\n",
    "statedfs = [featuredfP,featuredfN]\n",
    "scores = [scoresUseP,scoresUseN]\n",
    "labelSeries = [labelSeriesP,labelSeriesN]\n",
    "traininds = [c0ind,c1ind,c2ind,c3ind,c4ind,c5ind,c6ind,allind,allind,allind,allind,allind,allind,allind,c012345ind,c012346ind,c012356ind,c012456ind,c013456ind,c023456ind,c123456ind]\n",
    "testinds = [c0ind,c1ind,c2ind,c3ind,c4ind,c5ind,c6ind,c0ind,c1ind,c2ind,c3ind,c4ind,c5ind,c6ind,c6ind,c5ind,c4ind,c3ind,c2ind,c1ind,c0ind]\n",
    "\n",
    "start = 5\n",
    "end = start + iterations + 1\n",
    "\n",
    "index = np.arange(start*100,end*100,100)\n",
    "columns = ['0/0','1/1','2/2','3/3','4/4','5/5','6/6','A/0','A/1','A/2','A/3','A/4','A/5','A/6','012345/6','012346/5','012356/4','012456/3','013456/2','023456/1','123456/0']"
   ]
  },
  {
   "cell_type": "code",
   "execution_count": null,
   "metadata": {},
   "outputs": [],
   "source": [
    "iterations = 17\n",
    "start = 2000\n",
    "end = 10500\n",
    "index = np.arange(start,end,500)"
   ]
  },
  {
   "cell_type": "code",
   "execution_count": 31,
   "metadata": {},
   "outputs": [
    {
     "name": "stdout",
     "output_type": "stream",
     "text": [
      "0\n",
      "25\n",
      "50\n",
      "75\n",
      "100\n"
     ]
    }
   ],
   "source": [
    "for run in range(11):\n",
    "    if run%1 == 0:\n",
    "        print(run)\n",
    "    # Run simulation for each increment\n",
    "    for n in index:\n",
    "        # For each state (positive, negative)\n",
    "        for s in range(len(statedfs)):\n",
    "            # For each combination\n",
    "            for g in range(len(traininds)):\n",
    "                # get training data\n",
    "                features = filterByIndex(statedfs[s],traininds[g])\n",
    "                groups = features.index.values\n",
    "                features = features.values\n",
    "                labels = filterByIndex(labelSeries[s],traininds[g]).values\n",
    "                sample = np.random.choice(np.arange(len(labels)),n)\n",
    "                features = features[sample]\n",
    "                labels = labels[sample]\n",
    "                groups = groups[sample]\n",
    "\n",
    "                # get testing data\n",
    "                predFeatures = filterByIndex(statedfs[s],testinds[g]).values\n",
    "                predLabels = filterByIndex(labelSeries[s],testinds[g]).values\n",
    "\n",
    "                # Repeat for k folds\n",
    "                for i, (train, test) in enumerate(kfold.split(features,labels,groups)):\n",
    "                    # Train a model\n",
    "                    _, model = classify(features[train],labels[train],features[test])\n",
    "                    # Predict\n",
    "                    preds = model.predict(predFeatures)\n",
    "                    rho = evaluateSpearman(predLabels,preds)\n",
    "                    scores[s][int((n-start)/100),g,i] = rho\n",
    "    dfP = pd.DataFrame(data=np.mean(scoresUseP,axis=2),index=index,columns=columns)\n",
    "    dfN = pd.DataFrame(data=np.mean(scoresUseN,axis=2),index=index,columns=columns)\n",
    "    \n",
    "    in0P[run%2,:] = (dfP['0/0'] - dfP['A/0'])/(dfP['A/0']).values\n",
    "    in1P[run%2,:] = (dfP['1/1'] - dfP['A/1'])/(dfP['A/1']).values\n",
    "    in2P[run%2,:] = (dfP['2/2'] - dfP['A/2'])/(dfP['A/2']).values\n",
    "    in3P[run%2,:] = (dfP['3/3'] - dfP['A/3'])/(dfP['A/3']).values\n",
    "    in4P[run%2,:] = (dfP['4/4'] - dfP['A/4'])/(dfP['A/4']).values\n",
    "    in5P[run%2,:] = (dfP['5/5'] - dfP['A/5'])/(dfP['A/5']).values\n",
    "    in6P[run%2,:] = (dfP['6/6'] - dfP['A/6'])/(dfP['A/6']).values\n",
    "    in0N[run%2,:] = (dfN['0/0'] - dfN['A/0'])/(dfN['A/0']).values\n",
    "    in1N[run%2,:] = (dfN['1/1'] - dfN['A/1'])/(dfN['A/1']).values\n",
    "    in2N[run%2,:] = (dfN['2/2'] - dfN['A/2'])/(dfN['A/2']).values\n",
    "    in3N[run%2,:] = (dfN['3/3'] - dfN['A/3'])/(dfN['A/3']).values\n",
    "    in4N[run%2,:] = (dfN['4/4'] - dfN['A/4'])/(dfN['A/4']).values\n",
    "    in5N[run%2,:] = (dfN['5/5'] - dfN['A/5'])/(dfN['A/5']).values\n",
    "    in6N[run%2,:] = (dfN['6/6'] - dfN['A/6'])/(dfN['A/6']).values\n",
    "    \n",
    "    out0P[run%2,:] = (dfP['123456/0'] - dfP['0/0'])/(dfP['0/0']).values\n",
    "    out1P[run%2,:] = (dfP['023456/1'] - dfP['1/1'])/(dfP['1/1']).values\n",
    "    out2P[run%2,:] = (dfP['013456/2'] - dfP['2/2'])/(dfP['2/2']).values\n",
    "    out3P[run%2,:] = (dfP['012456/3'] - dfP['3/3'])/(dfP['3/3']).values\n",
    "    out4P[run%2,:] = (dfP['012356/4'] - dfP['4/4'])/(dfP['4/4']).values\n",
    "    out5P[run%2,:] = (dfP['012346/5'] - dfP['5/5'])/(dfP['5/5']).values\n",
    "    out6P[run%2,:] = (dfP['012345/6'] - dfP['6/6'])/(dfP['6/6']).values\n",
    "    out0N[run%2,:] = (dfN['123456/0'] - dfN['0/0'])/(dfN['0/0']).values\n",
    "    out1N[run%2,:] = (dfN['023456/1'] - dfN['1/1'])/(dfN['1/1']).values\n",
    "    out2N[run%2,:] = (dfN['013456/2'] - dfN['2/2'])/(dfN['2/2']).values\n",
    "    out3N[run%2,:] = (dfN['012456/3'] - dfN['3/3'])/(dfN['3/3']).values\n",
    "    out4N[run%2,:] = (dfN['012356/4'] - dfN['4/4'])/(dfN['4/4']).values\n",
    "    out5N[run%2,:] = (dfN['012346/5'] - dfN['5/5'])/(dfN['5/5']).values\n",
    "    out6N[run%2,:] = (dfN['012345/6'] - dfN['6/6'])/(dfN['6/6']).values\n",
    "    \n",
    "    if run%2 == 1:\n",
    "        f = open(\"../Data (Algebra 1)/Demographics/Simulations (new out)/Demographics/in0P.csv\", \"a\")\n",
    "        np.savetxt(f, in0P,delimiter=',')\n",
    "        f.close()\n",
    "        f = open(\"../Data (Algebra 1)/Demographics/Simulations (new out)/Demographics/out0P.csv\", \"a\")\n",
    "        np.savetxt(f, out0P,delimiter=',')\n",
    "        f.close()\n",
    "        f = open(\"../Data (Algebra 1)/Demographics/Simulations (new out)/Demographics/in0N.csv\", \"a\")\n",
    "        np.savetxt(f, in0N,delimiter=',')\n",
    "        f.close()\n",
    "        f = open(\"../Data (Algebra 1)/Demographics/Simulations (new out)/Demographics/out0N.csv\", \"a\")\n",
    "        np.savetxt(f, out0N,delimiter=',')\n",
    "        f.close()\n",
    "        f = open(\"../Data (Algebra 1)/Demographics/Simulations (new out)/Demographics/in1P.csv\", \"a\")\n",
    "        np.savetxt(f, in1P,delimiter=',')\n",
    "        f.close()\n",
    "        f = open(\"../Data (Algebra 1)/Demographics/Simulations (new out)/Demographics/out1P.csv\", \"a\")\n",
    "        np.savetxt(f, out1P,delimiter=',')\n",
    "        f.close()\n",
    "        f = open(\"../Data (Algebra 1)/Demographics/Simulations (new out)/Demographics/in1N.csv\", \"a\")\n",
    "        np.savetxt(f, in1N,delimiter=',')\n",
    "        f.close()\n",
    "        f = open(\"../Data (Algebra 1)/Demographics/Simulations (new out)/Demographics/out1N.csv\", \"a\")\n",
    "        np.savetxt(f, out1N,delimiter=',')\n",
    "        f.close()\n",
    "        f = open(\"../Data (Algebra 1)/Demographics/Simulations (new out)/Demographics/in2P.csv\", \"a\")\n",
    "        np.savetxt(f, in2P,delimiter=',')\n",
    "        f.close()\n",
    "        f = open(\"../Data (Algebra 1)/Demographics/Simulations (new out)/Demographics/out2P.csv\", \"a\")\n",
    "        np.savetxt(f, out2P,delimiter=',')\n",
    "        f.close()\n",
    "        f = open(\"../Data (Algebra 1)/Demographics/Simulations (new out)/Demographics/in2N.csv\", \"a\")\n",
    "        np.savetxt(f, in2N,delimiter=',')\n",
    "        f.close()\n",
    "        f = open(\"../Data (Algebra 1)/Demographics/Simulations (new out)/Demographics/out2N.csv\", \"a\")\n",
    "        np.savetxt(f, out2N,delimiter=',')\n",
    "        f.close()\n",
    "        f = open(\"../Data (Algebra 1)/Demographics/Simulations (new out)/Demographics/in3P.csv\", \"a\")\n",
    "        np.savetxt(f, in3P,delimiter=',')\n",
    "        f.close()\n",
    "        f = open(\"../Data (Algebra 1)/Demographics/Simulations (new out)/Demographics/out3P.csv\", \"a\")\n",
    "        np.savetxt(f, out3P,delimiter=',')\n",
    "        f.close()\n",
    "        f = open(\"../Data (Algebra 1)/Demographics/Simulations (new out)/Demographics/in3N.csv\", \"a\")\n",
    "        np.savetxt(f, in3N,delimiter=',')\n",
    "        f.close()\n",
    "        f = open(\"../Data (Algebra 1)/Demographics/Simulations (new out)/Demographics/out3N.csv\", \"a\")\n",
    "        np.savetxt(f, out3N,delimiter=',')\n",
    "        f.close()\n",
    "        f = open(\"../Data (Algebra 1)/Demographics/Simulations (new out)/Demographics/in4P.csv\", \"a\")\n",
    "        np.savetxt(f, in4P,delimiter=',')\n",
    "        f.close()\n",
    "        f = open(\"../Data (Algebra 1)/Demographics/Simulations (new out)/Demographics/out4P.csv\", \"a\")\n",
    "        np.savetxt(f, out4P,delimiter=',')\n",
    "        f.close()\n",
    "        f = open(\"../Data (Algebra 1)/Demographics/Simulations (new out)/Demographics/in4N.csv\", \"a\")\n",
    "        np.savetxt(f, in4N,delimiter=',')\n",
    "        f.close()\n",
    "        f = open(\"../Data (Algebra 1)/Demographics/Simulations (new out)/Demographics/out4N.csv\", \"a\")\n",
    "        np.savetxt(f, out4N,delimiter=',')\n",
    "        f.close()\n",
    "        f = open(\"../Data (Algebra 1)/Demographics/Simulations (new out)/Demographics/in5P.csv\", \"a\")\n",
    "        np.savetxt(f, in5P,delimiter=',')\n",
    "        f.close()\n",
    "        f = open(\"../Data (Algebra 1)/Demographics/Simulations (new out)/Demographics/out5P.csv\", \"a\")\n",
    "        np.savetxt(f, out5P,delimiter=',')\n",
    "        f.close()\n",
    "        f = open(\"../Data (Algebra 1)/Demographics/Simulations (new out)/Demographics/in5N.csv\", \"a\")\n",
    "        np.savetxt(f, in5N,delimiter=',')\n",
    "        f.close()\n",
    "        f = open(\"../Data (Algebra 1)/Demographics/Simulations (new out)/Demographics/out5N.csv\", \"a\")\n",
    "        np.savetxt(f, out5N,delimiter=',')\n",
    "        f.close()\n",
    "        f = open(\"../Data (Algebra 1)/Demographics/Simulations (new out)/Demographics/in6P.csv\", \"a\")\n",
    "        np.savetxt(f, in6P,delimiter=',')\n",
    "        f.close()\n",
    "        f = open(\"../Data (Algebra 1)/Demographics/Simulations (new out)/Demographics/out6P.csv\", \"a\")\n",
    "        np.savetxt(f, out6P,delimiter=',')\n",
    "        f.close()\n",
    "        f = open(\"../Data (Algebra 1)/Demographics/Simulations (new out)/Demographics/in6N.csv\", \"a\")\n",
    "        np.savetxt(f, in6N,delimiter=',')\n",
    "        f.close()\n",
    "        f = open(\"../Data (Algebra 1)/Demographics/Simulations (new out)/Demographics/out6N.csv\", \"a\")\n",
    "        np.savetxt(f, out6N,delimiter=',')\n",
    "        f.close()\n",
    "        \n",
    "    "
   ]
  },
  {
   "cell_type": "code",
   "execution_count": null,
   "metadata": {},
   "outputs": [],
   "source": []
  }
 ],
 "metadata": {
  "kernelspec": {
   "display_name": "Python [default]",
   "language": "python",
   "name": "python3"
  },
  "language_info": {
   "codemirror_mode": {
    "name": "ipython",
    "version": 3
   },
   "file_extension": ".py",
   "mimetype": "text/x-python",
   "name": "python",
   "nbconvert_exporter": "python",
   "pygments_lexer": "ipython3",
   "version": "3.5.6"
  }
 },
 "nbformat": 4,
 "nbformat_minor": 2
}
